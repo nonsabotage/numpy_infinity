{
 "metadata": {
  "language_info": {
   "codemirror_mode": {
    "name": "ipython",
    "version": 3
   },
   "file_extension": ".py",
   "mimetype": "text/x-python",
   "name": "python",
   "nbconvert_exporter": "python",
   "pygments_lexer": "ipython3",
   "version": "3.8.5-final"
  },
  "orig_nbformat": 2,
  "kernelspec": {
   "name": "python3",
   "display_name": "Python 3.8.5 64-bit (conda)",
   "metadata": {
    "interpreter": {
     "hash": "cef9e06bb236b2a8629b07e87a04b187b952a0f661eff5533360a155783f0c33"
    }
   }
  }
 },
 "nbformat": 4,
 "nbformat_minor": 2,
 "cells": [
  {
   "source": [
    "# Pythonの基礎\n",
    "\n",
    "\n",
    "## 学ぶこと\n",
    "\n",
    "- リスト・タプルの使い方\n",
    "- for,　多重ループ\n",
    "- インデックスとスライス\n",
    "\n"
   ],
   "cell_type": "markdown",
   "metadata": {}
  },
  {
   "cell_type": "code",
   "execution_count": 6,
   "metadata": {},
   "outputs": [
    {
     "output_type": "stream",
     "name": "stderr",
     "text": [
      "  % Total    % Received % Xferd  Average Speed   Time    Time     Time  Current\n                                 Dload  Upload   Total   Spent    Left  Speed\n\n  0     0    0     0    0     0      0      0 --:--:-- --:--:-- --:--:--     0\n100    80  100    80    0     0    462      0 --:--:-- --:--:-- --:--:--   462\n"
     ]
    }
   ],
   "source": [
    "!curl https://gist.githubusercontent.com/koshian2/731c26ce148e664192877510cbb08888/raw/9f3b31a6bb4abfb2bccc3365baa18f3434e98f9d/anko.txt -o ./dat/anko.txt\n"
   ]
  },
  {
   "cell_type": "code",
   "execution_count": 8,
   "metadata": {},
   "outputs": [
    {
     "output_type": "stream",
     "name": "stdout",
     "text": [
      "['こしあん', 'つぶあん', 'しろあん', 'ごまあん', 'うぐいすあん', '栗あん']\n"
     ]
    }
   ],
   "source": [
    "with open(\"dat/anko.txt\", encoding=\"utf-8\") as fp:\n",
    "    anko_data = fp.read().split(\"\\n\")\n",
    "\n",
    "print(anko_data)"
   ]
  },
  {
   "cell_type": "code",
   "execution_count": 9,
   "metadata": {},
   "outputs": [
    {
     "output_type": "stream",
     "name": "stdout",
     "text": [
      "こしあんはうまい\nつぶあんはうまい\nしろあんはうまい\nごまあんはうまい\nうぐいすあんはうまい\n栗あんはうまい\n"
     ]
    }
   ],
   "source": [
    "for anko in anko_data:\n",
    "    x = anko + \"はうまい\"\n",
    "    print(x)"
   ]
  },
  {
   "cell_type": "code",
   "execution_count": 11,
   "metadata": {},
   "outputs": [
    {
     "output_type": "stream",
     "name": "stdout",
     "text": [
      "こ\nし\nあ\nん\n-----\nつ\nぶ\nあ\nん\n-----\nし\nろ\nあ\nん\n-----\nご\nま\nあ\nん\n-----\nう\nぐ\nい\nす\nあ\nん\n-----\n栗\nあ\nん\n-----\n"
     ]
    }
   ],
   "source": [
    "for anko in anko_data:\n",
    "    for x in anko:\n",
    "        print(x)\n",
    "    print(\"-\" * 5)"
   ]
  },
  {
   "source": [
    "## 問題\n"
   ],
   "cell_type": "markdown",
   "metadata": {}
  },
  {
   "cell_type": "code",
   "execution_count": 13,
   "metadata": {},
   "outputs": [
    {
     "output_type": "stream",
     "name": "stdout",
     "text": [
      "[['こしあん', '大福'], ['ごまあん', 'あんぱん']]\n"
     ]
    }
   ],
   "source": [
    "# question 6\n",
    "anko_b = [[\"こしあん\", \"大福\"], [\"ごまあん\", \"あんぱん\"]]\n",
    "print(anko_b)\n"
   ]
  },
  {
   "cell_type": "code",
   "execution_count": 16,
   "metadata": {},
   "outputs": [
    {
     "output_type": "stream",
     "name": "stdout",
     "text": [
      "こしあん 大福 \n----\nごまあん あんぱん \n----\n"
     ]
    }
   ],
   "source": [
    "for anko in anko_b:\n",
    "    for x in anko:\n",
    "        print(x, end = \" \")\n",
    "    print (\"\\n\" +  \"-\" * 4)"
   ]
  },
  {
   "cell_type": "code",
   "execution_count": 18,
   "metadata": {},
   "outputs": [
    {
     "output_type": "stream",
     "name": "stdout",
     "text": [
      "大福\nあんぱん\n"
     ]
    }
   ],
   "source": [
    "for anko in anko_b:\n",
    "    print(anko[1])"
   ]
  },
  {
   "source": [
    "## リストの要素の追加・削除とパフォーマンス\n",
    "\n",
    "- Pythonのリストは連結リストのイメージなので末尾への要素追加はコストが小さい\n",
    "- 末尾へはappend，任意の箇所へはinsert\n",
    "\n"
   ],
   "cell_type": "markdown",
   "metadata": {}
  },
  {
   "cell_type": "code",
   "execution_count": 21,
   "metadata": {},
   "outputs": [
    {
     "output_type": "stream",
     "name": "stdout",
     "text": [
      "['つぶあん', 'こしあん', 'しろあん']\n"
     ]
    }
   ],
   "source": [
    "anko_list = [\"つぶあん\", \"こしあん\"]\n",
    "anko_list.append(\"しろあん\")\n",
    "print(anko_list)"
   ]
  },
  {
   "cell_type": "code",
   "execution_count": 22,
   "metadata": {},
   "outputs": [
    {
     "output_type": "stream",
     "name": "stdout",
     "text": [
      "['つぶあん', 'かぼちゃあん', 'こしあん', 'しろあん']\n"
     ]
    }
   ],
   "source": [
    "anko_list.insert(1, \"かぼちゃあん\")\n",
    "print(anko_list)"
   ]
  },
  {
   "source": [
    "### パフォーマンスの比較\n"
   ],
   "cell_type": "markdown",
   "metadata": {}
  },
  {
   "cell_type": "code",
   "execution_count": 26,
   "metadata": {},
   "outputs": [],
   "source": [
    "from mypy.mymodule import TimeExecute"
   ]
  },
  {
   "cell_type": "code",
   "execution_count": 27,
   "metadata": {},
   "outputs": [
    {
     "output_type": "stream",
     "name": "stdout",
     "text": [
      "27.925 [msec]\n"
     ]
    }
   ],
   "source": [
    "x = list(range(int(1e7)))\n",
    "with TimeExecute():\n",
    "    for i in range(int(1e4)):\n",
    "        x.append(i)\n",
    "    "
   ]
  },
  {
   "cell_type": "code",
   "execution_count": 28,
   "metadata": {},
   "outputs": [
    {
     "output_type": "stream",
     "name": "stdout",
     "text": [
      "104406.729 [msec]\n"
     ]
    }
   ],
   "source": [
    "x = list(range(int(1e7)))\n",
    "with TimeExecute():\n",
    "    for i in range(int(1e4)):\n",
    "        x.insert(0, i)"
   ]
  },
  {
   "cell_type": "code",
   "execution_count": null,
   "metadata": {},
   "outputs": [],
   "source": []
  }
 ]
}