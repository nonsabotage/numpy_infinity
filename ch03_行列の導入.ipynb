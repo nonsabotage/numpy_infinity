{
 "metadata": {
  "language_info": {
   "codemirror_mode": {
    "name": "ipython",
    "version": 3
   },
   "file_extension": ".py",
   "mimetype": "text/x-python",
   "name": "python",
   "nbconvert_exporter": "python",
   "pygments_lexer": "ipython3",
   "version": "3.8.5-final"
  },
  "orig_nbformat": 2,
  "kernelspec": {
   "name": "python3",
   "display_name": "Python 3",
   "language": "python"
  }
 },
 "nbformat": 4,
 "nbformat_minor": 2,
 "cells": [
  {
   "source": [
    "# 行列の導入\n",
    "\n",
    "## 学ぶこと\n",
    "\n",
    "- NumPy配列の結合：concatenate, stack\n",
    "- NumPy配列のshapeとaxis, 集約関数\n",
    "- 行列積の導入"
   ],
   "cell_type": "markdown",
   "metadata": {}
  },
  {
   "source": [
    "## 配列の結合"
   ],
   "cell_type": "markdown",
   "metadata": {}
  },
  {
   "source": [
    "### concatenate"
   ],
   "cell_type": "markdown",
   "metadata": {}
  },
  {
   "cell_type": "code",
   "execution_count": 1,
   "metadata": {},
   "outputs": [
    {
     "output_type": "execute_result",
     "data": {
      "text/plain": [
       "[1, 2, 3, 100, 101, 102]"
      ]
     },
     "metadata": {},
     "execution_count": 1
    }
   ],
   "source": [
    "a = [1, 2, 3]\n",
    "b = [100, 101, 102]\n",
    "a + b"
   ]
  },
  {
   "cell_type": "code",
   "execution_count": 2,
   "metadata": {},
   "outputs": [
    {
     "output_type": "execute_result",
     "data": {
      "text/plain": [
       "[1, 2, 3, [100, 101, 102]]"
      ]
     },
     "metadata": {},
     "execution_count": 2
    }
   ],
   "source": [
    "a.append(b)\n",
    "a"
   ]
  },
  {
   "cell_type": "code",
   "execution_count": 3,
   "metadata": {},
   "outputs": [
    {
     "output_type": "execute_result",
     "data": {
      "text/plain": [
       "array([  1,   2,   3, 100, 101, 102])"
      ]
     },
     "metadata": {},
     "execution_count": 3
    }
   ],
   "source": [
    "import numpy as np\n",
    "\n",
    "x = np.array([1, 2, 3])\n",
    "y = np.array([100, 101, 102])\n",
    "\n",
    "# numpyでは関数を使う\n",
    "np.concatenate([x, y])"
   ]
  },
  {
   "cell_type": "code",
   "execution_count": 4,
   "metadata": {},
   "outputs": [
    {
     "output_type": "execute_result",
     "data": {
      "text/plain": [
       "array([  1,   2,   3,   1,   2,   3, 100, 101, 102])"
      ]
     },
     "metadata": {},
     "execution_count": 4
    }
   ],
   "source": [
    "np.concatenate([x, x, y])"
   ]
  },
  {
   "cell_type": "code",
   "execution_count": 5,
   "metadata": {},
   "outputs": [
    {
     "output_type": "execute_result",
     "data": {
      "text/plain": [
       "array([1, 2, 3, 1, 2, 3, 1, 2, 3, 1, 2, 3])"
      ]
     },
     "metadata": {},
     "execution_count": 5
    }
   ],
   "source": [
    "np.concatenate([x] * 4)"
   ]
  },
  {
   "cell_type": "code",
   "execution_count": 6,
   "metadata": {},
   "outputs": [
    {
     "output_type": "execute_result",
     "data": {
      "text/plain": [
       "array([[1, 2, 3],\n",
       "       [1, 2, 3],\n",
       "       [1, 2, 3],\n",
       "       [1, 2, 3]])"
      ]
     },
     "metadata": {},
     "execution_count": 6
    }
   ],
   "source": [
    "np.array([x] * 4)"
   ]
  },
  {
   "source": [
    "### ベストプラクティス\n",
    "\n",
    "appendを使ってリストにためてからnp.arrayを適用するのと，np.concatenateでNumpy配列を結合するのではどちらが早いのだろうか?"
   ],
   "cell_type": "markdown",
   "metadata": {}
  },
  {
   "cell_type": "code",
   "execution_count": 7,
   "metadata": {},
   "outputs": [],
   "source": [
    "from mypy.mymodule import TimeExecute\n",
    "\n",
    "chunk_size = 100\n",
    "def pattern1():\n",
    "    x = []\n",
    "    for i in range(10000):\n",
    "        for j in range(chunk_size):\n",
    "            x.append(j)\n",
    "    x= np.array(x)\n",
    "\n",
    "def pattern2():\n",
    "    x = []\n",
    "    for i in range(10000):\n",
    "        x += list(range(chunk_size))\n",
    "    x = np.array(x)\n",
    "\n",
    "def pattern3():\n",
    "    x = []\n",
    "    for i in range(10000):\n",
    "        x.append(np.arange(chunk_size))\n",
    "    x = np.concatenate(x)\n",
    "\n",
    "def pattern4():\n",
    "    x = np.array([])\n",
    "    for i in range(10000):\n",
    "        x = np.concatenate([x, np.arange(chunk_size)])"
   ]
  },
  {
   "cell_type": "code",
   "execution_count": 8,
   "metadata": {},
   "outputs": [
    {
     "output_type": "stream",
     "name": "stdout",
     "text": [
      "120.707 [msec]\n"
     ]
    }
   ],
   "source": [
    "with TimeExecute():\n",
    "    pattern1()"
   ]
  },
  {
   "cell_type": "code",
   "execution_count": 9,
   "metadata": {},
   "outputs": [
    {
     "output_type": "stream",
     "name": "stdout",
     "text": [
      "78.789 [msec]\n"
     ]
    }
   ],
   "source": [
    "with TimeExecute():\n",
    "    pattern2()"
   ]
  },
  {
   "cell_type": "code",
   "execution_count": 10,
   "metadata": {},
   "outputs": [
    {
     "output_type": "stream",
     "name": "stdout",
     "text": [
      "15.930 [msec]\n"
     ]
    }
   ],
   "source": [
    "with TimeExecute():\n",
    "    pattern3()"
   ]
  },
  {
   "cell_type": "code",
   "execution_count": 11,
   "metadata": {},
   "outputs": [
    {
     "output_type": "stream",
     "name": "stdout",
     "text": [
      "13,593.241 [msec]\n"
     ]
    }
   ],
   "source": [
    "with TimeExecute():\n",
    "    pattern4()"
   ]
  },
  {
   "source": [
    "基本的にはpattern3, つまりNumPy配列をリストに入れる作業の後に，\n",
    "まとめて結合させるのが良い．\n",
    "chunk_sizeが小さい場合には他のpatternが優勢なときもある. \n",
    "\n",
    "配列は要素の結合などのように素数が変化する処理には向いていないため，\n",
    "結合回数を少なくすることがよい. \n"
   ],
   "cell_type": "markdown",
   "metadata": {}
  },
  {
   "source": [
    "## NumPy配列の分割\n"
   ],
   "cell_type": "markdown",
   "metadata": {}
  },
  {
   "source": [
    "### スライス\n",
    "\n",
    "普通に働くので省略."
   ],
   "cell_type": "markdown",
   "metadata": {}
  },
  {
   "source": [
    "### np.split"
   ],
   "cell_type": "markdown",
   "metadata": {}
  },
  {
   "source": [
    "あまり使う機会はあにが指定した数に要素を当分する. "
   ],
   "cell_type": "markdown",
   "metadata": {}
  },
  {
   "cell_type": "code",
   "execution_count": 12,
   "metadata": {},
   "outputs": [
    {
     "output_type": "stream",
     "name": "stdout",
     "text": [
      "[0 1 2 3]\n[4 5 6 7]\n"
     ]
    }
   ],
   "source": [
    "x    = np.arange(8)\n",
    "a, b = np.split(x, 2)\n",
    "print(a)\n",
    "print(b)"
   ]
  },
  {
   "source": [
    "## 多次元リストと多次元配列"
   ],
   "cell_type": "markdown",
   "metadata": {}
  },
  {
   "cell_type": "code",
   "execution_count": 13,
   "metadata": {},
   "outputs": [
    {
     "output_type": "execute_result",
     "data": {
      "text/plain": [
       "array([[ 1,  2,  3],\n",
       "       [11, 12, 13],\n",
       "       [21, 22, 23],\n",
       "       [31, 32, 33]])"
      ]
     },
     "metadata": {},
     "execution_count": 13
    }
   ],
   "source": [
    "x = np.array([np.arange(1, 4)] * 4) + np.array(np.arange(4) * 10).reshape(4, 1)\n",
    "x"
   ]
  },
  {
   "cell_type": "code",
   "execution_count": 14,
   "metadata": {},
   "outputs": [
    {
     "output_type": "execute_result",
     "data": {
      "text/plain": [
       "array([1, 2, 3])"
      ]
     },
     "metadata": {},
     "execution_count": 14
    }
   ],
   "source": [
    "# 1行目\n",
    "x[0]"
   ]
  },
  {
   "cell_type": "code",
   "execution_count": 15,
   "metadata": {},
   "outputs": [
    {
     "output_type": "execute_result",
     "data": {
      "text/plain": [
       "array([ 1, 11, 21, 31])"
      ]
     },
     "metadata": {},
     "execution_count": 15
    }
   ],
   "source": [
    "# 1列目\n",
    "x[:, 0]"
   ]
  },
  {
   "cell_type": "code",
   "execution_count": 16,
   "metadata": {},
   "outputs": [
    {
     "output_type": "execute_result",
     "data": {
      "text/plain": [
       "(1, 1)"
      ]
     },
     "metadata": {},
     "execution_count": 16
    }
   ],
   "source": [
    "# 1要素\n",
    "x[0,0], x[0][0]"
   ]
  },
  {
   "cell_type": "code",
   "execution_count": 17,
   "metadata": {},
   "outputs": [
    {
     "output_type": "execute_result",
     "data": {
      "text/plain": [
       "array([1])"
      ]
     },
     "metadata": {},
     "execution_count": 17
    }
   ],
   "source": [
    "# 1要素を配列で\n",
    "x[0, 0:1]"
   ]
  },
  {
   "source": [
    "### 行列の積み上げ\n",
    "\n",
    "np.concatenateは末尾への結合であったが，np.stackは配列を積み重ねていくことが可能である. \n"
   ],
   "cell_type": "markdown",
   "metadata": {}
  },
  {
   "cell_type": "code",
   "execution_count": 18,
   "metadata": {},
   "outputs": [
    {
     "output_type": "execute_result",
     "data": {
      "text/plain": [
       "array([0, 1, 2, 3, 4, 5])"
      ]
     },
     "metadata": {},
     "execution_count": 18
    }
   ],
   "source": [
    "x1 = np.arange(3)\n",
    "x2 = 3 + np.arange(3)\n",
    "np.concatenate([x1, x2])"
   ]
  },
  {
   "cell_type": "code",
   "execution_count": 19,
   "metadata": {},
   "outputs": [
    {
     "output_type": "execute_result",
     "data": {
      "text/plain": [
       "array([[0, 1, 2],\n",
       "       [3, 4, 5]])"
      ]
     },
     "metadata": {},
     "execution_count": 19
    }
   ],
   "source": [
    "np.stack([x1, x2])"
   ]
  },
  {
   "source": [
    "## 多次元配列のスライスの解釈"
   ],
   "cell_type": "markdown",
   "metadata": {}
  },
  {
   "cell_type": "code",
   "execution_count": 20,
   "metadata": {},
   "outputs": [
    {
     "output_type": "execute_result",
     "data": {
      "text/plain": [
       "array([[100,  50,  50],\n",
       "       [ 50,  30, 100],\n",
       "       [ 50,  50,  70],\n",
       "       [100,  50, 100]])"
      ]
     },
     "metadata": {},
     "execution_count": 20
    }
   ],
   "source": [
    "anko_sell = np.array([[100, 50, 50], [50, 30, 100],[50, 50, 70], [100, 50, 100]])\n",
    "anko_sell"
   ]
  },
  {
   "cell_type": "code",
   "execution_count": 21,
   "metadata": {},
   "outputs": [
    {
     "output_type": "execute_result",
     "data": {
      "text/plain": [
       "array([100,  50,  50])"
      ]
     },
     "metadata": {},
     "execution_count": 21
    }
   ],
   "source": [
    "anko_sell[0, ]"
   ]
  },
  {
   "cell_type": "code",
   "execution_count": 22,
   "metadata": {},
   "outputs": [
    {
     "output_type": "execute_result",
     "data": {
      "text/plain": [
       "array([100,  50,  50, 100])"
      ]
     },
     "metadata": {},
     "execution_count": 22
    }
   ],
   "source": [
    "anko_sell[:, 0]"
   ]
  },
  {
   "cell_type": "code",
   "execution_count": 23,
   "metadata": {},
   "outputs": [
    {
     "output_type": "execute_result",
     "data": {
      "text/plain": [
       "array([[100,  50,  50],\n",
       "       [ 50,  50,  70]])"
      ]
     },
     "metadata": {},
     "execution_count": 23
    }
   ],
   "source": [
    "anko_sell[::2, ::]"
   ]
  },
  {
   "source": [
    "### 行と列が反転したときのスライス"
   ],
   "cell_type": "markdown",
   "metadata": {}
  },
  {
   "cell_type": "code",
   "execution_count": 24,
   "metadata": {},
   "outputs": [
    {
     "output_type": "execute_result",
     "data": {
      "text/plain": [
       "array([[100,  50,  50, 100],\n",
       "       [ 50,  30,  50,  50],\n",
       "       [ 50, 100,  70, 100]])"
      ]
     },
     "metadata": {},
     "execution_count": 24
    }
   ],
   "source": [
    "annko_vertical = anko_sell.T\n",
    "annko_vertical"
   ]
  },
  {
   "source": [
    "### スライスと識別子\n",
    "\n",
    "スライスしたときに作成されるのは元の変数のViewである．\n",
    "\n",
    "スライスで作ったViewと元の変数は識別しが異なる，ということになる.\n",
    "\n",
    "ただし配列を抜けるとそれは数値になるので，そこでも識別子は異なる. \n"
   ],
   "cell_type": "markdown",
   "metadata": {}
  },
  {
   "cell_type": "code",
   "execution_count": 25,
   "metadata": {},
   "outputs": [
    {
     "output_type": "stream",
     "name": "stdout",
     "text": [
      "2069956510544\n2069956510544\n2069956510384\n"
     ]
    }
   ],
   "source": [
    "x = np.arange(5)\n",
    "print(id(x[::]))\n",
    "print(id(x[:]))\n",
    "print(id(x))\n"
   ]
  },
  {
   "cell_type": "code",
   "execution_count": 26,
   "metadata": {},
   "outputs": [
    {
     "output_type": "stream",
     "name": "stdout",
     "text": [
      "2069956510384\n2069956510384\n2069939621648\n2069956510384\n"
     ]
    }
   ],
   "source": [
    "x = np.array([[1, 2, 3], [11, 12, 13], [21, 22, 23]])\n",
    "print(id(x[1,::]))\n",
    "print(id(x[1,:]))\n",
    "print(id(x[1,1]))\n",
    "print(id(x[1]))"
   ]
  },
  {
   "source": [
    "## NumPy配列のshape"
   ],
   "cell_type": "markdown",
   "metadata": {}
  },
  {
   "cell_type": "code",
   "execution_count": 27,
   "metadata": {},
   "outputs": [
    {
     "output_type": "stream",
     "name": "stdout",
     "text": [
      "(5,)\n5\n"
     ]
    }
   ],
   "source": [
    "x = np.arange(5)\n",
    "print(x.shape)\n",
    "print(len(x))"
   ]
  },
  {
   "cell_type": "code",
   "execution_count": 28,
   "metadata": {},
   "outputs": [
    {
     "output_type": "stream",
     "name": "stdout",
     "text": [
      "(3, 2)\n3\n"
     ]
    }
   ],
   "source": [
    "x = np.array([[1,2], [3,4], [5,6]])\n",
    "print(x.shape)\n",
    "print(len(x))"
   ]
  },
  {
   "source": [
    "## 集約関数\n"
   ],
   "cell_type": "markdown",
   "metadata": {}
  },
  {
   "cell_type": "code",
   "execution_count": 29,
   "metadata": {},
   "outputs": [
    {
     "output_type": "stream",
     "name": "stdout",
     "text": [
      "62\n278784\n12.4\n1.8547236990991407\n12.0\n5\n16\n11\n0\n3\n"
     ]
    }
   ],
   "source": [
    "x = np.array([16, 12, 12, 11, 11])\n",
    "print(np.sum(x)) # 62\n",
    "print(np.prod(x)) # 278784p\n",
    "ｐrint(np.mean(x)) # 12.4\n",
    "print(np.std(x)) # 1.8547236990991407\n",
    "print(np.median(x)) # 12.0\n",
    "print(len(x)) # 5\n",
    "print(np.max(x)) # 16\n",
    "print(np.min(x)) # 11\n",
    "print(np.argmax(x)) \n",
    "print(np.argmin(x))"
   ]
  },
  {
   "source": [
    "集約関数ではないが，いわゆる最大値の管理，最小値の管理とう面で活用出来るのがnp.maxmium/minimumである．これらの関数はnp.clipと等価である. "
   ],
   "cell_type": "markdown",
   "metadata": {}
  },
  {
   "cell_type": "code",
   "execution_count": 30,
   "metadata": {},
   "outputs": [
    {
     "output_type": "stream",
     "name": "stdout",
     "text": [
      "[3 3 3 3 4 5 6 7 7 7]\n[3 3 3 3 4 5 6 7 7 7]\n"
     ]
    }
   ],
   "source": [
    "x = np.arange(10)\n",
    "print(np.maximum(np.minimum(x, 7), 3)) # [3 3 3 3 4 5 6 7 7 7]\n",
    "print(np.minimum(np.maximum(x, 3), 7))"
   ]
  },
  {
   "cell_type": "code",
   "execution_count": 31,
   "metadata": {},
   "outputs": [
    {
     "output_type": "execute_result",
     "data": {
      "text/plain": [
       "array([3, 3, 3, 3, 4, 5, 6, 7, 7, 7])"
      ]
     },
     "metadata": {},
     "execution_count": 31
    }
   ],
   "source": [
    "np.clip(x, 3, 7)"
   ]
  },
  {
   "source": [
    "## 多次元配列と集約関数のaxis"
   ],
   "cell_type": "markdown",
   "metadata": {}
  },
  {
   "cell_type": "code",
   "execution_count": 32,
   "metadata": {},
   "outputs": [
    {
     "output_type": "stream",
     "name": "stdout",
     "text": [
      "800\n"
     ]
    }
   ],
   "source": [
    "anko_sell = np.array(\n",
    "    [[100, 50, 50], [50, 30, 100],[50, 50, 70], [100, 50, 100]])\n",
    "print(np.sum(anko_sell)) "
   ]
  },
  {
   "cell_type": "code",
   "execution_count": 33,
   "metadata": {},
   "outputs": [
    {
     "output_type": "stream",
     "name": "stdout",
     "text": [
      "月単位 [200 180 170 250]\n"
     ]
    }
   ],
   "source": [
    "# 月単位\n",
    "print(\"月単位\", np.sum(anko_sell, axis = 1))"
   ]
  },
  {
   "cell_type": "code",
   "execution_count": 34,
   "metadata": {},
   "outputs": [
    {
     "output_type": "stream",
     "name": "stdout",
     "text": [
      "商品単位 [300 180 320]\n"
     ]
    }
   ],
   "source": [
    "# 商品単位\n",
    "print(\"商品単位\", np.sum(anko_sell, axis = 0))\n"
   ]
  },
  {
   "source": [
    "## 多次元配列の次元\n",
    "\n",
    "numpy配列の次元とは`len(x.shape)`である.\n"
   ],
   "cell_type": "markdown",
   "metadata": {}
  },
  {
   "source": [
    "## 多次元配列化出来ない「リストのリスト」\n",
    "\n",
    "リストのリストは通常，NumPyヘア塚しても多次元配列にはならないが，入れ子になった内側のリストの要素数が全て同じ，つまり多次元リストに限定すれば多次元配列となる. \n",
    "\n",
    "とはいえ，下記とおり思わぬエラーが発生するもとであるので，基本的にはリストのリストか直接多次元配列を作成することはやめておいた方が良い. \n"
   ],
   "cell_type": "markdown",
   "metadata": {}
  },
  {
   "cell_type": "code",
   "execution_count": 35,
   "metadata": {},
   "outputs": [
    {
     "output_type": "stream",
     "name": "stdout",
     "text": [
      "[[1, 2], [3, 4, 5], [6, 7, 8, 9]]\n[list([1, 2]) list([3, 4, 5]) list([6, 7, 8, 9])]\nobject\n(3,)\n"
     ]
    },
    {
     "output_type": "error",
     "ename": "IndexError",
     "evalue": "too many indices for array: array is 1-dimensional, but 2 were indexed",
     "traceback": [
      "\u001b[1;31m---------------------------------------------------------------------------\u001b[0m",
      "\u001b[1;31mIndexError\u001b[0m                                Traceback (most recent call last)",
      "\u001b[1;32m<ipython-input-35-7b13c4b5e3d2>\u001b[0m in \u001b[0;36m<module>\u001b[1;34m\u001b[0m\n\u001b[0;32m      5\u001b[0m \u001b[0mprint\u001b[0m\u001b[1;33m(\u001b[0m\u001b[0mx\u001b[0m\u001b[1;33m.\u001b[0m\u001b[0mdtype\u001b[0m\u001b[1;33m)\u001b[0m \u001b[1;31m# object型になる\u001b[0m\u001b[1;33m\u001b[0m\u001b[1;33m\u001b[0m\u001b[0m\n\u001b[0;32m      6\u001b[0m \u001b[0mprint\u001b[0m\u001b[1;33m(\u001b[0m\u001b[0mx\u001b[0m\u001b[1;33m.\u001b[0m\u001b[0mshape\u001b[0m\u001b[1;33m)\u001b[0m \u001b[1;31m# あたかも1次元配列のようにみなされる\u001b[0m\u001b[1;33m\u001b[0m\u001b[1;33m\u001b[0m\u001b[0m\n\u001b[1;32m----> 7\u001b[1;33m \u001b[0mprint\u001b[0m\u001b[1;33m(\u001b[0m\u001b[0mx\u001b[0m\u001b[1;33m[\u001b[0m\u001b[1;33m:\u001b[0m\u001b[1;33m,\u001b[0m \u001b[1;36m1\u001b[0m\u001b[1;33m]\u001b[0m\u001b[1;33m)\u001b[0m \u001b[1;31m# これはエラー\u001b[0m\u001b[1;33m\u001b[0m\u001b[1;33m\u001b[0m\u001b[0m\n\u001b[0m",
      "\u001b[1;31mIndexError\u001b[0m: too many indices for array: array is 1-dimensional, but 2 were indexed"
     ]
    }
   ],
   "source": [
    "x = [[1, 2], [3, 4, 5], [6, 7, 8, 9]]\n",
    "print(x)\n",
    "x = np.array(x)\n",
    "print(x) # エラーにはならないが、多次元配列ではない\n",
    "print(x.dtype) # object型になる\n",
    "print(x.shape) # あたかも1次元配列のようにみなされる\n",
    "print(x[:, 1]) # これはエラー"
   ]
  },
  {
   "source": [
    "## 配列の結合でのaxis"
   ],
   "cell_type": "markdown",
   "metadata": {}
  },
  {
   "source": [
    "## 行列の導入"
   ],
   "cell_type": "markdown",
   "metadata": {}
  },
  {
   "cell_type": "code",
   "execution_count": 37,
   "metadata": {},
   "outputs": [
    {
     "output_type": "stream",
     "name": "stdout",
     "text": [
      "(3,)\n(3, 1)\n(3, 1)\n(3,)\n"
     ]
    }
   ],
   "source": [
    "sell_amount = np.array([[20, 10, 15], [15, 15, 20],[30, 25, 25]])\n",
    "price = np.array([120, 120, 180])\n",
    "print(price.shape) # (3, )\n",
    "p = np.expand_dims(price, axis=-1) # 行列にするために軸を増やす。要素数1の軸を作る\n",
    "print(p.shape) # (3, 1) これで行列になる\n",
    "result = np.dot(sell_amount, p) # (3, 3) x (3, 1)の行列積\n",
    "print(result.shape) # (3, 1)\n",
    "result = result[:, 0] # 末尾の軸がいらないのでスライス\n",
    "print(result.shape) # (3, ) ベクトルに戻ったprint(result"
   ]
  },
  {
   "source": [
    "## 演習問題\n",
    "\n",
    "### q1:np.concatenate"
   ],
   "cell_type": "markdown",
   "metadata": {}
  },
  {
   "cell_type": "code",
   "execution_count": 41,
   "metadata": {},
   "outputs": [
    {
     "output_type": "execute_result",
     "data": {
      "text/plain": [
       "array([0, 1, 2, 3, 4, 0, 1, 2])"
      ]
     },
     "metadata": {},
     "execution_count": 41
    }
   ],
   "source": [
    "a = np.arange(5)\n",
    "b = np.arange(3)\n",
    "np.concatenate([a, b])"
   ]
  },
  {
   "cell_type": "code",
   "execution_count": 42,
   "metadata": {},
   "outputs": [
    {
     "output_type": "error",
     "ename": "ValueError",
     "evalue": "all the input arrays must have same number of dimensions, but the array at index 0 has 1 dimension(s) and the array at index 1 has 0 dimension(s)",
     "traceback": [
      "\u001b[1;31m---------------------------------------------------------------------------\u001b[0m",
      "\u001b[1;31mValueError\u001b[0m                                Traceback (most recent call last)",
      "\u001b[1;32m<ipython-input-42-3eb57bb2af36>\u001b[0m in \u001b[0;36m<module>\u001b[1;34m\u001b[0m\n\u001b[0;32m      1\u001b[0m \u001b[0ma\u001b[0m \u001b[1;33m=\u001b[0m \u001b[0mnp\u001b[0m\u001b[1;33m.\u001b[0m\u001b[0marange\u001b[0m\u001b[1;33m(\u001b[0m\u001b[1;36m5\u001b[0m\u001b[1;33m)\u001b[0m\u001b[1;33m\u001b[0m\u001b[1;33m\u001b[0m\u001b[0m\n\u001b[0;32m      2\u001b[0m \u001b[0mb\u001b[0m \u001b[1;33m=\u001b[0m \u001b[1;36m0\u001b[0m\u001b[1;33m\u001b[0m\u001b[1;33m\u001b[0m\u001b[0m\n\u001b[1;32m----> 3\u001b[1;33m \u001b[0mnp\u001b[0m\u001b[1;33m.\u001b[0m\u001b[0mconcatenate\u001b[0m\u001b[1;33m(\u001b[0m\u001b[1;33m[\u001b[0m\u001b[0ma\u001b[0m\u001b[1;33m,\u001b[0m \u001b[0mb\u001b[0m\u001b[1;33m]\u001b[0m\u001b[1;33m)\u001b[0m\u001b[1;33m\u001b[0m\u001b[1;33m\u001b[0m\u001b[0m\n\u001b[0m",
      "\u001b[1;32m<__array_function__ internals>\u001b[0m in \u001b[0;36mconcatenate\u001b[1;34m(*args, **kwargs)\u001b[0m\n",
      "\u001b[1;31mValueError\u001b[0m: all the input arrays must have same number of dimensions, but the array at index 0 has 1 dimension(s) and the array at index 1 has 0 dimension(s)"
     ]
    }
   ],
   "source": [
    "a = np.arange(5)\n",
    "b = 0\n",
    "np.concatenate([a, b])"
   ]
  },
  {
   "cell_type": "code",
   "execution_count": 44,
   "metadata": {},
   "outputs": [
    {
     "output_type": "execute_result",
     "data": {
      "text/plain": [
       "array([0, 1, 2, 3, 4, 0, 1, 2, 3, 4, 5, 6])"
      ]
     },
     "metadata": {},
     "execution_count": 44
    }
   ],
   "source": [
    "a = np.arange(5)\n",
    "b = np.arange(7)\n",
    "np.concatenate([a,b], axis = 0)"
   ]
  },
  {
   "cell_type": "code",
   "execution_count": 45,
   "metadata": {},
   "outputs": [
    {
     "output_type": "error",
     "ename": "AxisError",
     "evalue": "axis 1 is out of bounds for array of dimension 1",
     "traceback": [
      "\u001b[1;31m---------------------------------------------------------------------------\u001b[0m",
      "\u001b[1;31mAxisError\u001b[0m                                 Traceback (most recent call last)",
      "\u001b[1;32m<ipython-input-45-3f904d3ecdb8>\u001b[0m in \u001b[0;36m<module>\u001b[1;34m\u001b[0m\n\u001b[1;32m----> 1\u001b[1;33m \u001b[0mnp\u001b[0m\u001b[1;33m.\u001b[0m\u001b[0mconcatenate\u001b[0m\u001b[1;33m(\u001b[0m\u001b[1;33m[\u001b[0m\u001b[0ma\u001b[0m\u001b[1;33m,\u001b[0m \u001b[0mb\u001b[0m\u001b[1;33m]\u001b[0m\u001b[1;33m,\u001b[0m \u001b[0maxis\u001b[0m \u001b[1;33m=\u001b[0m \u001b[1;36m1\u001b[0m\u001b[1;33m)\u001b[0m\u001b[1;33m\u001b[0m\u001b[1;33m\u001b[0m\u001b[0m\n\u001b[0m",
      "\u001b[1;32m<__array_function__ internals>\u001b[0m in \u001b[0;36mconcatenate\u001b[1;34m(*args, **kwargs)\u001b[0m\n",
      "\u001b[1;31mAxisError\u001b[0m: axis 1 is out of bounds for array of dimension 1"
     ]
    }
   ],
   "source": [
    "np.concatenate([a, b], axis = 1)"
   ]
  },
  {
   "cell_type": "code",
   "execution_count": 47,
   "metadata": {},
   "outputs": [
    {
     "output_type": "execute_result",
     "data": {
      "text/plain": [
       "array([0, 1, 2, 3, 4, 5, 6, 7, 8, 0, 1, 2, 3, 4, 5, 6, 7, 8, 0, 1, 2, 3,\n",
       "       4, 5, 6, 7, 8, 0, 1, 2, 3, 4, 5, 6, 7, 8, 0, 1, 2, 3, 4, 5, 6, 7,\n",
       "       8, 0, 1, 2, 3, 4, 5, 6, 7, 8, 0, 1, 2, 3, 4, 5, 6, 7, 8, 0, 1, 2,\n",
       "       3, 4, 5, 6, 7, 8, 0, 1, 2, 3, 4, 5, 6, 7, 8, 0, 1, 2, 3, 4, 5, 6,\n",
       "       7, 8])"
      ]
     },
     "metadata": {},
     "execution_count": 47
    }
   ],
   "source": [
    "np.concatenate([np.arange(9) for _ in range(10)])"
   ]
  },
  {
   "source": [
    "### q2:np.stack\n"
   ],
   "cell_type": "markdown",
   "metadata": {}
  },
  {
   "cell_type": "code",
   "execution_count": 48,
   "metadata": {},
   "outputs": [
    {
     "output_type": "execute_result",
     "data": {
      "text/plain": [
       "array([[0, 1, 2, 3, 4],\n",
       "       [0, 1, 2, 3, 4]])"
      ]
     },
     "metadata": {},
     "execution_count": 48
    }
   ],
   "source": [
    "np.stack([np.arange(5) for i in range(2)], axis = 0)"
   ]
  },
  {
   "cell_type": "code",
   "execution_count": 49,
   "metadata": {},
   "outputs": [
    {
     "output_type": "execute_result",
     "data": {
      "text/plain": [
       "array([[0, 1, 2, 3, 4],\n",
       "       [0, 1, 2, 3, 4]])"
      ]
     },
     "metadata": {},
     "execution_count": 49
    }
   ],
   "source": [
    "np.vstack([np.arange(5) for i in range(2)])"
   ]
  },
  {
   "cell_type": "code",
   "execution_count": 50,
   "metadata": {},
   "outputs": [
    {
     "output_type": "execute_result",
     "data": {
      "text/plain": [
       "array([[0, 0],\n",
       "       [1, 1],\n",
       "       [2, 2],\n",
       "       [3, 3],\n",
       "       [4, 4]])"
      ]
     },
     "metadata": {},
     "execution_count": 50
    }
   ],
   "source": [
    "np.stack([np.arange(5) for i in range(2)], axis = 1)"
   ]
  },
  {
   "cell_type": "code",
   "execution_count": 52,
   "metadata": {},
   "outputs": [
    {
     "output_type": "error",
     "ename": "ValueError",
     "evalue": "all input arrays must have the same shape",
     "traceback": [
      "\u001b[1;31m---------------------------------------------------------------------------\u001b[0m",
      "\u001b[1;31mValueError\u001b[0m                                Traceback (most recent call last)",
      "\u001b[1;32m<ipython-input-52-39a67970cdd7>\u001b[0m in \u001b[0;36m<module>\u001b[1;34m\u001b[0m\n\u001b[1;32m----> 1\u001b[1;33m \u001b[0mnp\u001b[0m\u001b[1;33m.\u001b[0m\u001b[0mstack\u001b[0m\u001b[1;33m(\u001b[0m\u001b[1;33m[\u001b[0m\u001b[0mnp\u001b[0m\u001b[1;33m.\u001b[0m\u001b[0marange\u001b[0m\u001b[1;33m(\u001b[0m\u001b[0mi\u001b[0m \u001b[1;33m+\u001b[0m \u001b[1;36m2\u001b[0m\u001b[1;33m)\u001b[0m \u001b[1;32mfor\u001b[0m \u001b[0mi\u001b[0m \u001b[1;32min\u001b[0m \u001b[0mrange\u001b[0m\u001b[1;33m(\u001b[0m\u001b[1;36m4\u001b[0m\u001b[1;33m)\u001b[0m\u001b[1;33m]\u001b[0m\u001b[1;33m,\u001b[0m \u001b[0maxis\u001b[0m \u001b[1;33m=\u001b[0m \u001b[1;36m0\u001b[0m\u001b[1;33m)\u001b[0m\u001b[1;33m\u001b[0m\u001b[1;33m\u001b[0m\u001b[0m\n\u001b[0m",
      "\u001b[1;32m<__array_function__ internals>\u001b[0m in \u001b[0;36mstack\u001b[1;34m(*args, **kwargs)\u001b[0m\n",
      "\u001b[1;32mC:\\anaconda3\\lib\\site-packages\\numpy\\core\\shape_base.py\u001b[0m in \u001b[0;36mstack\u001b[1;34m(arrays, axis, out)\u001b[0m\n\u001b[0;32m    425\u001b[0m     \u001b[0mshapes\u001b[0m \u001b[1;33m=\u001b[0m \u001b[1;33m{\u001b[0m\u001b[0marr\u001b[0m\u001b[1;33m.\u001b[0m\u001b[0mshape\u001b[0m \u001b[1;32mfor\u001b[0m \u001b[0marr\u001b[0m \u001b[1;32min\u001b[0m \u001b[0marrays\u001b[0m\u001b[1;33m}\u001b[0m\u001b[1;33m\u001b[0m\u001b[1;33m\u001b[0m\u001b[0m\n\u001b[0;32m    426\u001b[0m     \u001b[1;32mif\u001b[0m \u001b[0mlen\u001b[0m\u001b[1;33m(\u001b[0m\u001b[0mshapes\u001b[0m\u001b[1;33m)\u001b[0m \u001b[1;33m!=\u001b[0m \u001b[1;36m1\u001b[0m\u001b[1;33m:\u001b[0m\u001b[1;33m\u001b[0m\u001b[1;33m\u001b[0m\u001b[0m\n\u001b[1;32m--> 427\u001b[1;33m         \u001b[1;32mraise\u001b[0m \u001b[0mValueError\u001b[0m\u001b[1;33m(\u001b[0m\u001b[1;34m'all input arrays must have the same shape'\u001b[0m\u001b[1;33m)\u001b[0m\u001b[1;33m\u001b[0m\u001b[1;33m\u001b[0m\u001b[0m\n\u001b[0m\u001b[0;32m    428\u001b[0m \u001b[1;33m\u001b[0m\u001b[0m\n\u001b[0;32m    429\u001b[0m     \u001b[0mresult_ndim\u001b[0m \u001b[1;33m=\u001b[0m \u001b[0marrays\u001b[0m\u001b[1;33m[\u001b[0m\u001b[1;36m0\u001b[0m\u001b[1;33m]\u001b[0m\u001b[1;33m.\u001b[0m\u001b[0mndim\u001b[0m \u001b[1;33m+\u001b[0m \u001b[1;36m1\u001b[0m\u001b[1;33m\u001b[0m\u001b[1;33m\u001b[0m\u001b[0m\n",
      "\u001b[1;31mValueError\u001b[0m: all input arrays must have the same shape"
     ]
    }
   ],
   "source": [
    "np.stack([np.arange(i + 2) for i in range(4)], axis = 0)"
   ]
  },
  {
   "cell_type": "code",
   "execution_count": 54,
   "metadata": {},
   "outputs": [
    {
     "output_type": "error",
     "ename": "AxisError",
     "evalue": "axis 2 is out of bounds for array of dimension 2",
     "traceback": [
      "\u001b[1;31m---------------------------------------------------------------------------\u001b[0m",
      "\u001b[1;31mAxisError\u001b[0m                                 Traceback (most recent call last)",
      "\u001b[1;32m<ipython-input-54-1d9d105f408b>\u001b[0m in \u001b[0;36m<module>\u001b[1;34m\u001b[0m\n\u001b[1;32m----> 1\u001b[1;33m \u001b[0mnp\u001b[0m\u001b[1;33m.\u001b[0m\u001b[0mstack\u001b[0m\u001b[1;33m(\u001b[0m\u001b[1;33m[\u001b[0m\u001b[0mnp\u001b[0m\u001b[1;33m.\u001b[0m\u001b[0marange\u001b[0m\u001b[1;33m(\u001b[0m\u001b[1;36m2\u001b[0m\u001b[1;33m)\u001b[0m \u001b[1;32mfor\u001b[0m \u001b[0m_\u001b[0m \u001b[1;32min\u001b[0m \u001b[0mrange\u001b[0m\u001b[1;33m(\u001b[0m\u001b[1;36m8\u001b[0m\u001b[1;33m)\u001b[0m\u001b[1;33m]\u001b[0m\u001b[1;33m,\u001b[0m \u001b[0maxis\u001b[0m \u001b[1;33m=\u001b[0m \u001b[1;36m2\u001b[0m\u001b[1;33m)\u001b[0m\u001b[1;33m\u001b[0m\u001b[1;33m\u001b[0m\u001b[0m\n\u001b[0m",
      "\u001b[1;32m<__array_function__ internals>\u001b[0m in \u001b[0;36mstack\u001b[1;34m(*args, **kwargs)\u001b[0m\n",
      "\u001b[1;32mC:\\anaconda3\\lib\\site-packages\\numpy\\core\\shape_base.py\u001b[0m in \u001b[0;36mstack\u001b[1;34m(arrays, axis, out)\u001b[0m\n\u001b[0;32m    428\u001b[0m \u001b[1;33m\u001b[0m\u001b[0m\n\u001b[0;32m    429\u001b[0m     \u001b[0mresult_ndim\u001b[0m \u001b[1;33m=\u001b[0m \u001b[0marrays\u001b[0m\u001b[1;33m[\u001b[0m\u001b[1;36m0\u001b[0m\u001b[1;33m]\u001b[0m\u001b[1;33m.\u001b[0m\u001b[0mndim\u001b[0m \u001b[1;33m+\u001b[0m \u001b[1;36m1\u001b[0m\u001b[1;33m\u001b[0m\u001b[1;33m\u001b[0m\u001b[0m\n\u001b[1;32m--> 430\u001b[1;33m     \u001b[0maxis\u001b[0m \u001b[1;33m=\u001b[0m \u001b[0mnormalize_axis_index\u001b[0m\u001b[1;33m(\u001b[0m\u001b[0maxis\u001b[0m\u001b[1;33m,\u001b[0m \u001b[0mresult_ndim\u001b[0m\u001b[1;33m)\u001b[0m\u001b[1;33m\u001b[0m\u001b[1;33m\u001b[0m\u001b[0m\n\u001b[0m\u001b[0;32m    431\u001b[0m \u001b[1;33m\u001b[0m\u001b[0m\n\u001b[0;32m    432\u001b[0m     \u001b[0msl\u001b[0m \u001b[1;33m=\u001b[0m \u001b[1;33m(\u001b[0m\u001b[0mslice\u001b[0m\u001b[1;33m(\u001b[0m\u001b[1;32mNone\u001b[0m\u001b[1;33m)\u001b[0m\u001b[1;33m,\u001b[0m\u001b[1;33m)\u001b[0m \u001b[1;33m*\u001b[0m \u001b[0maxis\u001b[0m \u001b[1;33m+\u001b[0m \u001b[1;33m(\u001b[0m\u001b[0m_nx\u001b[0m\u001b[1;33m.\u001b[0m\u001b[0mnewaxis\u001b[0m\u001b[1;33m,\u001b[0m\u001b[1;33m)\u001b[0m\u001b[1;33m\u001b[0m\u001b[1;33m\u001b[0m\u001b[0m\n",
      "\u001b[1;31mAxisError\u001b[0m: axis 2 is out of bounds for array of dimension 2"
     ]
    }
   ],
   "source": [
    "np.stack([np.arange(2) for _ in range(8)], axis = 2)"
   ]
  },
  {
   "cell_type": "code",
   "execution_count": 55,
   "metadata": {},
   "outputs": [
    {
     "output_type": "execute_result",
     "data": {
      "text/plain": [
       "array([[0, 0, 0, 0, 0, 0, 0, 0],\n",
       "       [1, 1, 1, 1, 1, 1, 1, 1]])"
      ]
     },
     "metadata": {},
     "execution_count": 55
    }
   ],
   "source": [
    "np.stack([np.arange(2) for _ in range(8)], axis = -1)"
   ]
  },
  {
   "cell_type": "code",
   "execution_count": 56,
   "metadata": {},
   "outputs": [
    {
     "output_type": "execute_result",
     "data": {
      "text/plain": [
       "array([[0, 1],\n",
       "       [0, 1],\n",
       "       [0, 1],\n",
       "       [0, 1],\n",
       "       [0, 1],\n",
       "       [0, 1],\n",
       "       [0, 1],\n",
       "       [0, 1]])"
      ]
     },
     "metadata": {},
     "execution_count": 56
    }
   ],
   "source": [
    "np.stack([np.arange(2) for _ in range(8)], axis = -2)"
   ]
  },
  {
   "cell_type": "code",
   "execution_count": 57,
   "metadata": {},
   "outputs": [
    {
     "output_type": "error",
     "ename": "AxisError",
     "evalue": "axis -3 is out of bounds for array of dimension 2",
     "traceback": [
      "\u001b[1;31m---------------------------------------------------------------------------\u001b[0m",
      "\u001b[1;31mAxisError\u001b[0m                                 Traceback (most recent call last)",
      "\u001b[1;32m<ipython-input-57-55463459fb3e>\u001b[0m in \u001b[0;36m<module>\u001b[1;34m\u001b[0m\n\u001b[1;32m----> 1\u001b[1;33m \u001b[0mnp\u001b[0m\u001b[1;33m.\u001b[0m\u001b[0mstack\u001b[0m\u001b[1;33m(\u001b[0m\u001b[1;33m[\u001b[0m\u001b[0mnp\u001b[0m\u001b[1;33m.\u001b[0m\u001b[0marange\u001b[0m\u001b[1;33m(\u001b[0m\u001b[1;36m2\u001b[0m\u001b[1;33m)\u001b[0m \u001b[1;32mfor\u001b[0m \u001b[0m_\u001b[0m \u001b[1;32min\u001b[0m \u001b[0mrange\u001b[0m\u001b[1;33m(\u001b[0m\u001b[1;36m8\u001b[0m\u001b[1;33m)\u001b[0m\u001b[1;33m]\u001b[0m\u001b[1;33m,\u001b[0m \u001b[0maxis\u001b[0m \u001b[1;33m=\u001b[0m \u001b[1;33m-\u001b[0m\u001b[1;36m3\u001b[0m\u001b[1;33m)\u001b[0m\u001b[1;33m\u001b[0m\u001b[1;33m\u001b[0m\u001b[0m\n\u001b[0m",
      "\u001b[1;32m<__array_function__ internals>\u001b[0m in \u001b[0;36mstack\u001b[1;34m(*args, **kwargs)\u001b[0m\n",
      "\u001b[1;32mC:\\anaconda3\\lib\\site-packages\\numpy\\core\\shape_base.py\u001b[0m in \u001b[0;36mstack\u001b[1;34m(arrays, axis, out)\u001b[0m\n\u001b[0;32m    428\u001b[0m \u001b[1;33m\u001b[0m\u001b[0m\n\u001b[0;32m    429\u001b[0m     \u001b[0mresult_ndim\u001b[0m \u001b[1;33m=\u001b[0m \u001b[0marrays\u001b[0m\u001b[1;33m[\u001b[0m\u001b[1;36m0\u001b[0m\u001b[1;33m]\u001b[0m\u001b[1;33m.\u001b[0m\u001b[0mndim\u001b[0m \u001b[1;33m+\u001b[0m \u001b[1;36m1\u001b[0m\u001b[1;33m\u001b[0m\u001b[1;33m\u001b[0m\u001b[0m\n\u001b[1;32m--> 430\u001b[1;33m     \u001b[0maxis\u001b[0m \u001b[1;33m=\u001b[0m \u001b[0mnormalize_axis_index\u001b[0m\u001b[1;33m(\u001b[0m\u001b[0maxis\u001b[0m\u001b[1;33m,\u001b[0m \u001b[0mresult_ndim\u001b[0m\u001b[1;33m)\u001b[0m\u001b[1;33m\u001b[0m\u001b[1;33m\u001b[0m\u001b[0m\n\u001b[0m\u001b[0;32m    431\u001b[0m \u001b[1;33m\u001b[0m\u001b[0m\n\u001b[0;32m    432\u001b[0m     \u001b[0msl\u001b[0m \u001b[1;33m=\u001b[0m \u001b[1;33m(\u001b[0m\u001b[0mslice\u001b[0m\u001b[1;33m(\u001b[0m\u001b[1;32mNone\u001b[0m\u001b[1;33m)\u001b[0m\u001b[1;33m,\u001b[0m\u001b[1;33m)\u001b[0m \u001b[1;33m*\u001b[0m \u001b[0maxis\u001b[0m \u001b[1;33m+\u001b[0m \u001b[1;33m(\u001b[0m\u001b[0m_nx\u001b[0m\u001b[1;33m.\u001b[0m\u001b[0mnewaxis\u001b[0m\u001b[1;33m,\u001b[0m\u001b[1;33m)\u001b[0m\u001b[1;33m\u001b[0m\u001b[1;33m\u001b[0m\u001b[0m\n",
      "\u001b[1;31mAxisError\u001b[0m: axis -3 is out of bounds for array of dimension 2"
     ]
    }
   ],
   "source": [
    "np.stack([np.arange(2) for _ in range(8)], axis = -3)"
   ]
  },
  {
   "source": [
    "### q3:スライスのshape"
   ],
   "cell_type": "markdown",
   "metadata": {}
  },
  {
   "cell_type": "code",
   "execution_count": 59,
   "metadata": {},
   "outputs": [
    {
     "output_type": "execute_result",
     "data": {
      "text/plain": [
       "(16, 12)"
      ]
     },
     "metadata": {},
     "execution_count": 59
    }
   ],
   "source": [
    "np.random.seed(123)\n",
    "A = np.random.randn(16, 12)\n",
    "A.shape"
   ]
  },
  {
   "cell_type": "code",
   "execution_count": 60,
   "metadata": {},
   "outputs": [
    {
     "output_type": "execute_result",
     "data": {
      "text/plain": [
       "array([ 0.00284592,  0.68822271, -0.87953634,  0.28362732, -0.80536652,\n",
       "       -1.72766949, -0.39089979,  0.57380586,  0.33858905, -0.01183049,\n",
       "        2.39236527,  0.41291216])"
      ]
     },
     "metadata": {},
     "execution_count": 60
    }
   ],
   "source": [
    "A[3] "
   ]
  },
  {
   "cell_type": "code",
   "execution_count": 61,
   "metadata": {},
   "outputs": [
    {
     "output_type": "execute_result",
     "data": {
      "text/plain": [
       "array([ 0.2829785 , -0.44398196,  0.9071052 , -0.87953634, -1.29408532,\n",
       "        0.31427199, -2.12310035, -0.73246199,  0.37940061, -0.4276796 ,\n",
       "        0.12074736,  0.76094939,  0.4562709 ,  1.37725748, -1.04899168,\n",
       "        1.39535293])"
      ]
     },
     "metadata": {},
     "execution_count": 61
    }
   ],
   "source": [
    "A[:, 2]"
   ]
  },
  {
   "cell_type": "code",
   "execution_count": 63,
   "metadata": {},
   "outputs": [
    {
     "output_type": "execute_result",
     "data": {
      "text/plain": [
       "(2, 12)"
      ]
     },
     "metadata": {},
     "execution_count": 63
    }
   ],
   "source": [
    "A[1:3, :].shape"
   ]
  },
  {
   "cell_type": "code",
   "execution_count": 64,
   "metadata": {},
   "outputs": [
    {
     "output_type": "execute_result",
     "data": {
      "text/plain": [
       "(1, 4)"
      ]
     },
     "metadata": {},
     "execution_count": 64
    }
   ],
   "source": [
    "A[2:3, 4:8].shape"
   ]
  },
  {
   "cell_type": "code",
   "execution_count": 67,
   "metadata": {},
   "outputs": [
    {
     "output_type": "execute_result",
     "data": {
      "text/plain": [
       "(1,)"
      ]
     },
     "metadata": {},
     "execution_count": 67
    }
   ],
   "source": [
    "A[4,6:7].shape"
   ]
  },
  {
   "cell_type": "code",
   "execution_count": 69,
   "metadata": {},
   "outputs": [
    {
     "output_type": "execute_result",
     "data": {
      "text/plain": [
       "(8, 6)"
      ]
     },
     "metadata": {},
     "execution_count": 69
    }
   ],
   "source": [
    "A[::2, ::2].shape"
   ]
  },
  {
   "cell_type": "code",
   "execution_count": 70,
   "metadata": {},
   "outputs": [
    {
     "output_type": "execute_result",
     "data": {
      "text/plain": [
       "(5, 3)"
      ]
     },
     "metadata": {},
     "execution_count": 70
    }
   ],
   "source": [
    "A[2::3, 1::4].shape"
   ]
  },
  {
   "cell_type": "code",
   "execution_count": 71,
   "metadata": {},
   "outputs": [
    {
     "output_type": "execute_result",
     "data": {
      "text/plain": [
       "(5, 2)"
      ]
     },
     "metadata": {},
     "execution_count": 71
    }
   ],
   "source": [
    "A[-5::, -7:-4:2].shape"
   ]
  },
  {
   "source": [
    "### q4:ベクトルの結合"
   ],
   "cell_type": "markdown",
   "metadata": {}
  },
  {
   "cell_type": "code",
   "execution_count": 77,
   "metadata": {},
   "outputs": [
    {
     "output_type": "stream",
     "name": "stdout",
     "text": [
      "200.463 [msec]\n"
     ]
    }
   ],
   "source": [
    "from mypy.mymodule import TimeExecute\n",
    "N = 10000\n",
    "with TimeExecute():\n",
    "    x = []\n",
    "    for i in np.arange(1, N + 1):\n",
    "        x.append(np.full((i,), i))\n",
    "    y = np.concatenate(x)"
   ]
  },
  {
   "source": [
    "### q5:ベクトルの行列化（１）"
   ],
   "cell_type": "markdown",
   "metadata": {}
  },
  {
   "cell_type": "code",
   "execution_count": 81,
   "metadata": {},
   "outputs": [
    {
     "output_type": "execute_result",
     "data": {
      "text/plain": [
       "array([[100,  50,  50],\n",
       "       [ 50,  30, 100]])"
      ]
     },
     "metadata": {},
     "execution_count": 81
    }
   ],
   "source": [
    "jan = np.array([100, 50, 50])\n",
    "feb = np.array([50, 30, 100])\n",
    "\n",
    "# ベクトルの場合のaxisの指定は，\n",
    "# 指定された軸がゼロになるイメージで，そこに対してstackされる\n",
    "sells = np.stack([jan, feb], axis = 0)\n",
    "sells"
   ]
  },
  {
   "source": [
    "### q6:ベクトルの行列化"
   ],
   "cell_type": "markdown",
   "metadata": {}
  },
  {
   "cell_type": "code",
   "execution_count": 83,
   "metadata": {},
   "outputs": [
    {
     "output_type": "execute_result",
     "data": {
      "text/plain": [
       "array([[100,  50,  50],\n",
       "       [ 50,  30, 100]])"
      ]
     },
     "metadata": {},
     "execution_count": 83
    }
   ],
   "source": [
    "koshian = np.array([100, 50])\n",
    "tsubuan = np.array([50, 30])\n",
    "kurian  = np.array([50, 100])\n",
    "\n",
    "sells = np.stack([koshian, tsubuan, kurian], axis = 1)\n",
    "sells"
   ]
  },
  {
   "source": [
    "### q8:分散と標準偏差"
   ],
   "cell_type": "markdown",
   "metadata": {}
  },
  {
   "cell_type": "code",
   "execution_count": 84,
   "metadata": {},
   "outputs": [
    {
     "output_type": "execute_result",
     "data": {
      "text/plain": [
       "3283.5"
      ]
     },
     "metadata": {},
     "execution_count": 84
    }
   ],
   "source": [
    "x = np.arange(100) ** 2\n",
    "\n",
    "x_mean = np.mean(x)\n",
    "x_mean"
   ]
  },
  {
   "cell_type": "code",
   "execution_count": 86,
   "metadata": {},
   "outputs": [
    {
     "output_type": "execute_result",
     "data": {
      "text/plain": [
       "(8721961.05, 8721961.05)"
      ]
     },
     "metadata": {},
     "execution_count": 86
    }
   ],
   "source": [
    "np.var(x), np.mean((x - x_mean) ** 2)"
   ]
  },
  {
   "cell_type": "code",
   "execution_count": 87,
   "metadata": {},
   "outputs": [
    {
     "output_type": "execute_result",
     "data": {
      "text/plain": [
       "(2953.2966410436998, 2953.2966410436998)"
      ]
     },
     "metadata": {},
     "execution_count": 87
    }
   ],
   "source": [
    "np.std(x), np.sqrt(np.mean((x - x_mean) ** 2))"
   ]
  },
  {
   "source": [
    "### q9:平均値と中央時"
   ],
   "cell_type": "markdown",
   "metadata": {}
  },
  {
   "cell_type": "code",
   "execution_count": 88,
   "metadata": {},
   "outputs": [
    {
     "output_type": "execute_result",
     "data": {
      "text/plain": [
       "array([ 675,  777, 1166, ...,  279,  315,  232])"
      ]
     },
     "metadata": {},
     "execution_count": 88
    }
   ],
   "source": [
    "data_file = \"numpy_book/data/income.npz\"\n",
    "income = np.load(data_file)[\"income\"]\n",
    "income"
   ]
  },
  {
   "cell_type": "code",
   "execution_count": 91,
   "metadata": {},
   "outputs": [
    {
     "output_type": "execute_result",
     "data": {
      "text/plain": [
       "(555.0538, 426.0, 0.3805)"
      ]
     },
     "metadata": {},
     "execution_count": 91
    }
   ],
   "source": [
    "np.mean(income), \\\n",
    "np.median(income), \\\n",
    "np.sum(income >= np.mean(income)) / len(income)"
   ]
  },
  {
   "source": [
    "### q10: ポケモンの分析"
   ],
   "cell_type": "markdown",
   "metadata": {}
  },
  {
   "cell_type": "code",
   "execution_count": 95,
   "metadata": {},
   "outputs": [
    {
     "output_type": "stream",
     "name": "stdout",
     "text": [
      "params [[ 45  49  49  65  65  45]\n [ 60  62  63  80  80  60]\n [ 80  82  83 100 100  80]\n [ 39  52  43  60  50  65]\n [ 58  64  58  80  65  80]\n [ 78  84  78 109  85 100]\n [ 44  48  65  50  64  43]\n [ 59  63  80  65  80  58]\n [ 79  83 100  85 105  78]\n [ 45  30  35  20  20  45]\n [ 50  20  55  25  25  30]\n [ 60  45  50  90  80  70]\n [ 40  35  30  20  20  50]\n [ 45  25  50  25  25  35]\n [ 65  90  40  45  80  75]\n [ 40  45  40  35  35  56]\n [ 63  60  55  50  50  71]\n [ 83  80  75  70  70 101]\n [ 30  56  35  25  35  72]\n [ 55  81  60  50  70  97]\n [ 40  60  30  31  31  70]\n [ 65  90  65  61  61 100]\n [ 35  60  44  40  54  55]\n [ 60  95  69  65  79  80]\n [ 35  55  40  50  50  90]\n [ 60  90  55  90  80 110]\n [ 50  75  85  20  30  40]\n [ 75 100 110  45  55  65]\n [ 55  47  52  40  40  41]\n [ 70  62  67  55  55  56]\n [ 90  92  87  75  85  76]\n [ 46  57  40  40  40  50]\n [ 61  72  57  55  55  65]\n [ 81 102  77  85  75  85]\n [ 70  45  48  60  65  35]\n [ 95  70  73  95  90  60]\n [ 38  41  40  50  65  65]\n [ 73  76  75  81 100 100]\n [115  45  20  45  25  20]\n [140  70  45  85  50  45]\n [ 40  45  35  30  40  55]\n [ 75  80  70  65  75  90]\n [ 45  50  55  75  65  30]\n [ 60  65  70  85  75  40]\n [ 75  80  85 110  90  50]\n [ 35  70  55  45  55  25]\n [ 60  95  80  60  80  30]\n [ 60  55  50  40  55  45]\n [ 70  65  60  90  75  90]\n [ 10  55  25  35  45  95]\n [ 35 100  50  50  70 120]\n [ 40  45  35  40  40  90]\n [ 65  70  60  65  65 115]\n [ 50  52  48  65  50  55]\n [ 80  82  78  95  80  85]\n [ 40  80  35  35  45  70]\n [ 65 105  60  60  70  95]\n [ 55  70  45  70  50  60]\n [ 90 110  80 100  80  95]\n [ 40  50  40  40  40  90]\n [ 65  65  65  50  50  90]\n [ 90  95  95  70  90  70]\n [ 25  20  15 105  55  90]\n [ 40  35  30 120  70 105]\n [ 55  50  45 135  95 120]\n [ 70  80  50  35  35  35]\n [ 80 100  70  50  60  45]\n [ 90 130  80  65  85  55]\n [ 50  75  35  70  30  40]\n [ 65  90  50  85  45  55]\n [ 80 105  65 100  70  70]\n [ 40  40  35  50 100  70]\n [ 80  70  65  80 120 100]\n [ 40  80 100  30  30  20]\n [ 55  95 115  45  45  35]\n [ 80 120 130  55  65  45]\n [ 50  85  55  65  65  90]\n [ 65 100  70  80  80 105]\n [ 90  65  65  40  40  15]\n [ 95  75 110 100  80  30]\n [ 25  35  70  95  55  45]\n [ 50  60  95 120  70  70]\n [ 52  90  55  58  62  60]\n [ 35  85  45  35  35  75]\n [ 60 110  70  60  60 110]\n [ 65  45  55  45  70  45]\n [ 90  70  80  70  95  70]\n [ 80  80  50  40  50  25]\n [105 105  75  65 100  50]\n [ 30  65 100  45  25  40]\n [ 50  95 180  85  45  70]\n [ 30  35  30 100  35  80]\n [ 45  50  45 115  55  95]\n [ 60  65  60 130  75 110]\n [ 35  45 160  30  45  70]\n [ 60  48  45  43  90  42]\n [ 85  73  70  73 115  67]\n [ 30 105  90  25  25  50]\n [ 55 130 115  50  50  75]\n [ 40  30  50  55  55 100]\n [ 60  50  70  80  80 150]\n [ 60  40  80  60  45  40]\n [ 95  95  85 125  75  55]\n [ 50  50  95  40  50  35]\n [ 60  80 110  50  80  45]\n [ 50 120  53  35 110  87]\n [ 50 105  79  35 110  76]\n [ 90  55  75  60  75  30]\n [ 40  65  95  60  45  35]\n [ 65  90 120  85  70  60]\n [ 80  85  95  30  30  25]\n [105 130 120  45  45  40]\n [250   5   5  35 105  50]\n [ 65  55 115 100  40  60]\n [105  95  80  40  80  90]\n [ 30  40  70  70  25  60]\n [ 55  65  95  95  45  85]\n [ 45  67  60  35  50  63]\n [ 80  92  65  65  80  68]\n [ 30  45  55  70  55  85]\n [ 60  75  85 100  85 115]\n [ 40  45  65 100 120  90]\n [ 70 110  80  55  80 105]\n [ 65  50  35 115  95  95]\n [ 65  83  57  95  85 105]\n [ 65  95  57 100  85  93]\n [ 65 125 100  55  70  85]\n [ 75 100  95  40  70 110]\n [ 20  10  55  15  20  80]\n [ 95 125  79  60 100  81]\n [130  85  80  85  95  60]\n [ 48  48  48  48  48  48]\n [ 55  55  50  45  65  55]\n [130  65  60 110  95  65]\n [ 65  65  60 110  95 130]\n [ 65 130  60  95 110  65]\n [ 65  60  70  85  75  40]\n [ 35  40 100  90  55  35]\n [ 70  60 125 115  70  55]\n [ 30  80  90  55  45  55]\n [ 60 115 105  65  70  80]\n [ 80 105  65  60  75 130]\n [160 110  65  65 110  30]\n [ 90  85 100  95 125  85]\n [ 90  90  85 125  90 100]\n [ 90 100  90 125  85  90]\n [ 41  64  45  50  50  50]\n [ 61  84  65  70  70  70]\n [ 91 134  95 100 100  80]\n [106 110  90 154  90 130]\n [100 100 100 100 100 100]]\nparams_header ['HP' '攻撃' '防御' '特攻' '特防' '素早']\nnames ['フシギダネ' 'フシギソウ' 'フシギバナ' 'ヒトカゲ' 'リザード' 'リザードン' 'ゼニガメ' 'カメール' 'カメックス'\n 'キャタピー' 'トランセル' 'バタフリー' 'ビードル' 'コクーン' 'スピアー' 'ポッポ' 'ピジョン' 'ピジョット' 'コラッタ'\n 'ラッタ' 'オニスズメ' 'オニドリル' 'アーボ' 'アーボック' 'ピカチュウ' 'ライチュウ' 'サンド' 'サンドパン' 'ニドラン♀'\n 'ニドリーナ' 'ニドクイン' 'ニドラン♂' 'ニドリーノ' 'ニドキング' 'ピッピ' 'ピクシー' 'ロコン' 'キュウコン' 'プリン'\n 'プクリン' 'ズバット' 'ゴルバット' 'ナゾノクサ' 'クサイハナ' 'ラフレシア' 'パラス' 'パラセクト' 'コンパン'\n 'モルフォン' 'ディグダ' 'ダグトリオ' 'ニャース' 'ペルシアン' 'コダック' 'ゴルダック' 'マンキー' 'オコリザル'\n 'ガーディ' 'ウインディ' 'ニョロモ' 'ニョロゾ' 'ニョロボン' 'ケーシィ' 'ユンゲラー' 'フーディン' 'ワンリキー'\n 'ゴーリキー' 'カイリキー' 'マダツボミ' 'ウツドン' 'ウツボット' 'メノクラゲ' 'ドククラゲ' 'イシツブテ' 'ゴローン'\n 'ゴローニャ' 'ポニータ' 'ギャロップ' 'ヤドン' 'ヤドラン' 'コイル' 'レアコイル' 'カモネギ' 'ドードー' 'ドードリオ'\n 'パウワウ' 'ジュゴン' 'ベトベター' 'ベトベトン' 'シェルダー' 'パルシェン' 'ゴース' 'ゴースト' 'ゲンガー' 'イワーク'\n 'スリープ' 'スリーパー' 'クラブ' 'キングラー' 'ビリリダマ' 'マルマイン' 'タマタマ' 'ナッシー' 'カラカラ' 'ガラガラ'\n 'サワムラー' 'エビワラー' 'ベロリンガ' 'ドガース' 'マタドガス' 'サイホーン' 'サイドン' 'ラッキー' 'モンジャラ'\n 'ガルーラ' 'タッツー' 'シードラ' 'トサキント' 'アズマオウ' 'ヒトデマン' 'スターミー' 'バリヤード' 'ストライク'\n 'ルージュラ' 'エレブー' 'ブーバー' 'カイロス' 'ケンタロス' 'コイキング' 'ギャラドス' 'ラプラス' 'メタモン' 'イーブイ'\n 'シャワーズ' 'サンダース' 'ブースター' 'ポリゴン' 'オムナイト' 'オムスター' 'カブト' 'カブトプス' 'プテラ' 'カビゴン'\n 'フリーザー' 'サンダー' 'ファイヤー' 'ミニリュウ' 'ハクリュー' 'カイリュー' 'ミュウツー' 'ミュウ']\nnumbers [  1   2   3   4   5   6   7   8   9  10  11  12  13  14  15  16  17  18\n  19  20  21  22  23  24  25  26  27  28  29  30  31  32  33  34  35  36\n  37  38  39  40  41  42  43  44  45  46  47  48  49  50  51  52  53  54\n  55  56  57  58  59  60  61  62  63  64  65  66  67  68  69  70  71  72\n  73  74  75  76  77  78  79  80  81  82  83  84  85  86  87  88  89  90\n  91  92  93  94  95  96  97  98  99 100 101 102 103 104 105 106 107 108\n 109 110 111 112 113 114 115 116 117 118 119 120 121 122 123 124 125 126\n 127 128 129 130 131 132 133 134 135 136 137 138 139 140 141 142 143 144\n 145 146 147 148 149 150 151]\n"
     ]
    }
   ],
   "source": [
    "data_file = \"numpy_book/data/pokemon.npz\"\n",
    "pokemon   = np.load(data_file, allow_pickle = True)\n",
    "for k, v in pokemon.items():\n",
    "    print(k, v)"
   ]
  },
  {
   "source": [
    "### q11:種族値合計\n",
    "\n",
    "- params:種族値\n",
    "- params_header:種族値のヘッダー\n",
    "- names:ポケモンの名前\n",
    "- numbers:ポケモン図鑑No.\n",
    "\n"
   ],
   "cell_type": "markdown",
   "metadata": {}
  },
  {
   "cell_type": "code",
   "execution_count": 113,
   "metadata": {},
   "outputs": [
    {
     "output_type": "stream",
     "name": "stdout",
     "text": [
      "\n平均 = 407.6423841059603, \n最大 = 680, \n最小 = 195, \n中央値 = 405.0\n"
     ]
    }
   ],
   "source": [
    "total_params = np.sum(pokemon[\"params\"], axis = 1)\n",
    "print(f\"\"\"\n",
    "平均 = {np.mean(total_params)}, \n",
    "最大 = {np.max(total_params)}, \n",
    "最小 = {np.min(total_params)}, \n",
    "中央値 = {np.median(total_params)}\"\"\")"
   ]
  },
  {
   "source": [
    "### q12:種族値の集約"
   ],
   "cell_type": "markdown",
   "metadata": {}
  },
  {
   "cell_type": "code",
   "execution_count": 107,
   "metadata": {},
   "outputs": [
    {
     "output_type": "stream",
     "name": "stdout",
     "text": [
      "HP\n\n    平均 = 64.21192052980132, \n    最大 = 250, \n    最小 = 10, \n    中央値 = 60.0\n----------\n攻撃\n\n    平均 = 72.91390728476821, \n    最大 = 134, \n    最小 = 5, \n    中央値 = 70.0\n----------\n防御\n\n    平均 = 68.2251655629139, \n    最大 = 180, \n    最小 = 5, \n    中央値 = 65.0\n----------\n特攻\n\n    平均 = 67.13907284768212, \n    最大 = 154, \n    最小 = 15, \n    中央値 = 65.0\n----------\n特防\n\n    平均 = 66.08609271523179, \n    最大 = 125, \n    最小 = 20, \n    中央値 = 65.0\n----------\n素早\n\n    平均 = 69.06622516556291, \n    最大 = 150, \n    最小 = 15, \n    中央値 = 70.0\n----------\n"
     ]
    }
   ],
   "source": [
    "for i, v in enumerate(pokemon[\"params_header\"]):\n",
    "    print(f\"{v}\")\n",
    "    data = pokemon[\"params\"][:, i]\n",
    "    print(f\"\"\"\n",
    "    平均 = {np.mean(data)}, \n",
    "    最大 = {np.max(data)}, \n",
    "    最小 = {np.min(data)}, \n",
    "    中央値 = {np.median(data)}\"\"\")  \n",
    "    print(\"-\"* 10)"
   ]
  },
  {
   "source": [
    "### q13:種族値のランキング"
   ],
   "cell_type": "markdown",
   "metadata": {}
  },
  {
   "cell_type": "code",
   "execution_count": 148,
   "metadata": {},
   "outputs": [],
   "source": [
    "dtype  = [(\"name\", \"U10\"), (\"param\", int)]\n",
    "values = [(x, y) for x, y in zip(pokemon[\"names\"], total_params)]\n",
    "tbl = np.array(values, dtype = dtype)\n"
   ]
  },
  {
   "cell_type": "code",
   "execution_count": 149,
   "metadata": {},
   "outputs": [],
   "source": [
    "tbl.sort(order = \"param\")"
   ]
  },
  {
   "cell_type": "code",
   "execution_count": 150,
   "metadata": {},
   "outputs": [
    {
     "output_type": "execute_result",
     "data": {
      "text/plain": [
       "array([('キャタピー', 195), ('ビードル', 195), ('コイキング', 200), ('コクーン', 205),\n",
       "       ('トランセル', 205), ('ズバット', 245), ('ポッポ', 251), ('コラッタ', 253),\n",
       "       ('オニスズメ', 262), ('ディグダ', 265)],\n",
       "      dtype=[('name', '<U10'), ('param', '<i4')])"
      ]
     },
     "metadata": {},
     "execution_count": 150
    }
   ],
   "source": [
    "# worst 10\n",
    "tbl[:10]"
   ]
  },
  {
   "cell_type": "code",
   "execution_count": 141,
   "metadata": {},
   "outputs": [
    {
     "output_type": "execute_result",
     "data": {
      "text/plain": [
       "array([('ラプラス', 535), ('カビゴン', 540), ('ギャラドス', 540), ('ウインディ', 555),\n",
       "       ('サンダー', 580), ('ファイヤー', 580), ('フリーザー', 580), ('カイリュー', 600),\n",
       "       ('ミュウ', 600), ('ミュウツー', 680)],\n",
       "      dtype=[('name', '<U10'), ('param', '<i4')])"
      ]
     },
     "metadata": {},
     "execution_count": 141
    }
   ],
   "source": [
    "# top10\n",
    "tbl[-10:]"
   ]
  },
  {
   "cell_type": "code",
   "execution_count": 144,
   "metadata": {},
   "outputs": [
    {
     "output_type": "execute_result",
     "data": {
      "text/plain": [
       "(28.638341700682517, 77.36053938826282)"
      ]
     },
     "metadata": {},
     "execution_count": 144
    }
   ],
   "source": [
    "hensachi = (total_params - np.mean(total_params)) * 10 / np.std(total_params) + 50\n",
    "np.min(hensachi), np.max(hensachi)"
   ]
  },
  {
   "source": [
    "### q15: 偏差値ソート"
   ],
   "cell_type": "markdown",
   "metadata": {}
  },
  {
   "cell_type": "code",
   "execution_count": 147,
   "metadata": {},
   "outputs": [
    {
     "output_type": "execute_result",
     "data": {
      "text/plain": [
       "(array([('キャタピー', 28.6383417 ), ('ビードル', 28.6383417 ),\n",
       "        ('コイキング', 29.1406324 ), ('コクーン', 29.6429231 ),\n",
       "        ('トランセル', 29.6429231 ), ('ズバット', 33.66124868),\n",
       "        ('ポッポ', 34.26399752), ('コラッタ', 34.4649138 ),\n",
       "        ('オニスズメ', 35.36903705), ('ディグダ', 35.67041147)],\n",
       "       dtype=[('name', '<U10'), ('param', '<f8')]),\n",
       " array([('ラプラス', 62.79410915), ('カビゴン', 63.29639985),\n",
       "        ('ギャラドス', 63.29639985), ('ウインディ', 64.80327194),\n",
       "        ('サンダー', 67.31472543), ('ファイヤー', 67.31472543),\n",
       "        ('フリーザー', 67.31472543), ('カイリュー', 69.32388822),\n",
       "        ('ミュウ', 69.32388822), ('ミュウツー', 77.36053939)],\n",
       "       dtype=[('name', '<U10'), ('param', '<f8')]))"
      ]
     },
     "metadata": {},
     "execution_count": 147
    }
   ],
   "source": [
    "dtype  = [(\"name\", \"U10\"), (\"param\", float)]\n",
    "values = [(x, y) for x, y in zip(pokemon[\"names\"], hensachi)]\n",
    "tbl = np.array(values, dtype = dtype)\n",
    "tbl.sort(order = \"param\")\n",
    "tbl[:10], tbl[-10:]"
   ]
  },
  {
   "cell_type": "code",
   "execution_count": 152,
   "metadata": {},
   "outputs": [
    {
     "output_type": "stream",
     "name": "stdout",
     "text": [
      "[30.97512971 34.48448155 36.23915747 36.23915747 37.99383338 37.99383338\n 37.99383338 37.99383338 37.99383338 37.99383338] [ 64.31397216  64.31397216  64.31397216  64.66490734  67.823324\n  73.08735175  73.08735175  76.59670359  83.61540726 115.19957379]\n[24.53229698 26.40729609 30.15729429 30.15729429 32.03229339 33.90729249\n 33.90729249 35.78229159 35.78229159 35.78229159] [65.7822772  67.6572763  67.6572763  69.5322754  69.5322754  71.4072745\n 71.4072745  71.4072745  71.4072745  72.90727378]\n[26.43263987 30.16016829 32.0239325  33.8876967  35.75146091 35.75146091\n 35.75146091 35.75146091 37.61522512 37.61522512] [65.57168825 67.43545246 67.43545246 67.43545246 69.29921666 69.29921666\n 71.16298087 73.02674508 84.20933033 91.66438717]\n[31.6667079  33.42482241 33.42482241 33.42482241 35.18293692 35.18293692\n 35.18293692 35.18293692 36.94105143 36.94105143] [66.82899809 66.82899809 68.5871126  68.5871126  70.34522711 70.34522711\n 70.34522711 72.10334162 73.86145613 80.54229127]\n[30.89972952 30.89972952 30.89972952 32.97196752 32.97196752 32.97196752\n 32.97196752 32.97196752 32.97196752 35.04420551] [66.12777544 66.12777544 68.20001344 68.20001344 68.20001344 68.20001344\n 70.27225144 72.34448943 72.34448943 74.41672743]\n[29.92712204 31.78344527 31.78344527 33.6397685  33.6397685  33.6397685\n 35.49609173 35.49609173 35.49609173 35.49609173] [65.19726343 65.19726343 67.05358666 67.05358666 68.9099099  68.9099099\n 72.62255636 72.62255636 72.62255636 80.04784928]\n"
     ]
    },
    {
     "output_type": "error",
     "ename": "IndexError",
     "evalue": "index 6 is out of bounds for axis 1 with size 6",
     "traceback": [
      "\u001b[1;31m---------------------------------------------------------------------------\u001b[0m",
      "\u001b[1;31mIndexError\u001b[0m                                Traceback (most recent call last)",
      "\u001b[1;32m<ipython-input-152-aaef69bb8869>\u001b[0m in \u001b[0;36m<module>\u001b[1;34m\u001b[0m\n\u001b[0;32m      2\u001b[0m \u001b[0mhensachi2\u001b[0m \u001b[1;33m=\u001b[0m \u001b[1;33m(\u001b[0m\u001b[0mv\u001b[0m \u001b[1;33m-\u001b[0m \u001b[0mnp\u001b[0m\u001b[1;33m.\u001b[0m\u001b[0mmean\u001b[0m\u001b[1;33m(\u001b[0m\u001b[0mv\u001b[0m\u001b[1;33m,\u001b[0m \u001b[0maxis\u001b[0m \u001b[1;33m=\u001b[0m \u001b[1;36m0\u001b[0m\u001b[1;33m,\u001b[0m \u001b[0mkeepdims\u001b[0m\u001b[1;33m=\u001b[0m\u001b[1;32mTrue\u001b[0m\u001b[1;33m)\u001b[0m\u001b[1;33m)\u001b[0m \u001b[1;33m*\u001b[0m \u001b[1;36m10\u001b[0m  \u001b[1;33m/\u001b[0m \u001b[0mnp\u001b[0m\u001b[1;33m.\u001b[0m\u001b[0mstd\u001b[0m\u001b[1;33m(\u001b[0m\u001b[0mv\u001b[0m\u001b[1;33m,\u001b[0m \u001b[0maxis\u001b[0m \u001b[1;33m=\u001b[0m \u001b[1;36m0\u001b[0m\u001b[1;33m,\u001b[0m \u001b[0mkeepdims\u001b[0m\u001b[1;33m=\u001b[0m\u001b[1;32mTrue\u001b[0m\u001b[1;33m)\u001b[0m \u001b[1;33m+\u001b[0m \u001b[1;36m50\u001b[0m\u001b[1;33m\u001b[0m\u001b[1;33m\u001b[0m\u001b[0m\n\u001b[0;32m      3\u001b[0m \u001b[1;32mfor\u001b[0m \u001b[0mi\u001b[0m \u001b[1;32min\u001b[0m \u001b[0mnp\u001b[0m\u001b[1;33m.\u001b[0m\u001b[0marange\u001b[0m\u001b[1;33m(\u001b[0m\u001b[0mlen\u001b[0m\u001b[1;33m(\u001b[0m\u001b[0mv\u001b[0m\u001b[1;33m)\u001b[0m\u001b[1;33m)\u001b[0m\u001b[1;33m:\u001b[0m\u001b[1;33m\u001b[0m\u001b[1;33m\u001b[0m\u001b[0m\n\u001b[1;32m----> 4\u001b[1;33m     \u001b[0mv\u001b[0m \u001b[1;33m=\u001b[0m \u001b[0mnp\u001b[0m\u001b[1;33m.\u001b[0m\u001b[0msort\u001b[0m\u001b[1;33m(\u001b[0m\u001b[0mhensachi2\u001b[0m\u001b[1;33m[\u001b[0m\u001b[1;33m:\u001b[0m\u001b[1;33m,\u001b[0m \u001b[0mi\u001b[0m\u001b[1;33m]\u001b[0m\u001b[1;33m)\u001b[0m\u001b[1;33m\u001b[0m\u001b[1;33m\u001b[0m\u001b[0m\n\u001b[0m\u001b[0;32m      5\u001b[0m     \u001b[0mprint\u001b[0m\u001b[1;33m(\u001b[0m\u001b[0mv\u001b[0m\u001b[1;33m[\u001b[0m\u001b[1;33m:\u001b[0m\u001b[1;36m10\u001b[0m\u001b[1;33m]\u001b[0m\u001b[1;33m,\u001b[0m \u001b[0mv\u001b[0m\u001b[1;33m[\u001b[0m\u001b[1;33m-\u001b[0m\u001b[1;36m10\u001b[0m\u001b[1;33m:\u001b[0m\u001b[1;33m]\u001b[0m\u001b[1;33m)\u001b[0m\u001b[1;33m\u001b[0m\u001b[1;33m\u001b[0m\u001b[0m\n",
      "\u001b[1;31mIndexError\u001b[0m: index 6 is out of bounds for axis 1 with size 6"
     ]
    }
   ],
   "source": [
    "v = pokemon[\"params\"]\n",
    "hensachi2 = (v - np.mean(v, axis = 0, keepdims=True)) * 10  / np.std(v, axis = 0, keepdims=True) + 50\n",
    "for i in np.arange(len(v)):\n",
    "    v = np.sort(hensachi2[:, i])\n",
    "    print(v[:10], v[-10:])"
   ]
  },
  {
   "cell_type": "code",
   "execution_count": 154,
   "metadata": {},
   "outputs": [
    {
     "output_type": "execute_result",
     "data": {
      "text/plain": [
       "array([266.98670102, 299.40429343, 344.12475328, 263.22003676,\n",
       "       298.79723743, 346.6823034 , 265.79349106, 299.74828355,\n",
       "       346.5409814 , 220.16999211, 223.89110947, 295.41238503,\n",
       "       220.28287432, 224.00399168, 296.34781708, 241.47904633,\n",
       "       277.82687269, 326.259979  , 242.65493362, 302.69998443,\n",
       "       245.50993826, 312.69971633, 256.10173332, 315.75230634,\n",
       "       267.5884241 , 329.00172699, 259.72545478, 315.6260296 ,\n",
       "       250.22749063, 283.76783552, 336.38276957, 249.6874199 ,\n",
       "       283.97327047, 335.95995755, 268.41656752, 327.83337136,\n",
       "       260.32633   , 337.18064313, 246.35035403, 307.52527238,\n",
       "       239.55814096, 317.8189457 , 267.54547722, 295.39914637,\n",
       "       330.59939705, 254.9866355 , 299.94568838, 261.938432  ,\n",
       "       315.50231661, 247.73349359, 307.61783579, 256.0686326 ,\n",
       "       311.96920741, 266.98955604, 334.07024582, 262.08245686,\n",
       "       317.98303168, 277.99040793, 354.29585927, 259.8073959 ,\n",
       "       291.18529885, 338.57632737, 263.04675511, 296.5871    ,\n",
       "       334.27192089, 261.06306639, 298.87565143, 336.71070625,\n",
       "       258.66895779, 292.20930268, 329.89412356, 275.15142553,\n",
       "       341.59699116, 259.77333076, 293.31367565, 332.57117084,\n",
       "       301.1847966 , 334.72514149, 264.45312496, 329.97592473,\n",
       "       268.95002061, 320.70611944, 288.91902357, 263.6421557 ,\n",
       "       323.25537698, 269.78170242, 325.68227724, 268.83460026,\n",
       "       335.09636505, 261.26638008, 342.84711314, 262.25800801,\n",
       "       297.87059089, 333.48317378, 292.03877794, 271.89640979,\n",
       "       329.55509911, 269.21903289, 325.11960771, 271.2386319 ,\n",
       "       330.92738364, 268.52767877, 344.1570508 , 267.54307448,\n",
       "       307.556017  , 320.55194558, 320.53461105, 291.53774888,\n",
       "       274.61893999, 330.51951481, 275.67829623, 327.70551598,\n",
       "       313.91283669, 308.37167245, 330.98119238, 256.9246648 ,\n",
       "       310.75300162, 267.75434163, 316.11427103, 274.9234154 ,\n",
       "       342.00410519, 321.50439989, 335.16677147, 317.73967011,\n",
       "       330.85093913, 332.65387572, 334.92238078, 331.20024553,\n",
       "       222.58782106, 350.32911051, 346.90637896, 255.38234933,\n",
       "       269.79899305, 342.5982215 , 343.91963656, 345.10479332,\n",
       "       295.27882319, 280.04619583, 331.58032416, 280.53799966,\n",
       "       332.94137665, 340.17732426, 349.2644539 , 365.55530159,\n",
       "       363.45099885, 363.2798768 , 260.08221194, 304.80267179,\n",
       "       371.95806505, 399.76472594, 371.65554495])"
      ]
     },
     "metadata": {},
     "execution_count": 154
    }
   ],
   "source": [
    "total_hensachi = np.sum(hensachi2, axis = 1)\n",
    "total_hensachi"
   ]
  },
  {
   "cell_type": "code",
   "execution_count": 155,
   "metadata": {},
   "outputs": [
    {
     "output_type": "execute_result",
     "data": {
      "text/plain": [
       "(array([('キャタピー', 220.16999211), ('ビードル', 220.28287432),\n",
       "        ('コイキング', 222.58782106), ('トランセル', 223.89110947),\n",
       "        ('コクーン', 224.00399168), ('ズバット', 239.55814096),\n",
       "        ('ポッポ', 241.47904633), ('コラッタ', 242.65493362),\n",
       "        ('オニスズメ', 245.50993826), ('プリン', 246.35035403)],\n",
       "       dtype=[('name', '<U10'), ('param', '<f8')]),\n",
       " array([('ラプラス', 346.90637896), ('カビゴン', 349.2644539 ),\n",
       "        ('ギャラドス', 350.32911051), ('ウインディ', 354.29585927),\n",
       "        ('ファイヤー', 363.2798768 ), ('サンダー', 363.45099885),\n",
       "        ('フリーザー', 365.55530159), ('ミュウ', 371.65554495),\n",
       "        ('カイリュー', 371.95806505), ('ミュウツー', 399.76472594)],\n",
       "       dtype=[('name', '<U10'), ('param', '<f8')]))"
      ]
     },
     "metadata": {},
     "execution_count": 155
    }
   ],
   "source": [
    "dtype  = [(\"name\", \"U10\"), (\"param\", float)]\n",
    "values = [(x, y) for x, y in zip(pokemon[\"names\"], total_hensachi)]\n",
    "tbl = np.array(values, dtype = dtype)\n",
    "tbl.sort(order = \"param\")\n",
    "tbl[:10], tbl[-10:]"
   ]
  },
  {
   "cell_type": "code",
   "execution_count": null,
   "metadata": {},
   "outputs": [],
   "source": []
  }
 ]
}