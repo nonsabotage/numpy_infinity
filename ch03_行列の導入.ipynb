{
 "metadata": {
  "language_info": {
   "codemirror_mode": {
    "name": "ipython",
    "version": 3
   },
   "file_extension": ".py",
   "mimetype": "text/x-python",
   "name": "python",
   "nbconvert_exporter": "python",
   "pygments_lexer": "ipython3",
   "version": "3.8.5-final"
  },
  "orig_nbformat": 2,
  "kernelspec": {
   "name": "python3",
   "display_name": "Python 3",
   "language": "python"
  }
 },
 "nbformat": 4,
 "nbformat_minor": 2,
 "cells": [
  {
   "source": [
    "# 行列の導入\n",
    "\n",
    "## 学ぶこと\n",
    "\n",
    "- NumPy配列の結合：concatenate, stack\n",
    "- NumPy配列のshapeとaxis, 集約関数\n",
    "- 行列積の導入"
   ],
   "cell_type": "markdown",
   "metadata": {}
  },
  {
   "source": [
    "## 配列の結合"
   ],
   "cell_type": "markdown",
   "metadata": {}
  },
  {
   "source": [
    "### concatenate"
   ],
   "cell_type": "markdown",
   "metadata": {}
  },
  {
   "cell_type": "code",
   "execution_count": 5,
   "metadata": {},
   "outputs": [
    {
     "output_type": "execute_result",
     "data": {
      "text/plain": [
       "[1, 2, 3, 100, 101, 102]"
      ]
     },
     "metadata": {},
     "execution_count": 5
    }
   ],
   "source": [
    "a = [1, 2, 3]\n",
    "b = [100, 101, 102]\n",
    "a + b"
   ]
  },
  {
   "cell_type": "code",
   "execution_count": 6,
   "metadata": {},
   "outputs": [
    {
     "output_type": "execute_result",
     "data": {
      "text/plain": [
       "[1, 2, 3, [100, 101, 102]]"
      ]
     },
     "metadata": {},
     "execution_count": 6
    }
   ],
   "source": [
    "a.append(b)\n",
    "a"
   ]
  },
  {
   "cell_type": "code",
   "execution_count": 11,
   "metadata": {},
   "outputs": [
    {
     "output_type": "execute_result",
     "data": {
      "text/plain": [
       "array([  1,   2,   3, 100, 101, 102])"
      ]
     },
     "metadata": {},
     "execution_count": 11
    }
   ],
   "source": [
    "import numpy as np\n",
    "\n",
    "x = np.array([1, 2, 3])\n",
    "y = np.array([100, 101, 102])\n",
    "\n",
    "# numpyでは関数を使う\n",
    "np.concatenate([x, y])"
   ]
  },
  {
   "cell_type": "code",
   "execution_count": 12,
   "metadata": {},
   "outputs": [
    {
     "output_type": "execute_result",
     "data": {
      "text/plain": [
       "array([  1,   2,   3,   1,   2,   3, 100, 101, 102])"
      ]
     },
     "metadata": {},
     "execution_count": 12
    }
   ],
   "source": [
    "np.concatenate([x, x, y])"
   ]
  },
  {
   "cell_type": "code",
   "execution_count": 14,
   "metadata": {},
   "outputs": [
    {
     "output_type": "execute_result",
     "data": {
      "text/plain": [
       "array([1, 2, 3, 1, 2, 3, 1, 2, 3, 1, 2, 3])"
      ]
     },
     "metadata": {},
     "execution_count": 14
    }
   ],
   "source": [
    "np.concatenate([x] * 4)"
   ]
  },
  {
   "cell_type": "code",
   "execution_count": 15,
   "metadata": {},
   "outputs": [
    {
     "output_type": "execute_result",
     "data": {
      "text/plain": [
       "array([[1, 2, 3],\n",
       "       [1, 2, 3],\n",
       "       [1, 2, 3],\n",
       "       [1, 2, 3]])"
      ]
     },
     "metadata": {},
     "execution_count": 15
    }
   ],
   "source": [
    "np.array([x] * 4)"
   ]
  },
  {
   "source": [
    "### ベストプラクティス\n",
    "\n",
    "appendを使ってリストにためてからnp.arrayを適用するのと，np.concatenateでNumpy配列を結合するのではどちらが早いのだろうか?"
   ],
   "cell_type": "markdown",
   "metadata": {}
  },
  {
   "cell_type": "code",
   "execution_count": 22,
   "metadata": {},
   "outputs": [],
   "source": [
    "from mypy.mymodule import TimeExecute\n",
    "\n",
    "chunk_size = 100\n",
    "def pattern1():\n",
    "    x = []\n",
    "    for i in range(10000):\n",
    "        for j in range(chunk_size):\n",
    "            x.append(j)\n",
    "    x= np.array(x)\n",
    "\n",
    "def pattern2():\n",
    "    x = []\n",
    "    for i in range(10000):\n",
    "        x += list(range(chunk_size))\n",
    "    x = np.array(x)\n",
    "\n",
    "def pattern3():\n",
    "    x = []\n",
    "    for i in range(10000):\n",
    "        x.append(np.arange(chunk_size))\n",
    "    x = np.concatenate(x)\n",
    "\n",
    "def pattern4():\n",
    "    x = np.array([])\n",
    "    for i in range(10000):\n",
    "        x = np.concatenate([x, np.arange(chunk_size)])"
   ]
  },
  {
   "cell_type": "code",
   "execution_count": 23,
   "metadata": {},
   "outputs": [
    {
     "output_type": "stream",
     "name": "stdout",
     "text": [
      "117.689 [msec]\n"
     ]
    }
   ],
   "source": [
    "with TimeExecute():\n",
    "    pattern1()"
   ]
  },
  {
   "cell_type": "code",
   "execution_count": 24,
   "metadata": {},
   "outputs": [
    {
     "output_type": "stream",
     "name": "stdout",
     "text": [
      "80.784 [msec]\n"
     ]
    }
   ],
   "source": [
    "with TimeExecute():\n",
    "    pattern2()"
   ]
  },
  {
   "cell_type": "code",
   "execution_count": 25,
   "metadata": {},
   "outputs": [
    {
     "output_type": "stream",
     "name": "stdout",
     "text": [
      "16.984 [msec]\n"
     ]
    }
   ],
   "source": [
    "with TimeExecute():\n",
    "    pattern3()"
   ]
  },
  {
   "cell_type": "code",
   "execution_count": 26,
   "metadata": {},
   "outputs": [
    {
     "output_type": "stream",
     "name": "stdout",
     "text": [
      "12,685.144 [msec]\n"
     ]
    }
   ],
   "source": [
    "with TimeExecute():\n",
    "    pattern4()"
   ]
  },
  {
   "source": [
    "基本的にはpattern3, つまりNumPy配列をリストに入れる作業の後に，\n",
    "まとめて結合させるのが良い．\n",
    "chunk_sizeが小さい場合には他のpatternが優勢なときもある. \n",
    "\n",
    "配列は要素の結合などのように素数が変化する処理には向いていないため，\n",
    "結合回数を少なくすることがよい. \n"
   ],
   "cell_type": "markdown",
   "metadata": {}
  },
  {
   "source": [
    "## NumPy配列の分割\n"
   ],
   "cell_type": "markdown",
   "metadata": {}
  },
  {
   "source": [
    "### スライス\n",
    "\n",
    "普通に働くので省略."
   ],
   "cell_type": "markdown",
   "metadata": {}
  },
  {
   "source": [
    "### np.split"
   ],
   "cell_type": "markdown",
   "metadata": {}
  },
  {
   "source": [
    "あまり使う機会はあにが指定した数に要素を当分する. "
   ],
   "cell_type": "markdown",
   "metadata": {}
  },
  {
   "cell_type": "code",
   "execution_count": 28,
   "metadata": {},
   "outputs": [
    {
     "output_type": "stream",
     "name": "stdout",
     "text": [
      "[0 1 2 3]\n[4 5 6 7]\n"
     ]
    }
   ],
   "source": [
    "x    = np.arange(8)\n",
    "a, b = np.split(x, 2)\n",
    "print(a)\n",
    "print(b)"
   ]
  },
  {
   "source": [
    "## 多次元リストと多次元配列"
   ],
   "cell_type": "markdown",
   "metadata": {}
  },
  {
   "cell_type": "code",
   "execution_count": 34,
   "metadata": {},
   "outputs": [
    {
     "output_type": "execute_result",
     "data": {
      "text/plain": [
       "array([[ 1,  2,  3],\n",
       "       [11, 12, 13],\n",
       "       [21, 22, 23],\n",
       "       [31, 32, 33]])"
      ]
     },
     "metadata": {},
     "execution_count": 34
    }
   ],
   "source": [
    "x = np.array([np.arange(1, 4)] * 4) + np.array(np.arange(4) * 10).reshape(4, 1)\n",
    "x"
   ]
  },
  {
   "cell_type": "code",
   "execution_count": 35,
   "metadata": {},
   "outputs": [
    {
     "output_type": "execute_result",
     "data": {
      "text/plain": [
       "array([1, 2, 3])"
      ]
     },
     "metadata": {},
     "execution_count": 35
    }
   ],
   "source": [
    "# 1行目\n",
    "x[0]"
   ]
  },
  {
   "cell_type": "code",
   "execution_count": 36,
   "metadata": {},
   "outputs": [
    {
     "output_type": "execute_result",
     "data": {
      "text/plain": [
       "array([ 1, 11, 21, 31])"
      ]
     },
     "metadata": {},
     "execution_count": 36
    }
   ],
   "source": [
    "# 1列目\n",
    "x[:, 0]"
   ]
  },
  {
   "cell_type": "code",
   "execution_count": 48,
   "metadata": {},
   "outputs": [
    {
     "output_type": "execute_result",
     "data": {
      "text/plain": [
       "(1, 1)"
      ]
     },
     "metadata": {},
     "execution_count": 48
    }
   ],
   "source": [
    "# 1要素\n",
    "x[0,0], x[0][0]"
   ]
  },
  {
   "cell_type": "code",
   "execution_count": 49,
   "metadata": {},
   "outputs": [
    {
     "output_type": "execute_result",
     "data": {
      "text/plain": [
       "array([1])"
      ]
     },
     "metadata": {},
     "execution_count": 49
    }
   ],
   "source": [
    "# 1要素を配列で\n",
    "x[0, 0:1]"
   ]
  },
  {
   "source": [
    "### 行列の積み上げ\n",
    "\n",
    "np.concatenateは末尾への結合であったが，np.stackは配列を積み重ねていくことが可能である. \n"
   ],
   "cell_type": "markdown",
   "metadata": {}
  },
  {
   "cell_type": "code",
   "execution_count": 45,
   "metadata": {},
   "outputs": [
    {
     "output_type": "execute_result",
     "data": {
      "text/plain": [
       "array([0, 1, 2, 3, 4, 5])"
      ]
     },
     "metadata": {},
     "execution_count": 45
    }
   ],
   "source": [
    "x1 = np.arange(3)\n",
    "x2 = 3 + np.arange(3)\n",
    "np.concatenate([x1, x2])"
   ]
  },
  {
   "cell_type": "code",
   "execution_count": 46,
   "metadata": {},
   "outputs": [
    {
     "output_type": "execute_result",
     "data": {
      "text/plain": [
       "array([[0, 1, 2],\n",
       "       [3, 4, 5]])"
      ]
     },
     "metadata": {},
     "execution_count": 46
    }
   ],
   "source": [
    "np.stack([x1, x2])"
   ]
  },
  {
   "source": [
    "## 多次元配列のスライスの解釈"
   ],
   "cell_type": "markdown",
   "metadata": {}
  },
  {
   "cell_type": "code",
   "execution_count": 50,
   "metadata": {},
   "outputs": [
    {
     "output_type": "execute_result",
     "data": {
      "text/plain": [
       "array([[100,  50,  50],\n",
       "       [ 50,  30, 100],\n",
       "       [ 50,  50,  70],\n",
       "       [100,  50, 100]])"
      ]
     },
     "metadata": {},
     "execution_count": 50
    }
   ],
   "source": [
    "anko_sell = np.array([[100, 50, 50], [50, 30, 100],[50, 50, 70], [100, 50, 100]])\n",
    "anko_sell"
   ]
  },
  {
   "cell_type": "code",
   "execution_count": 51,
   "metadata": {},
   "outputs": [
    {
     "output_type": "execute_result",
     "data": {
      "text/plain": [
       "array([100,  50,  50])"
      ]
     },
     "metadata": {},
     "execution_count": 51
    }
   ],
   "source": [
    "anko_sell[0, ]"
   ]
  },
  {
   "cell_type": "code",
   "execution_count": 53,
   "metadata": {},
   "outputs": [
    {
     "output_type": "execute_result",
     "data": {
      "text/plain": [
       "array([100,  50,  50, 100])"
      ]
     },
     "metadata": {},
     "execution_count": 53
    }
   ],
   "source": [
    "anko_sell[:, 0]"
   ]
  },
  {
   "cell_type": "code",
   "execution_count": 59,
   "metadata": {},
   "outputs": [
    {
     "output_type": "execute_result",
     "data": {
      "text/plain": [
       "array([[100,  50,  50],\n",
       "       [ 50,  50,  70]])"
      ]
     },
     "metadata": {},
     "execution_count": 59
    }
   ],
   "source": [
    "anko_sell[::2, ::]"
   ]
  },
  {
   "source": [
    "### 行と列が反転したときのスライス"
   ],
   "cell_type": "markdown",
   "metadata": {}
  },
  {
   "cell_type": "code",
   "execution_count": 56,
   "metadata": {},
   "outputs": [
    {
     "output_type": "execute_result",
     "data": {
      "text/plain": [
       "array([[100,  50,  50, 100],\n",
       "       [ 50,  30,  50,  50],\n",
       "       [ 50, 100,  70, 100]])"
      ]
     },
     "metadata": {},
     "execution_count": 56
    }
   ],
   "source": [
    "annko_vertical = anko_sell.T\n",
    "annko_vertical"
   ]
  },
  {
   "source": [
    "### スライスと識別子\n",
    "\n",
    "スライスしたときに作成されるのは元の変数のViewである．\n",
    "\n",
    "スライスで作ったViewと元の変数は識別しが異なる，ということになる.\n",
    "\n",
    "ただし配列を抜けるとそれは数値になるので，そこでも識別子は異なる. \n"
   ],
   "cell_type": "markdown",
   "metadata": {}
  },
  {
   "cell_type": "code",
   "execution_count": 60,
   "metadata": {},
   "outputs": [
    {
     "output_type": "stream",
     "name": "stdout",
     "text": [
      "1746670396160\n1746670396160\n1746670397920\n"
     ]
    }
   ],
   "source": [
    "x = np.arange(5)\n",
    "print(id(x[::]))\n",
    "print(id(x[:]))\n",
    "print(id(x))\n"
   ]
  },
  {
   "cell_type": "code",
   "execution_count": 61,
   "metadata": {},
   "outputs": [
    {
     "output_type": "stream",
     "name": "stdout",
     "text": [
      "1746673298768\n1746673295888\n1746671301968\n1746673295888\n"
     ]
    }
   ],
   "source": [
    "x = np.array([[1, 2, 3], [11, 12, 13], [21, 22, 23]])\n",
    "print(id(x[1,::]))\n",
    "print(id(x[1,:]))\n",
    "print(id(x[1,1]))\n",
    "print(id(x[1]))"
   ]
  },
  {
   "source": [
    "## NumPy配列のshape"
   ],
   "cell_type": "markdown",
   "metadata": {}
  },
  {
   "cell_type": "code",
   "execution_count": 62,
   "metadata": {},
   "outputs": [
    {
     "output_type": "stream",
     "name": "stdout",
     "text": [
      "(5,)\n5\n"
     ]
    }
   ],
   "source": [
    "x = np.arange(5)\n",
    "print(x.shape)\n",
    "print(len(x))"
   ]
  },
  {
   "cell_type": "code",
   "execution_count": 64,
   "metadata": {},
   "outputs": [
    {
     "output_type": "stream",
     "name": "stdout",
     "text": [
      "(3, 2)\n3\n"
     ]
    }
   ],
   "source": [
    "x = np.array([[1,2], [3,4], [5,6]])\n",
    "print(x.shape)\n",
    "print(len(x))"
   ]
  },
  {
   "source": [
    "## 集約関数\n"
   ],
   "cell_type": "markdown",
   "metadata": {}
  },
  {
   "cell_type": "code",
   "execution_count": 68,
   "metadata": {},
   "outputs": [
    {
     "output_type": "stream",
     "name": "stdout",
     "text": [
      "62\n278784\n12.4\n1.8547236990991407\n12.0\n5\n16\n11\n0\n3\n"
     ]
    }
   ],
   "source": [
    "x = np.array([16, 12, 12, 11, 11])\n",
    "print(np.sum(x)) # 62\n",
    "print(np.prod(x)) # 278784p\n",
    "ｐrint(np.mean(x)) # 12.4\n",
    "print(np.std(x)) # 1.8547236990991407\n",
    "print(np.median(x)) # 12.0\n",
    "print(len(x)) # 5\n",
    "print(np.max(x)) # 16\n",
    "print(np.min(x)) # 11\n",
    "print(np.argmax(x)) \n",
    "print(np.argmin(x))"
   ]
  },
  {
   "source": [
    "集約関数ではないが，いわゆる最大値の管理，最小値の管理とう面で活用出来るのがnp.maxmium/minimumである．これらの関数はnp.clipと等価である. "
   ],
   "cell_type": "markdown",
   "metadata": {}
  },
  {
   "cell_type": "code",
   "execution_count": 69,
   "metadata": {},
   "outputs": [
    {
     "output_type": "stream",
     "name": "stdout",
     "text": [
      "[3 3 3 3 4 5 6 7 7 7]\n[3 3 3 3 4 5 6 7 7 7]\n"
     ]
    }
   ],
   "source": [
    "x = np.arange(10)\n",
    "print(np.maximum(np.minimum(x, 7), 3)) # [3 3 3 3 4 5 6 7 7 7]\n",
    "print(np.minimum(np.maximum(x, 3), 7))"
   ]
  },
  {
   "cell_type": "code",
   "execution_count": 70,
   "metadata": {},
   "outputs": [
    {
     "output_type": "execute_result",
     "data": {
      "text/plain": [
       "array([3, 3, 3, 3, 4, 5, 6, 7, 7, 7])"
      ]
     },
     "metadata": {},
     "execution_count": 70
    }
   ],
   "source": [
    "np.clip(x, 3, 7)"
   ]
  },
  {
   "source": [
    "## 多次元配列と集約関数のaxis"
   ],
   "cell_type": "markdown",
   "metadata": {}
  },
  {
   "cell_type": "code",
   "execution_count": 71,
   "metadata": {},
   "outputs": [
    {
     "output_type": "stream",
     "name": "stdout",
     "text": [
      "800\n"
     ]
    }
   ],
   "source": [
    "anko_sell = np.array(\n",
    "    [[100, 50, 50], [50, 30, 100],[50, 50, 70], [100, 50, 100]])\n",
    "print(np.sum(anko_sell)) "
   ]
  },
  {
   "cell_type": "code",
   "execution_count": 73,
   "metadata": {},
   "outputs": [
    {
     "output_type": "stream",
     "name": "stdout",
     "text": [
      "月単位 [200 180 170 250]\n"
     ]
    }
   ],
   "source": [
    "# 月単位\n",
    "print(\"月単位\", np.sum(anko_sell, axis = 1))"
   ]
  },
  {
   "cell_type": "code",
   "execution_count": 74,
   "metadata": {},
   "outputs": [
    {
     "output_type": "stream",
     "name": "stdout",
     "text": [
      "商品単位 [300 180 320]\n"
     ]
    }
   ],
   "source": [
    "# 商品単位\n",
    "print(\"商品単位\", np.sum(anko_sell, axis = 0))\n"
   ]
  },
  {
   "source": [
    "## 多次元配列の次元\n",
    "\n",
    "numpy配列の次元とは`len(x.shape)`である.\n"
   ],
   "cell_type": "markdown",
   "metadata": {}
  },
  {
   "source": [
    "## 多次元配列化出来ない「リストのリスト」\n",
    "\n",
    "リストのリストは通常，NumPyヘア塚しても多次元配列にはならないが，入れ子になった内側のリストの要素数が全て同じ，つまり多次元リストに限定すれば多次元配列となる. \n",
    "\n",
    "とはいえ，下記とおり思わぬエラーが発生するもとであるので，基本的にはリストのリストか直接多次元配列を作成することはやめておいた方が良い. \n"
   ],
   "cell_type": "markdown",
   "metadata": {}
  },
  {
   "cell_type": "code",
   "execution_count": 76,
   "metadata": {},
   "outputs": [
    {
     "output_type": "stream",
     "name": "stdout",
     "text": [
      "[[1, 2], [3, 4, 5], [6, 7, 8, 9]]\n[list([1, 2]) list([3, 4, 5]) list([6, 7, 8, 9])]\nobject\n(3,)\n"
     ]
    },
    {
     "output_type": "error",
     "ename": "IndexError",
     "evalue": "too many indices for array: array is 1-dimensional, but 2 were indexed",
     "traceback": [
      "\u001b[1;31m---------------------------------------------------------------------------\u001b[0m",
      "\u001b[1;31mIndexError\u001b[0m                                Traceback (most recent call last)",
      "\u001b[1;32m<ipython-input-76-20ae2f2c1c3f>\u001b[0m in \u001b[0;36m<module>\u001b[1;34m\u001b[0m\n\u001b[0;32m      5\u001b[0m \u001b[0mprint\u001b[0m\u001b[1;33m(\u001b[0m\u001b[0mx\u001b[0m\u001b[1;33m.\u001b[0m\u001b[0mdtype\u001b[0m\u001b[1;33m)\u001b[0m \u001b[1;31m# object型になる\u001b[0m\u001b[1;33m\u001b[0m\u001b[1;33m\u001b[0m\u001b[0m\n\u001b[0;32m      6\u001b[0m \u001b[0mprint\u001b[0m\u001b[1;33m(\u001b[0m\u001b[0mx\u001b[0m\u001b[1;33m.\u001b[0m\u001b[0mshape\u001b[0m\u001b[1;33m)\u001b[0m \u001b[1;31m# あたかも1次元配列のようにみなされる\u001b[0m\u001b[1;33m\u001b[0m\u001b[1;33m\u001b[0m\u001b[0m\n\u001b[1;32m----> 7\u001b[1;33m \u001b[0mprint\u001b[0m\u001b[1;33m(\u001b[0m\u001b[0mx\u001b[0m\u001b[1;33m[\u001b[0m\u001b[1;33m:\u001b[0m\u001b[1;33m,\u001b[0m \u001b[1;36m1\u001b[0m\u001b[1;33m]\u001b[0m\u001b[1;33m)\u001b[0m\u001b[1;33m\u001b[0m\u001b[1;33m\u001b[0m\u001b[0m\n\u001b[0m",
      "\u001b[1;31mIndexError\u001b[0m: too many indices for array: array is 1-dimensional, but 2 were indexed"
     ]
    }
   ],
   "source": [
    "x = [[1, 2], [3, 4, 5], [6, 7, 8, 9]]\n",
    "print(x)\n",
    "x = np.array(x)\n",
    "print(x) # エラーにはならないが、多次元配列ではない\n",
    "print(x.dtype) # object型になる\n",
    "print(x.shape) # あたかも1次元配列のようにみなされる\n",
    "print(x[:, 1]) # これはエラー"
   ]
  },
  {
   "source": [
    "## 配列の結合でのaxis"
   ],
   "cell_type": "markdown",
   "metadata": {}
  },
  {
   "cell_type": "code",
   "execution_count": null,
   "metadata": {},
   "outputs": [],
   "source": []
  }
 ]
}