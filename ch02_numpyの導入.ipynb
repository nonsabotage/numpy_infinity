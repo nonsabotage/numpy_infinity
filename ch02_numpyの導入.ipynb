{
 "metadata": {
  "language_info": {
   "codemirror_mode": {
    "name": "ipython",
    "version": 3
   },
   "file_extension": ".py",
   "mimetype": "text/x-python",
   "name": "python",
   "nbconvert_exporter": "python",
   "pygments_lexer": "ipython3",
   "version": "3.8.5-final"
  },
  "orig_nbformat": 2,
  "kernelspec": {
   "name": "python3",
   "display_name": "Python 3",
   "language": "python"
  }
 },
 "nbformat": 4,
 "nbformat_minor": 2,
 "cells": [
  {
   "source": [
    "# numpyの導入\n",
    "\n",
    "## 学ぶこと\n",
    "\n",
    "- Numpy配列の作り方\n",
    "- Numpy配列のデータ型\n",
    "- データ型のキャスト\n"
   ],
   "cell_type": "markdown",
   "metadata": {}
  },
  {
   "source": [
    "## NumPyとは"
   ],
   "cell_type": "markdown",
   "metadata": {}
  },
  {
   "source": [
    "## NumPy配列の初期化"
   ],
   "cell_type": "markdown",
   "metadata": {}
  },
  {
   "cell_type": "code",
   "execution_count": 1,
   "metadata": {},
   "outputs": [],
   "source": [
    "import numpy as np\n",
    "\n",
    "\n"
   ]
  },
  {
   "cell_type": "code",
   "execution_count": 2,
   "metadata": {},
   "outputs": [
    {
     "output_type": "stream",
     "name": "stdout",
     "text": [
      "[0, 1, 2, 3, 4]\n[0 1 2 3 4]\n"
     ]
    }
   ],
   "source": [
    "d = list(range(5))\n",
    "print(d) # Pythonのリスト\n",
    "\n",
    "num_array = np.array(d)\n",
    "print(num_array) # numpyの配列"
   ]
  },
  {
   "source": [
    "## NumPy配列のインデックスによるアクセス\n",
    "\n"
   ],
   "cell_type": "markdown",
   "metadata": {}
  },
  {
   "cell_type": "code",
   "execution_count": 3,
   "metadata": {},
   "outputs": [
    {
     "output_type": "stream",
     "name": "stdout",
     "text": [
      "[1. 1. 1. 1. 1.]\n"
     ]
    }
   ],
   "source": [
    "x = np.ones(5)\n",
    "print(x)"
   ]
  },
  {
   "cell_type": "code",
   "execution_count": 4,
   "metadata": {},
   "outputs": [
    {
     "output_type": "execute_result",
     "data": {
      "text/plain": [
       "array([1., 1., 8., 1., 1.])"
      ]
     },
     "metadata": {},
     "execution_count": 4
    }
   ],
   "source": [
    "x[2] = 8\n",
    "x"
   ]
  },
  {
   "source": [
    "スライスを使った直接の代入も可能である．\n"
   ],
   "cell_type": "markdown",
   "metadata": {}
  },
  {
   "cell_type": "code",
   "execution_count": 5,
   "metadata": {},
   "outputs": [
    {
     "output_type": "execute_result",
     "data": {
      "text/plain": [
       "array([10., 10.,  8.,  1.,  1.])"
      ]
     },
     "metadata": {},
     "execution_count": 5
    }
   ],
   "source": [
    "x[:2] = 10\n",
    "x"
   ]
  },
  {
   "source": [
    "リストのスライスを使った代入は，要素数を変える**黒魔術**であることに注意．\n",
    "\n",
    "基本的には使わないこと. "
   ],
   "cell_type": "markdown",
   "metadata": {}
  },
  {
   "cell_type": "code",
   "execution_count": 6,
   "metadata": {},
   "outputs": [
    {
     "output_type": "execute_result",
     "data": {
      "text/plain": [
       "[0, -1, -1, 4]"
      ]
     },
     "metadata": {},
     "execution_count": 6
    }
   ],
   "source": [
    "x = list(range(5))\n",
    "x[1:4] = [-1, -1]\n",
    "x"
   ]
  },
  {
   "source": [
    "numpyの配列はインプレイスな演算もサポートしている. "
   ],
   "cell_type": "markdown",
   "metadata": {}
  },
  {
   "cell_type": "code",
   "execution_count": 7,
   "metadata": {},
   "outputs": [
    {
     "output_type": "execute_result",
     "data": {
      "text/plain": [
       "array([100, 110,  12,  13,   4])"
      ]
     },
     "metadata": {},
     "execution_count": 7
    }
   ],
   "source": [
    "x = np.arange(5)\n",
    "x[:4] += 10\n",
    "x[:2] *= 10\n",
    "x"
   ]
  },
  {
   "source": [
    "## NumPy配列の計算"
   ],
   "cell_type": "markdown",
   "metadata": {}
  },
  {
   "cell_type": "code",
   "execution_count": 8,
   "metadata": {},
   "outputs": [
    {
     "output_type": "execute_result",
     "data": {
      "text/plain": [
       "array([ 1.        ,  2.71828183,  7.3890561 , 20.08553692, 54.59815003])"
      ]
     },
     "metadata": {},
     "execution_count": 8
    }
   ],
   "source": [
    "# 直接関数を適用することが可能\n",
    "np.exp(np.arange(5))"
   ]
  },
  {
   "source": [
    "## ベストプラクティス\n",
    "\n",
    "上記のようにNumPy配列はループを使わない処理が可能である．\n",
    "数値演算を高速化する場合には，ループ（ピュアなPython）に依存しないようにすることが重要. \n"
   ],
   "cell_type": "markdown",
   "metadata": {}
  },
  {
   "cell_type": "code",
   "execution_count": 9,
   "metadata": {},
   "outputs": [],
   "source": [
    "from mypy.mymodule import TimeExecute"
   ]
  },
  {
   "cell_type": "code",
   "execution_count": 10,
   "metadata": {},
   "outputs": [
    {
     "output_type": "stream",
     "name": "stdout",
     "text": [
      "1,260.662 [msec]\n"
     ]
    }
   ],
   "source": [
    "x = list(range(int(1e7)))\n",
    "with TimeExecute():\n",
    "    for i in range(len(x)):\n",
    "        x[i] *= 2\n",
    "    "
   ]
  },
  {
   "cell_type": "code",
   "execution_count": 11,
   "metadata": {},
   "outputs": [
    {
     "output_type": "stream",
     "name": "stdout",
     "text": [
      "262.328 [msec]\n"
     ]
    }
   ],
   "source": [
    "x = list(range(int(1e7)))\n",
    "with TimeExecute():\n",
    "    x * 2"
   ]
  },
  {
   "source": [
    "## NumPy配列を簡単に呼び出す\n",
    "\n",
    "よく使うのはコレらしい. \n",
    "\n",
    "- np.arange\n",
    "- np.ones\n",
    "- np.zeros\n",
    "- np.ones_like\n",
    "- np.zeros_like\n",
    "- np.linspace\n",
    "- np.random.rand\n",
    "- np.random.randn\n",
    "- np.full\n",
    "- np.empty\n",
    "- np.concatenate\n",
    "\n"
   ],
   "cell_type": "markdown",
   "metadata": {}
  },
  {
   "cell_type": "code",
   "execution_count": 12,
   "metadata": {},
   "outputs": [
    {
     "output_type": "execute_result",
     "data": {
      "text/plain": [
       "array([0, 1, 3, 4])"
      ]
     },
     "metadata": {},
     "execution_count": 12
    }
   ],
   "source": [
    "a = np.arange(2)\n",
    "b = np.arange(3, 5)\n",
    "np.concatenate([a, b])"
   ]
  },
  {
   "cell_type": "code",
   "execution_count": 13,
   "metadata": {},
   "outputs": [
    {
     "output_type": "display_data",
     "data": {
      "text/plain": "<Figure size 720x576 with 2 Axes>",
      "image/svg+xml": "<?xml version=\"1.0\" encoding=\"utf-8\" standalone=\"no\"?>\r\n<!DOCTYPE svg PUBLIC \"-//W3C//DTD SVG 1.1//EN\"\r\n  \"http://www.w3.org/Graphics/SVG/1.1/DTD/svg11.dtd\">\r\n<!-- Created with matplotlib (https://matplotlib.org/) -->\r\n<svg height=\"465.958125pt\" version=\"1.1\" viewBox=\"0 0 604.85 465.958125\" width=\"604.85pt\" xmlns=\"http://www.w3.org/2000/svg\" xmlns:xlink=\"http://www.w3.org/1999/xlink\">\r\n <metadata>\r\n  <rdf:RDF xmlns:cc=\"http://creativecommons.org/ns#\" xmlns:dc=\"http://purl.org/dc/elements/1.1/\" xmlns:rdf=\"http://www.w3.org/1999/02/22-rdf-syntax-ns#\">\r\n   <cc:Work>\r\n    <dc:type rdf:resource=\"http://purl.org/dc/dcmitype/StillImage\"/>\r\n    <dc:date>2021-01-13T19:14:06.640715</dc:date>\r\n    <dc:format>image/svg+xml</dc:format>\r\n    <dc:creator>\r\n     <cc:Agent>\r\n      <dc:title>Matplotlib v3.3.2, https://matplotlib.org/</dc:title>\r\n     </cc:Agent>\r\n    </dc:creator>\r\n   </cc:Work>\r\n  </rdf:RDF>\r\n </metadata>\r\n <defs>\r\n  <style type=\"text/css\">*{stroke-linecap:butt;stroke-linejoin:round;}</style>\r\n </defs>\r\n <g id=\"figure_1\">\r\n  <g id=\"patch_1\">\r\n   <path d=\"M 0 465.958125 \r\nL 604.85 465.958125 \r\nL 604.85 0 \r\nL 0 0 \r\nz\r\n\" style=\"fill:none;\"/>\r\n  </g>\r\n  <g id=\"axes_1\">\r\n   <g id=\"patch_2\">\r\n    <path d=\"M 39.65 204.872727 \r\nL 597.65 204.872727 \r\nL 597.65 7.2 \r\nL 39.65 7.2 \r\nz\r\n\" style=\"fill:#ffffff;\"/>\r\n   </g>\r\n   <g id=\"patch_3\">\r\n    <path clip-path=\"url(#p25a9f78085)\" d=\"M 65.013636 204.872727 \r\nL 70.086364 204.872727 \r\nL 70.086364 26.043768 \r\nL 65.013636 26.043768 \r\nz\r\n\" style=\"fill:#1f77b4;\"/>\r\n   </g>\r\n   <g id=\"patch_4\">\r\n    <path clip-path=\"url(#p25a9f78085)\" d=\"M 70.086364 204.872727 \r\nL 75.159091 204.872727 \r\nL 75.159091 37.60982 \r\nL 70.086364 37.60982 \r\nz\r\n\" style=\"fill:#1f77b4;\"/>\r\n   </g>\r\n   <g id=\"patch_5\">\r\n    <path clip-path=\"url(#p25a9f78085)\" d=\"M 75.159091 204.872727 \r\nL 80.231818 204.872727 \r\nL 80.231818 22.662922 \r\nL 75.159091 22.662922 \r\nz\r\n\" style=\"fill:#1f77b4;\"/>\r\n   </g>\r\n   <g id=\"patch_6\">\r\n    <path clip-path=\"url(#p25a9f78085)\" d=\"M 80.231818 204.872727 \r\nL 85.304545 204.872727 \r\nL 85.304545 20.349712 \r\nL 80.231818 20.349712 \r\nz\r\n\" style=\"fill:#1f77b4;\"/>\r\n   </g>\r\n   <g id=\"patch_7\">\r\n    <path clip-path=\"url(#p25a9f78085)\" d=\"M 85.304545 204.872727 \r\nL 90.377273 204.872727 \r\nL 90.377273 23.0188 \r\nL 85.304545 23.0188 \r\nz\r\n\" style=\"fill:#1f77b4;\"/>\r\n   </g>\r\n   <g id=\"patch_8\">\r\n    <path clip-path=\"url(#p25a9f78085)\" d=\"M 90.377273 204.872727 \r\nL 95.45 204.872727 \r\nL 95.45 32.627521 \r\nL 90.377273 32.627521 \r\nz\r\n\" style=\"fill:#1f77b4;\"/>\r\n   </g>\r\n   <g id=\"patch_9\">\r\n    <path clip-path=\"url(#p25a9f78085)\" d=\"M 95.45 204.872727 \r\nL 100.522727 204.872727 \r\nL 100.522727 31.381946 \r\nL 95.45 31.381946 \r\nz\r\n\" style=\"fill:#1f77b4;\"/>\r\n   </g>\r\n   <g id=\"patch_10\">\r\n    <path clip-path=\"url(#p25a9f78085)\" d=\"M 100.522727 204.872727 \r\nL 105.595455 204.872727 \r\nL 105.595455 21.595286 \r\nL 100.522727 21.595286 \r\nz\r\n\" style=\"fill:#1f77b4;\"/>\r\n   </g>\r\n   <g id=\"patch_11\">\r\n    <path clip-path=\"url(#p25a9f78085)\" d=\"M 105.595455 204.872727 \r\nL 110.668182 204.872727 \r\nL 110.668182 27.467282 \r\nL 105.595455 27.467282 \r\nz\r\n\" style=\"fill:#1f77b4;\"/>\r\n   </g>\r\n   <g id=\"patch_12\">\r\n    <path clip-path=\"url(#p25a9f78085)\" d=\"M 110.668182 204.872727 \r\nL 115.740909 204.872727 \r\nL 115.740909 25.865829 \r\nL 110.668182 25.865829 \r\nz\r\n\" style=\"fill:#1f77b4;\"/>\r\n   </g>\r\n   <g id=\"patch_13\">\r\n    <path clip-path=\"url(#p25a9f78085)\" d=\"M 115.740909 204.872727 \r\nL 120.813636 204.872727 \r\nL 120.813636 27.823161 \r\nL 115.740909 27.823161 \r\nz\r\n\" style=\"fill:#1f77b4;\"/>\r\n   </g>\r\n   <g id=\"patch_14\">\r\n    <path clip-path=\"url(#p25a9f78085)\" d=\"M 120.813636 204.872727 \r\nL 125.886364 204.872727 \r\nL 125.886364 23.730558 \r\nL 120.813636 23.730558 \r\nz\r\n\" style=\"fill:#1f77b4;\"/>\r\n   </g>\r\n   <g id=\"patch_15\">\r\n    <path clip-path=\"url(#p25a9f78085)\" d=\"M 125.886364 204.872727 \r\nL 130.959091 204.872727 \r\nL 130.959091 25.50995 \r\nL 125.886364 25.50995 \r\nz\r\n\" style=\"fill:#1f77b4;\"/>\r\n   </g>\r\n   <g id=\"patch_16\">\r\n    <path clip-path=\"url(#p25a9f78085)\" d=\"M 130.959091 204.872727 \r\nL 136.031818 204.872727 \r\nL 136.031818 25.332011 \r\nL 130.959091 25.332011 \r\nz\r\n\" style=\"fill:#1f77b4;\"/>\r\n   </g>\r\n   <g id=\"patch_17\">\r\n    <path clip-path=\"url(#p25a9f78085)\" d=\"M 136.031818 204.872727 \r\nL 141.104545 204.872727 \r\nL 141.104545 22.662922 \r\nL 136.031818 22.662922 \r\nz\r\n\" style=\"fill:#1f77b4;\"/>\r\n   </g>\r\n   <g id=\"patch_18\">\r\n    <path clip-path=\"url(#p25a9f78085)\" d=\"M 141.104545 204.872727 \r\nL 146.177273 204.872727 \r\nL 146.177273 27.823161 \r\nL 141.104545 27.823161 \r\nz\r\n\" style=\"fill:#1f77b4;\"/>\r\n   </g>\r\n   <g id=\"patch_19\">\r\n    <path clip-path=\"url(#p25a9f78085)\" d=\"M 146.177273 204.872727 \r\nL 151.25 204.872727 \r\nL 151.25 29.424614 \r\nL 146.177273 29.424614 \r\nz\r\n\" style=\"fill:#1f77b4;\"/>\r\n   </g>\r\n   <g id=\"patch_20\">\r\n    <path clip-path=\"url(#p25a9f78085)\" d=\"M 151.25 204.872727 \r\nL 156.322727 204.872727 \r\nL 156.322727 23.552618 \r\nL 151.25 23.552618 \r\nz\r\n\" style=\"fill:#1f77b4;\"/>\r\n   </g>\r\n   <g id=\"patch_21\">\r\n    <path clip-path=\"url(#p25a9f78085)\" d=\"M 156.322727 204.872727 \r\nL 161.395455 204.872727 \r\nL 161.395455 32.80546 \r\nL 156.322727 32.80546 \r\nz\r\n\" style=\"fill:#1f77b4;\"/>\r\n   </g>\r\n   <g id=\"patch_22\">\r\n    <path clip-path=\"url(#p25a9f78085)\" d=\"M 161.395455 204.872727 \r\nL 166.468182 204.872727 \r\nL 166.468182 21.061469 \r\nL 161.395455 21.061469 \r\nz\r\n\" style=\"fill:#1f77b4;\"/>\r\n   </g>\r\n   <g id=\"patch_23\">\r\n    <path clip-path=\"url(#p25a9f78085)\" d=\"M 166.468182 204.872727 \r\nL 171.540909 204.872727 \r\nL 171.540909 27.645221 \r\nL 166.468182 27.645221 \r\nz\r\n\" style=\"fill:#1f77b4;\"/>\r\n   </g>\r\n   <g id=\"patch_24\">\r\n    <path clip-path=\"url(#p25a9f78085)\" d=\"M 171.540909 204.872727 \r\nL 176.613636 204.872727 \r\nL 176.613636 25.332011 \r\nL 171.540909 25.332011 \r\nz\r\n\" style=\"fill:#1f77b4;\"/>\r\n   </g>\r\n   <g id=\"patch_25\">\r\n    <path clip-path=\"url(#p25a9f78085)\" d=\"M 176.613636 204.872727 \r\nL 181.686364 204.872727 \r\nL 181.686364 17.146805 \r\nL 176.613636 17.146805 \r\nz\r\n\" style=\"fill:#1f77b4;\"/>\r\n   </g>\r\n   <g id=\"patch_26\">\r\n    <path clip-path=\"url(#p25a9f78085)\" d=\"M 181.686364 204.872727 \r\nL 186.759091 204.872727 \r\nL 186.759091 38.677456 \r\nL 181.686364 38.677456 \r\nz\r\n\" style=\"fill:#1f77b4;\"/>\r\n   </g>\r\n   <g id=\"patch_27\">\r\n    <path clip-path=\"url(#p25a9f78085)\" d=\"M 186.759091 204.872727 \r\nL 191.831818 204.872727 \r\nL 191.831818 21.417347 \r\nL 186.759091 21.417347 \r\nz\r\n\" style=\"fill:#1f77b4;\"/>\r\n   </g>\r\n   <g id=\"patch_28\">\r\n    <path clip-path=\"url(#p25a9f78085)\" d=\"M 191.831818 204.872727 \r\nL 196.904545 204.872727 \r\nL 196.904545 33.339278 \r\nL 191.831818 33.339278 \r\nz\r\n\" style=\"fill:#1f77b4;\"/>\r\n   </g>\r\n   <g id=\"patch_29\">\r\n    <path clip-path=\"url(#p25a9f78085)\" d=\"M 196.904545 204.872727 \r\nL 201.977273 204.872727 \r\nL 201.977273 32.093703 \r\nL 196.904545 32.093703 \r\nz\r\n\" style=\"fill:#1f77b4;\"/>\r\n   </g>\r\n   <g id=\"patch_30\">\r\n    <path clip-path=\"url(#p25a9f78085)\" d=\"M 201.977273 204.872727 \r\nL 207.05 204.872727 \r\nL 207.05 33.695156 \r\nL 201.977273 33.695156 \r\nz\r\n\" style=\"fill:#1f77b4;\"/>\r\n   </g>\r\n   <g id=\"patch_31\">\r\n    <path clip-path=\"url(#p25a9f78085)\" d=\"M 207.05 204.872727 \r\nL 212.122727 204.872727 \r\nL 212.122727 37.787759 \r\nL 207.05 37.787759 \r\nz\r\n\" style=\"fill:#1f77b4;\"/>\r\n   </g>\r\n   <g id=\"patch_32\">\r\n    <path clip-path=\"url(#p25a9f78085)\" d=\"M 212.122727 204.872727 \r\nL 217.195455 204.872727 \r\nL 217.195455 38.499516 \r\nL 212.122727 38.499516 \r\nz\r\n\" style=\"fill:#1f77b4;\"/>\r\n   </g>\r\n   <g id=\"patch_33\">\r\n    <path clip-path=\"url(#p25a9f78085)\" d=\"M 217.195455 204.872727 \r\nL 222.268182 204.872727 \r\nL 222.268182 33.695156 \r\nL 217.195455 33.695156 \r\nz\r\n\" style=\"fill:#1f77b4;\"/>\r\n   </g>\r\n   <g id=\"patch_34\">\r\n    <path clip-path=\"url(#p25a9f78085)\" d=\"M 222.268182 204.872727 \r\nL 227.340909 204.872727 \r\nL 227.340909 33.695156 \r\nL 222.268182 33.695156 \r\nz\r\n\" style=\"fill:#1f77b4;\"/>\r\n   </g>\r\n   <g id=\"patch_35\">\r\n    <path clip-path=\"url(#p25a9f78085)\" d=\"M 227.340909 204.872727 \r\nL 232.413636 204.872727 \r\nL 232.413636 23.374679 \r\nL 227.340909 23.374679 \r\nz\r\n\" style=\"fill:#1f77b4;\"/>\r\n   </g>\r\n   <g id=\"patch_36\">\r\n    <path clip-path=\"url(#p25a9f78085)\" d=\"M 232.413636 204.872727 \r\nL 237.486364 204.872727 \r\nL 237.486364 17.146805 \r\nL 232.413636 17.146805 \r\nz\r\n\" style=\"fill:#1f77b4;\"/>\r\n   </g>\r\n   <g id=\"patch_37\">\r\n    <path clip-path=\"url(#p25a9f78085)\" d=\"M 237.486364 204.872727 \r\nL 242.559091 204.872727 \r\nL 242.559091 27.823161 \r\nL 237.486364 27.823161 \r\nz\r\n\" style=\"fill:#1f77b4;\"/>\r\n   </g>\r\n   <g id=\"patch_38\">\r\n    <path clip-path=\"url(#p25a9f78085)\" d=\"M 242.559091 204.872727 \r\nL 247.631818 204.872727 \r\nL 247.631818 28.534918 \r\nL 242.559091 28.534918 \r\nz\r\n\" style=\"fill:#1f77b4;\"/>\r\n   </g>\r\n   <g id=\"patch_39\">\r\n    <path clip-path=\"url(#p25a9f78085)\" d=\"M 247.631818 204.872727 \r\nL 252.704545 204.872727 \r\nL 252.704545 21.239408 \r\nL 247.631818 21.239408 \r\nz\r\n\" style=\"fill:#1f77b4;\"/>\r\n   </g>\r\n   <g id=\"patch_40\">\r\n    <path clip-path=\"url(#p25a9f78085)\" d=\"M 252.704545 204.872727 \r\nL 257.777273 204.872727 \r\nL 257.777273 16.612987 \r\nL 252.704545 16.612987 \r\nz\r\n\" style=\"fill:#1f77b4;\"/>\r\n   </g>\r\n   <g id=\"patch_41\">\r\n    <path clip-path=\"url(#p25a9f78085)\" d=\"M 257.777273 204.872727 \r\nL 262.85 204.872727 \r\nL 262.85 41.346545 \r\nL 257.777273 41.346545 \r\nz\r\n\" style=\"fill:#1f77b4;\"/>\r\n   </g>\r\n   <g id=\"patch_42\">\r\n    <path clip-path=\"url(#p25a9f78085)\" d=\"M 262.85 204.872727 \r\nL 267.922727 204.872727 \r\nL 267.922727 31.026067 \r\nL 262.85 31.026067 \r\nz\r\n\" style=\"fill:#1f77b4;\"/>\r\n   </g>\r\n   <g id=\"patch_43\">\r\n    <path clip-path=\"url(#p25a9f78085)\" d=\"M 267.922727 204.872727 \r\nL 272.995455 204.872727 \r\nL 272.995455 20.171772 \r\nL 267.922727 20.171772 \r\nz\r\n\" style=\"fill:#1f77b4;\"/>\r\n   </g>\r\n   <g id=\"patch_44\">\r\n    <path clip-path=\"url(#p25a9f78085)\" d=\"M 272.995455 204.872727 \r\nL 278.068182 204.872727 \r\nL 278.068182 18.926197 \r\nL 272.995455 18.926197 \r\nz\r\n\" style=\"fill:#1f77b4;\"/>\r\n   </g>\r\n   <g id=\"patch_45\">\r\n    <path clip-path=\"url(#p25a9f78085)\" d=\"M 278.068182 204.872727 \r\nL 283.140909 204.872727 \r\nL 283.140909 21.773226 \r\nL 278.068182 21.773226 \r\nz\r\n\" style=\"fill:#1f77b4;\"/>\r\n   </g>\r\n   <g id=\"patch_46\">\r\n    <path clip-path=\"url(#p25a9f78085)\" d=\"M 283.140909 204.872727 \r\nL 288.213636 204.872727 \r\nL 288.213636 29.068735 \r\nL 283.140909 29.068735 \r\nz\r\n\" style=\"fill:#1f77b4;\"/>\r\n   </g>\r\n   <g id=\"patch_47\">\r\n    <path clip-path=\"url(#p25a9f78085)\" d=\"M 288.213636 204.872727 \r\nL 293.286364 204.872727 \r\nL 293.286364 21.239408 \r\nL 288.213636 21.239408 \r\nz\r\n\" style=\"fill:#1f77b4;\"/>\r\n   </g>\r\n   <g id=\"patch_48\">\r\n    <path clip-path=\"url(#p25a9f78085)\" d=\"M 293.286364 204.872727 \r\nL 298.359091 204.872727 \r\nL 298.359091 27.467282 \r\nL 293.286364 27.467282 \r\nz\r\n\" style=\"fill:#1f77b4;\"/>\r\n   </g>\r\n   <g id=\"patch_49\">\r\n    <path clip-path=\"url(#p25a9f78085)\" d=\"M 298.359091 204.872727 \r\nL 303.431818 204.872727 \r\nL 303.431818 27.823161 \r\nL 298.359091 27.823161 \r\nz\r\n\" style=\"fill:#1f77b4;\"/>\r\n   </g>\r\n   <g id=\"patch_50\">\r\n    <path clip-path=\"url(#p25a9f78085)\" d=\"M 303.431818 204.872727 \r\nL 308.504545 204.872727 \r\nL 308.504545 21.773226 \r\nL 303.431818 21.773226 \r\nz\r\n\" style=\"fill:#1f77b4;\"/>\r\n   </g>\r\n   <g id=\"patch_51\">\r\n    <path clip-path=\"url(#p25a9f78085)\" d=\"M 308.504545 204.872727 \r\nL 313.577273 204.872727 \r\nL 313.577273 24.086436 \r\nL 308.504545 24.086436 \r\nz\r\n\" style=\"fill:#1f77b4;\"/>\r\n   </g>\r\n   <g id=\"patch_52\">\r\n    <path clip-path=\"url(#p25a9f78085)\" d=\"M 313.577273 204.872727 \r\nL 318.65 204.872727 \r\nL 318.65 23.552618 \r\nL 313.577273 23.552618 \r\nz\r\n\" style=\"fill:#1f77b4;\"/>\r\n   </g>\r\n   <g id=\"patch_53\">\r\n    <path clip-path=\"url(#p25a9f78085)\" d=\"M 318.65 204.872727 \r\nL 323.722727 204.872727 \r\nL 323.722727 31.915764 \r\nL 318.65 31.915764 \r\nz\r\n\" style=\"fill:#1f77b4;\"/>\r\n   </g>\r\n   <g id=\"patch_54\">\r\n    <path clip-path=\"url(#p25a9f78085)\" d=\"M 323.722727 204.872727 \r\nL 328.795455 204.872727 \r\nL 328.795455 27.645221 \r\nL 323.722727 27.645221 \r\nz\r\n\" style=\"fill:#1f77b4;\"/>\r\n   </g>\r\n   <g id=\"patch_55\">\r\n    <path clip-path=\"url(#p25a9f78085)\" d=\"M 328.795455 204.872727 \r\nL 333.868182 204.872727 \r\nL 333.868182 29.424614 \r\nL 328.795455 29.424614 \r\nz\r\n\" style=\"fill:#1f77b4;\"/>\r\n   </g>\r\n   <g id=\"patch_56\">\r\n    <path clip-path=\"url(#p25a9f78085)\" d=\"M 333.868182 204.872727 \r\nL 338.940909 204.872727 \r\nL 338.940909 26.399646 \r\nL 333.868182 26.399646 \r\nz\r\n\" style=\"fill:#1f77b4;\"/>\r\n   </g>\r\n   <g id=\"patch_57\">\r\n    <path clip-path=\"url(#p25a9f78085)\" d=\"M 338.940909 204.872727 \r\nL 344.013636 204.872727 \r\nL 344.013636 28.534918 \r\nL 338.940909 28.534918 \r\nz\r\n\" style=\"fill:#1f77b4;\"/>\r\n   </g>\r\n   <g id=\"patch_58\">\r\n    <path clip-path=\"url(#p25a9f78085)\" d=\"M 344.013636 204.872727 \r\nL 349.086364 204.872727 \r\nL 349.086364 29.602553 \r\nL 344.013636 29.602553 \r\nz\r\n\" style=\"fill:#1f77b4;\"/>\r\n   </g>\r\n   <g id=\"patch_59\">\r\n    <path clip-path=\"url(#p25a9f78085)\" d=\"M 349.086364 204.872727 \r\nL 354.159091 204.872727 \r\nL 354.159091 23.730558 \r\nL 349.086364 23.730558 \r\nz\r\n\" style=\"fill:#1f77b4;\"/>\r\n   </g>\r\n   <g id=\"patch_60\">\r\n    <path clip-path=\"url(#p25a9f78085)\" d=\"M 354.159091 204.872727 \r\nL 359.231818 204.872727 \r\nL 359.231818 19.993833 \r\nL 354.159091 19.993833 \r\nz\r\n\" style=\"fill:#1f77b4;\"/>\r\n   </g>\r\n   <g id=\"patch_61\">\r\n    <path clip-path=\"url(#p25a9f78085)\" d=\"M 359.231818 204.872727 \r\nL 364.304545 204.872727 \r\nL 364.304545 32.627521 \r\nL 359.231818 32.627521 \r\nz\r\n\" style=\"fill:#1f77b4;\"/>\r\n   </g>\r\n   <g id=\"patch_62\">\r\n    <path clip-path=\"url(#p25a9f78085)\" d=\"M 364.304545 204.872727 \r\nL 369.377273 204.872727 \r\nL 369.377273 20.527651 \r\nL 364.304545 20.527651 \r\nz\r\n\" style=\"fill:#1f77b4;\"/>\r\n   </g>\r\n   <g id=\"patch_63\">\r\n    <path clip-path=\"url(#p25a9f78085)\" d=\"M 369.377273 204.872727 \r\nL 374.45 204.872727 \r\nL 374.45 18.570319 \r\nL 369.377273 18.570319 \r\nz\r\n\" style=\"fill:#1f77b4;\"/>\r\n   </g>\r\n   <g id=\"patch_64\">\r\n    <path clip-path=\"url(#p25a9f78085)\" d=\"M 374.45 204.872727 \r\nL 379.522727 204.872727 \r\nL 379.522727 21.239408 \r\nL 374.45 21.239408 \r\nz\r\n\" style=\"fill:#1f77b4;\"/>\r\n   </g>\r\n   <g id=\"patch_65\">\r\n    <path clip-path=\"url(#p25a9f78085)\" d=\"M 379.522727 204.872727 \r\nL 384.595455 204.872727 \r\nL 384.595455 20.883529 \r\nL 379.522727 20.883529 \r\nz\r\n\" style=\"fill:#1f77b4;\"/>\r\n   </g>\r\n   <g id=\"patch_66\">\r\n    <path clip-path=\"url(#p25a9f78085)\" d=\"M 384.595455 204.872727 \r\nL 389.668182 204.872727 \r\nL 389.668182 31.204007 \r\nL 384.595455 31.204007 \r\nz\r\n\" style=\"fill:#1f77b4;\"/>\r\n   </g>\r\n   <g id=\"patch_67\">\r\n    <path clip-path=\"url(#p25a9f78085)\" d=\"M 389.668182 204.872727 \r\nL 394.740909 204.872727 \r\nL 394.740909 28.712857 \r\nL 389.668182 28.712857 \r\nz\r\n\" style=\"fill:#1f77b4;\"/>\r\n   </g>\r\n   <g id=\"patch_68\">\r\n    <path clip-path=\"url(#p25a9f78085)\" d=\"M 394.740909 204.872727 \r\nL 399.813636 204.872727 \r\nL 399.813636 19.104137 \r\nL 394.740909 19.104137 \r\nz\r\n\" style=\"fill:#1f77b4;\"/>\r\n   </g>\r\n   <g id=\"patch_69\">\r\n    <path clip-path=\"url(#p25a9f78085)\" d=\"M 399.813636 204.872727 \r\nL 404.886364 204.872727 \r\nL 404.886364 24.620254 \r\nL 399.813636 24.620254 \r\nz\r\n\" style=\"fill:#1f77b4;\"/>\r\n   </g>\r\n   <g id=\"patch_70\">\r\n    <path clip-path=\"url(#p25a9f78085)\" d=\"M 404.886364 204.872727 \r\nL 409.959091 204.872727 \r\nL 409.959091 22.307043 \r\nL 404.886364 22.307043 \r\nz\r\n\" style=\"fill:#1f77b4;\"/>\r\n   </g>\r\n   <g id=\"patch_71\">\r\n    <path clip-path=\"url(#p25a9f78085)\" d=\"M 409.959091 204.872727 \r\nL 415.031818 204.872727 \r\nL 415.031818 25.687889 \r\nL 409.959091 25.687889 \r\nz\r\n\" style=\"fill:#1f77b4;\"/>\r\n   </g>\r\n   <g id=\"patch_72\">\r\n    <path clip-path=\"url(#p25a9f78085)\" d=\"M 415.031818 204.872727 \r\nL 420.104545 204.872727 \r\nL 420.104545 29.958432 \r\nL 415.031818 29.958432 \r\nz\r\n\" style=\"fill:#1f77b4;\"/>\r\n   </g>\r\n   <g id=\"patch_73\">\r\n    <path clip-path=\"url(#p25a9f78085)\" d=\"M 420.104545 204.872727 \r\nL 425.177273 204.872727 \r\nL 425.177273 28.179039 \r\nL 420.104545 28.179039 \r\nz\r\n\" style=\"fill:#1f77b4;\"/>\r\n   </g>\r\n   <g id=\"patch_74\">\r\n    <path clip-path=\"url(#p25a9f78085)\" d=\"M 425.177273 204.872727 \r\nL 430.25 204.872727 \r\nL 430.25 25.865829 \r\nL 425.177273 25.865829 \r\nz\r\n\" style=\"fill:#1f77b4;\"/>\r\n   </g>\r\n   <g id=\"patch_75\">\r\n    <path clip-path=\"url(#p25a9f78085)\" d=\"M 430.25 204.872727 \r\nL 435.322727 204.872727 \r\nL 435.322727 23.730558 \r\nL 430.25 23.730558 \r\nz\r\n\" style=\"fill:#1f77b4;\"/>\r\n   </g>\r\n   <g id=\"patch_76\">\r\n    <path clip-path=\"url(#p25a9f78085)\" d=\"M 435.322727 204.872727 \r\nL 440.395455 204.872727 \r\nL 440.395455 27.823161 \r\nL 435.322727 27.823161 \r\nz\r\n\" style=\"fill:#1f77b4;\"/>\r\n   </g>\r\n   <g id=\"patch_77\">\r\n    <path clip-path=\"url(#p25a9f78085)\" d=\"M 440.395455 204.872727 \r\nL 445.468182 204.872727 \r\nL 445.468182 28.0011 \r\nL 440.395455 28.0011 \r\nz\r\n\" style=\"fill:#1f77b4;\"/>\r\n   </g>\r\n   <g id=\"patch_78\">\r\n    <path clip-path=\"url(#p25a9f78085)\" d=\"M 445.468182 204.872727 \r\nL 450.540909 204.872727 \r\nL 450.540909 26.043768 \r\nL 445.468182 26.043768 \r\nz\r\n\" style=\"fill:#1f77b4;\"/>\r\n   </g>\r\n   <g id=\"patch_79\">\r\n    <path clip-path=\"url(#p25a9f78085)\" d=\"M 450.540909 204.872727 \r\nL 455.613636 204.872727 \r\nL 455.613636 32.093703 \r\nL 450.540909 32.093703 \r\nz\r\n\" style=\"fill:#1f77b4;\"/>\r\n   </g>\r\n   <g id=\"patch_80\">\r\n    <path clip-path=\"url(#p25a9f78085)\" d=\"M 455.613636 204.872727 \r\nL 460.686364 204.872727 \r\nL 460.686364 33.695156 \r\nL 455.613636 33.695156 \r\nz\r\n\" style=\"fill:#1f77b4;\"/>\r\n   </g>\r\n   <g id=\"patch_81\">\r\n    <path clip-path=\"url(#p25a9f78085)\" d=\"M 460.686364 204.872727 \r\nL 465.759091 204.872727 \r\nL 465.759091 34.406913 \r\nL 460.686364 34.406913 \r\nz\r\n\" style=\"fill:#1f77b4;\"/>\r\n   </g>\r\n   <g id=\"patch_82\">\r\n    <path clip-path=\"url(#p25a9f78085)\" d=\"M 465.759091 204.872727 \r\nL 470.831818 204.872727 \r\nL 470.831818 22.662922 \r\nL 465.759091 22.662922 \r\nz\r\n\" style=\"fill:#1f77b4;\"/>\r\n   </g>\r\n   <g id=\"patch_83\">\r\n    <path clip-path=\"url(#p25a9f78085)\" d=\"M 470.831818 204.872727 \r\nL 475.904545 204.872727 \r\nL 475.904545 27.645221 \r\nL 470.831818 27.645221 \r\nz\r\n\" style=\"fill:#1f77b4;\"/>\r\n   </g>\r\n   <g id=\"patch_84\">\r\n    <path clip-path=\"url(#p25a9f78085)\" d=\"M 475.904545 204.872727 \r\nL 480.977273 204.872727 \r\nL 480.977273 28.0011 \r\nL 475.904545 28.0011 \r\nz\r\n\" style=\"fill:#1f77b4;\"/>\r\n   </g>\r\n   <g id=\"patch_85\">\r\n    <path clip-path=\"url(#p25a9f78085)\" d=\"M 480.977273 204.872727 \r\nL 486.05 204.872727 \r\nL 486.05 23.730558 \r\nL 480.977273 23.730558 \r\nz\r\n\" style=\"fill:#1f77b4;\"/>\r\n   </g>\r\n   <g id=\"patch_86\">\r\n    <path clip-path=\"url(#p25a9f78085)\" d=\"M 486.05 204.872727 \r\nL 491.122727 204.872727 \r\nL 491.122727 26.221707 \r\nL 486.05 26.221707 \r\nz\r\n\" style=\"fill:#1f77b4;\"/>\r\n   </g>\r\n   <g id=\"patch_87\">\r\n    <path clip-path=\"url(#p25a9f78085)\" d=\"M 491.122727 204.872727 \r\nL 496.195455 204.872727 \r\nL 496.195455 25.154072 \r\nL 491.122727 25.154072 \r\nz\r\n\" style=\"fill:#1f77b4;\"/>\r\n   </g>\r\n   <g id=\"patch_88\">\r\n    <path clip-path=\"url(#p25a9f78085)\" d=\"M 496.195455 204.872727 \r\nL 501.268182 204.872727 \r\nL 501.268182 35.29661 \r\nL 496.195455 35.29661 \r\nz\r\n\" style=\"fill:#1f77b4;\"/>\r\n   </g>\r\n   <g id=\"patch_89\">\r\n    <path clip-path=\"url(#p25a9f78085)\" d=\"M 501.268182 204.872727 \r\nL 506.340909 204.872727 \r\nL 506.340909 35.652488 \r\nL 501.268182 35.652488 \r\nz\r\n\" style=\"fill:#1f77b4;\"/>\r\n   </g>\r\n   <g id=\"patch_90\">\r\n    <path clip-path=\"url(#p25a9f78085)\" d=\"M 506.340909 204.872727 \r\nL 511.413636 204.872727 \r\nL 511.413636 26.577586 \r\nL 506.340909 26.577586 \r\nz\r\n\" style=\"fill:#1f77b4;\"/>\r\n   </g>\r\n   <g id=\"patch_91\">\r\n    <path clip-path=\"url(#p25a9f78085)\" d=\"M 511.413636 204.872727 \r\nL 516.486364 204.872727 \r\nL 516.486364 33.695156 \r\nL 511.413636 33.695156 \r\nz\r\n\" style=\"fill:#1f77b4;\"/>\r\n   </g>\r\n   <g id=\"patch_92\">\r\n    <path clip-path=\"url(#p25a9f78085)\" d=\"M 516.486364 204.872727 \r\nL 521.559091 204.872727 \r\nL 521.559091 19.460015 \r\nL 516.486364 19.460015 \r\nz\r\n\" style=\"fill:#1f77b4;\"/>\r\n   </g>\r\n   <g id=\"patch_93\">\r\n    <path clip-path=\"url(#p25a9f78085)\" d=\"M 521.559091 204.872727 \r\nL 526.631818 204.872727 \r\nL 526.631818 24.620254 \r\nL 521.559091 24.620254 \r\nz\r\n\" style=\"fill:#1f77b4;\"/>\r\n   </g>\r\n   <g id=\"patch_94\">\r\n    <path clip-path=\"url(#p25a9f78085)\" d=\"M 526.631818 204.872727 \r\nL 531.704545 204.872727 \r\nL 531.704545 27.111404 \r\nL 526.631818 27.111404 \r\nz\r\n\" style=\"fill:#1f77b4;\"/>\r\n   </g>\r\n   <g id=\"patch_95\">\r\n    <path clip-path=\"url(#p25a9f78085)\" d=\"M 531.704545 204.872727 \r\nL 536.777273 204.872727 \r\nL 536.777273 33.695156 \r\nL 531.704545 33.695156 \r\nz\r\n\" style=\"fill:#1f77b4;\"/>\r\n   </g>\r\n   <g id=\"patch_96\">\r\n    <path clip-path=\"url(#p25a9f78085)\" d=\"M 536.777273 204.872727 \r\nL 541.85 204.872727 \r\nL 541.85 25.154072 \r\nL 536.777273 25.154072 \r\nz\r\n\" style=\"fill:#1f77b4;\"/>\r\n   </g>\r\n   <g id=\"patch_97\">\r\n    <path clip-path=\"url(#p25a9f78085)\" d=\"M 541.85 204.872727 \r\nL 546.922727 204.872727 \r\nL 546.922727 31.737824 \r\nL 541.85 31.737824 \r\nz\r\n\" style=\"fill:#1f77b4;\"/>\r\n   </g>\r\n   <g id=\"patch_98\">\r\n    <path clip-path=\"url(#p25a9f78085)\" d=\"M 546.922727 204.872727 \r\nL 551.995455 204.872727 \r\nL 551.995455 33.339278 \r\nL 546.922727 33.339278 \r\nz\r\n\" style=\"fill:#1f77b4;\"/>\r\n   </g>\r\n   <g id=\"patch_99\">\r\n    <path clip-path=\"url(#p25a9f78085)\" d=\"M 551.995455 204.872727 \r\nL 557.068182 204.872727 \r\nL 557.068182 22.662922 \r\nL 551.995455 22.662922 \r\nz\r\n\" style=\"fill:#1f77b4;\"/>\r\n   </g>\r\n   <g id=\"patch_100\">\r\n    <path clip-path=\"url(#p25a9f78085)\" d=\"M 557.068182 204.872727 \r\nL 562.140909 204.872727 \r\nL 562.140909 24.976132 \r\nL 557.068182 24.976132 \r\nz\r\n\" style=\"fill:#1f77b4;\"/>\r\n   </g>\r\n   <g id=\"patch_101\">\r\n    <path clip-path=\"url(#p25a9f78085)\" d=\"M 562.140909 204.872727 \r\nL 567.213636 204.872727 \r\nL 567.213636 21.595286 \r\nL 562.140909 21.595286 \r\nz\r\n\" style=\"fill:#1f77b4;\"/>\r\n   </g>\r\n   <g id=\"patch_102\">\r\n    <path clip-path=\"url(#p25a9f78085)\" d=\"M 567.213636 204.872727 \r\nL 572.286364 204.872727 \r\nL 572.286364 27.467282 \r\nL 567.213636 27.467282 \r\nz\r\n\" style=\"fill:#1f77b4;\"/>\r\n   </g>\r\n   <g id=\"matplotlib.axis_1\">\r\n    <g id=\"xtick_1\">\r\n     <g id=\"line2d_1\">\r\n      <defs>\r\n       <path d=\"M 0 0 \r\nL 0 3.5 \r\n\" id=\"m84d7b8d45f\" style=\"stroke:#000000;stroke-width:0.8;\"/>\r\n      </defs>\r\n      <g>\r\n       <use style=\"stroke:#000000;stroke-width:0.8;\" x=\"65.006235\" xlink:href=\"#m84d7b8d45f\" y=\"204.872727\"/>\r\n      </g>\r\n     </g>\r\n     <g id=\"text_1\">\r\n      <!-- 0.0 -->\r\n      <g transform=\"translate(57.054673 219.471165)scale(0.1 -0.1)\">\r\n       <defs>\r\n        <path d=\"M 31.78125 66.40625 \r\nQ 24.171875 66.40625 20.328125 58.90625 \r\nQ 16.5 51.421875 16.5 36.375 \r\nQ 16.5 21.390625 20.328125 13.890625 \r\nQ 24.171875 6.390625 31.78125 6.390625 \r\nQ 39.453125 6.390625 43.28125 13.890625 \r\nQ 47.125 21.390625 47.125 36.375 \r\nQ 47.125 51.421875 43.28125 58.90625 \r\nQ 39.453125 66.40625 31.78125 66.40625 \r\nz\r\nM 31.78125 74.21875 \r\nQ 44.046875 74.21875 50.515625 64.515625 \r\nQ 56.984375 54.828125 56.984375 36.375 \r\nQ 56.984375 17.96875 50.515625 8.265625 \r\nQ 44.046875 -1.421875 31.78125 -1.421875 \r\nQ 19.53125 -1.421875 13.0625 8.265625 \r\nQ 6.59375 17.96875 6.59375 36.375 \r\nQ 6.59375 54.828125 13.0625 64.515625 \r\nQ 19.53125 74.21875 31.78125 74.21875 \r\nz\r\n\" id=\"DejaVuSans-48\"/>\r\n        <path d=\"M 10.6875 12.40625 \r\nL 21 12.40625 \r\nL 21 0 \r\nL 10.6875 0 \r\nz\r\n\" id=\"DejaVuSans-46\"/>\r\n       </defs>\r\n       <use xlink:href=\"#DejaVuSans-48\"/>\r\n       <use x=\"63.623047\" xlink:href=\"#DejaVuSans-46\"/>\r\n       <use x=\"95.410156\" xlink:href=\"#DejaVuSans-48\"/>\r\n      </g>\r\n     </g>\r\n    </g>\r\n    <g id=\"xtick_2\">\r\n     <g id=\"line2d_2\">\r\n      <g>\r\n       <use style=\"stroke:#000000;stroke-width:0.8;\" x=\"166.465054\" xlink:href=\"#m84d7b8d45f\" y=\"204.872727\"/>\r\n      </g>\r\n     </g>\r\n     <g id=\"text_2\">\r\n      <!-- 0.2 -->\r\n      <g transform=\"translate(158.513492 219.471165)scale(0.1 -0.1)\">\r\n       <defs>\r\n        <path d=\"M 19.1875 8.296875 \r\nL 53.609375 8.296875 \r\nL 53.609375 0 \r\nL 7.328125 0 \r\nL 7.328125 8.296875 \r\nQ 12.9375 14.109375 22.625 23.890625 \r\nQ 32.328125 33.6875 34.8125 36.53125 \r\nQ 39.546875 41.84375 41.421875 45.53125 \r\nQ 43.3125 49.21875 43.3125 52.78125 \r\nQ 43.3125 58.59375 39.234375 62.25 \r\nQ 35.15625 65.921875 28.609375 65.921875 \r\nQ 23.96875 65.921875 18.8125 64.3125 \r\nQ 13.671875 62.703125 7.8125 59.421875 \r\nL 7.8125 69.390625 \r\nQ 13.765625 71.78125 18.9375 73 \r\nQ 24.125 74.21875 28.421875 74.21875 \r\nQ 39.75 74.21875 46.484375 68.546875 \r\nQ 53.21875 62.890625 53.21875 53.421875 \r\nQ 53.21875 48.921875 51.53125 44.890625 \r\nQ 49.859375 40.875 45.40625 35.40625 \r\nQ 44.1875 33.984375 37.640625 27.21875 \r\nQ 31.109375 20.453125 19.1875 8.296875 \r\nz\r\n\" id=\"DejaVuSans-50\"/>\r\n       </defs>\r\n       <use xlink:href=\"#DejaVuSans-48\"/>\r\n       <use x=\"63.623047\" xlink:href=\"#DejaVuSans-46\"/>\r\n       <use x=\"95.410156\" xlink:href=\"#DejaVuSans-50\"/>\r\n      </g>\r\n     </g>\r\n    </g>\r\n    <g id=\"xtick_3\">\r\n     <g id=\"line2d_3\">\r\n      <g>\r\n       <use style=\"stroke:#000000;stroke-width:0.8;\" x=\"267.923873\" xlink:href=\"#m84d7b8d45f\" y=\"204.872727\"/>\r\n      </g>\r\n     </g>\r\n     <g id=\"text_3\">\r\n      <!-- 0.4 -->\r\n      <g transform=\"translate(259.972311 219.471165)scale(0.1 -0.1)\">\r\n       <defs>\r\n        <path d=\"M 37.796875 64.3125 \r\nL 12.890625 25.390625 \r\nL 37.796875 25.390625 \r\nz\r\nM 35.203125 72.90625 \r\nL 47.609375 72.90625 \r\nL 47.609375 25.390625 \r\nL 58.015625 25.390625 \r\nL 58.015625 17.1875 \r\nL 47.609375 17.1875 \r\nL 47.609375 0 \r\nL 37.796875 0 \r\nL 37.796875 17.1875 \r\nL 4.890625 17.1875 \r\nL 4.890625 26.703125 \r\nz\r\n\" id=\"DejaVuSans-52\"/>\r\n       </defs>\r\n       <use xlink:href=\"#DejaVuSans-48\"/>\r\n       <use x=\"63.623047\" xlink:href=\"#DejaVuSans-46\"/>\r\n       <use x=\"95.410156\" xlink:href=\"#DejaVuSans-52\"/>\r\n      </g>\r\n     </g>\r\n    </g>\r\n    <g id=\"xtick_4\">\r\n     <g id=\"line2d_4\">\r\n      <g>\r\n       <use style=\"stroke:#000000;stroke-width:0.8;\" x=\"369.382692\" xlink:href=\"#m84d7b8d45f\" y=\"204.872727\"/>\r\n      </g>\r\n     </g>\r\n     <g id=\"text_4\">\r\n      <!-- 0.6 -->\r\n      <g transform=\"translate(361.43113 219.471165)scale(0.1 -0.1)\">\r\n       <defs>\r\n        <path d=\"M 33.015625 40.375 \r\nQ 26.375 40.375 22.484375 35.828125 \r\nQ 18.609375 31.296875 18.609375 23.390625 \r\nQ 18.609375 15.53125 22.484375 10.953125 \r\nQ 26.375 6.390625 33.015625 6.390625 \r\nQ 39.65625 6.390625 43.53125 10.953125 \r\nQ 47.40625 15.53125 47.40625 23.390625 \r\nQ 47.40625 31.296875 43.53125 35.828125 \r\nQ 39.65625 40.375 33.015625 40.375 \r\nz\r\nM 52.59375 71.296875 \r\nL 52.59375 62.3125 \r\nQ 48.875 64.0625 45.09375 64.984375 \r\nQ 41.3125 65.921875 37.59375 65.921875 \r\nQ 27.828125 65.921875 22.671875 59.328125 \r\nQ 17.53125 52.734375 16.796875 39.40625 \r\nQ 19.671875 43.65625 24.015625 45.921875 \r\nQ 28.375 48.1875 33.59375 48.1875 \r\nQ 44.578125 48.1875 50.953125 41.515625 \r\nQ 57.328125 34.859375 57.328125 23.390625 \r\nQ 57.328125 12.15625 50.6875 5.359375 \r\nQ 44.046875 -1.421875 33.015625 -1.421875 \r\nQ 20.359375 -1.421875 13.671875 8.265625 \r\nQ 6.984375 17.96875 6.984375 36.375 \r\nQ 6.984375 53.65625 15.1875 63.9375 \r\nQ 23.390625 74.21875 37.203125 74.21875 \r\nQ 40.921875 74.21875 44.703125 73.484375 \r\nQ 48.484375 72.75 52.59375 71.296875 \r\nz\r\n\" id=\"DejaVuSans-54\"/>\r\n       </defs>\r\n       <use xlink:href=\"#DejaVuSans-48\"/>\r\n       <use x=\"63.623047\" xlink:href=\"#DejaVuSans-46\"/>\r\n       <use x=\"95.410156\" xlink:href=\"#DejaVuSans-54\"/>\r\n      </g>\r\n     </g>\r\n    </g>\r\n    <g id=\"xtick_5\">\r\n     <g id=\"line2d_5\">\r\n      <g>\r\n       <use style=\"stroke:#000000;stroke-width:0.8;\" x=\"470.841511\" xlink:href=\"#m84d7b8d45f\" y=\"204.872727\"/>\r\n      </g>\r\n     </g>\r\n     <g id=\"text_5\">\r\n      <!-- 0.8 -->\r\n      <g transform=\"translate(462.889948 219.471165)scale(0.1 -0.1)\">\r\n       <defs>\r\n        <path d=\"M 31.78125 34.625 \r\nQ 24.75 34.625 20.71875 30.859375 \r\nQ 16.703125 27.09375 16.703125 20.515625 \r\nQ 16.703125 13.921875 20.71875 10.15625 \r\nQ 24.75 6.390625 31.78125 6.390625 \r\nQ 38.8125 6.390625 42.859375 10.171875 \r\nQ 46.921875 13.96875 46.921875 20.515625 \r\nQ 46.921875 27.09375 42.890625 30.859375 \r\nQ 38.875 34.625 31.78125 34.625 \r\nz\r\nM 21.921875 38.8125 \r\nQ 15.578125 40.375 12.03125 44.71875 \r\nQ 8.5 49.078125 8.5 55.328125 \r\nQ 8.5 64.0625 14.71875 69.140625 \r\nQ 20.953125 74.21875 31.78125 74.21875 \r\nQ 42.671875 74.21875 48.875 69.140625 \r\nQ 55.078125 64.0625 55.078125 55.328125 \r\nQ 55.078125 49.078125 51.53125 44.71875 \r\nQ 48 40.375 41.703125 38.8125 \r\nQ 48.828125 37.15625 52.796875 32.3125 \r\nQ 56.78125 27.484375 56.78125 20.515625 \r\nQ 56.78125 9.90625 50.3125 4.234375 \r\nQ 43.84375 -1.421875 31.78125 -1.421875 \r\nQ 19.734375 -1.421875 13.25 4.234375 \r\nQ 6.78125 9.90625 6.78125 20.515625 \r\nQ 6.78125 27.484375 10.78125 32.3125 \r\nQ 14.796875 37.15625 21.921875 38.8125 \r\nz\r\nM 18.3125 54.390625 \r\nQ 18.3125 48.734375 21.84375 45.5625 \r\nQ 25.390625 42.390625 31.78125 42.390625 \r\nQ 38.140625 42.390625 41.71875 45.5625 \r\nQ 45.3125 48.734375 45.3125 54.390625 \r\nQ 45.3125 60.0625 41.71875 63.234375 \r\nQ 38.140625 66.40625 31.78125 66.40625 \r\nQ 25.390625 66.40625 21.84375 63.234375 \r\nQ 18.3125 60.0625 18.3125 54.390625 \r\nz\r\n\" id=\"DejaVuSans-56\"/>\r\n       </defs>\r\n       <use xlink:href=\"#DejaVuSans-48\"/>\r\n       <use x=\"63.623047\" xlink:href=\"#DejaVuSans-46\"/>\r\n       <use x=\"95.410156\" xlink:href=\"#DejaVuSans-56\"/>\r\n      </g>\r\n     </g>\r\n    </g>\r\n    <g id=\"xtick_6\">\r\n     <g id=\"line2d_6\">\r\n      <g>\r\n       <use style=\"stroke:#000000;stroke-width:0.8;\" x=\"572.30033\" xlink:href=\"#m84d7b8d45f\" y=\"204.872727\"/>\r\n      </g>\r\n     </g>\r\n     <g id=\"text_6\">\r\n      <!-- 1.0 -->\r\n      <g transform=\"translate(564.348767 219.471165)scale(0.1 -0.1)\">\r\n       <defs>\r\n        <path d=\"M 12.40625 8.296875 \r\nL 28.515625 8.296875 \r\nL 28.515625 63.921875 \r\nL 10.984375 60.40625 \r\nL 10.984375 69.390625 \r\nL 28.421875 72.90625 \r\nL 38.28125 72.90625 \r\nL 38.28125 8.296875 \r\nL 54.390625 8.296875 \r\nL 54.390625 0 \r\nL 12.40625 0 \r\nz\r\n\" id=\"DejaVuSans-49\"/>\r\n       </defs>\r\n       <use xlink:href=\"#DejaVuSans-49\"/>\r\n       <use x=\"63.623047\" xlink:href=\"#DejaVuSans-46\"/>\r\n       <use x=\"95.410156\" xlink:href=\"#DejaVuSans-48\"/>\r\n      </g>\r\n     </g>\r\n    </g>\r\n   </g>\r\n   <g id=\"matplotlib.axis_2\">\r\n    <g id=\"ytick_1\">\r\n     <g id=\"line2d_7\">\r\n      <defs>\r\n       <path d=\"M 0 0 \r\nL -3.5 0 \r\n\" id=\"m74ee21769d\" style=\"stroke:#000000;stroke-width:0.8;\"/>\r\n      </defs>\r\n      <g>\r\n       <use style=\"stroke:#000000;stroke-width:0.8;\" x=\"39.65\" xlink:href=\"#m74ee21769d\" y=\"204.872727\"/>\r\n      </g>\r\n     </g>\r\n     <g id=\"text_7\">\r\n      <!-- 0 -->\r\n      <g transform=\"translate(26.2875 208.671946)scale(0.1 -0.1)\">\r\n       <use xlink:href=\"#DejaVuSans-48\"/>\r\n      </g>\r\n     </g>\r\n    </g>\r\n    <g id=\"ytick_2\">\r\n     <g id=\"line2d_8\">\r\n      <g>\r\n       <use style=\"stroke:#000000;stroke-width:0.8;\" x=\"39.65\" xlink:href=\"#m74ee21769d\" y=\"169.284875\"/>\r\n      </g>\r\n     </g>\r\n     <g id=\"text_8\">\r\n      <!-- 200 -->\r\n      <g transform=\"translate(13.5625 173.084093)scale(0.1 -0.1)\">\r\n       <use xlink:href=\"#DejaVuSans-50\"/>\r\n       <use x=\"63.623047\" xlink:href=\"#DejaVuSans-48\"/>\r\n       <use x=\"127.246094\" xlink:href=\"#DejaVuSans-48\"/>\r\n      </g>\r\n     </g>\r\n    </g>\r\n    <g id=\"ytick_3\">\r\n     <g id=\"line2d_9\">\r\n      <g>\r\n       <use style=\"stroke:#000000;stroke-width:0.8;\" x=\"39.65\" xlink:href=\"#m74ee21769d\" y=\"133.697022\"/>\r\n      </g>\r\n     </g>\r\n     <g id=\"text_9\">\r\n      <!-- 400 -->\r\n      <g transform=\"translate(13.5625 137.496241)scale(0.1 -0.1)\">\r\n       <use xlink:href=\"#DejaVuSans-52\"/>\r\n       <use x=\"63.623047\" xlink:href=\"#DejaVuSans-48\"/>\r\n       <use x=\"127.246094\" xlink:href=\"#DejaVuSans-48\"/>\r\n      </g>\r\n     </g>\r\n    </g>\r\n    <g id=\"ytick_4\">\r\n     <g id=\"line2d_10\">\r\n      <g>\r\n       <use style=\"stroke:#000000;stroke-width:0.8;\" x=\"39.65\" xlink:href=\"#m74ee21769d\" y=\"98.109169\"/>\r\n      </g>\r\n     </g>\r\n     <g id=\"text_10\">\r\n      <!-- 600 -->\r\n      <g transform=\"translate(13.5625 101.908388)scale(0.1 -0.1)\">\r\n       <use xlink:href=\"#DejaVuSans-54\"/>\r\n       <use x=\"63.623047\" xlink:href=\"#DejaVuSans-48\"/>\r\n       <use x=\"127.246094\" xlink:href=\"#DejaVuSans-48\"/>\r\n      </g>\r\n     </g>\r\n    </g>\r\n    <g id=\"ytick_5\">\r\n     <g id=\"line2d_11\">\r\n      <g>\r\n       <use style=\"stroke:#000000;stroke-width:0.8;\" x=\"39.65\" xlink:href=\"#m74ee21769d\" y=\"62.521317\"/>\r\n      </g>\r\n     </g>\r\n     <g id=\"text_11\">\r\n      <!-- 800 -->\r\n      <g transform=\"translate(13.5625 66.320536)scale(0.1 -0.1)\">\r\n       <use xlink:href=\"#DejaVuSans-56\"/>\r\n       <use x=\"63.623047\" xlink:href=\"#DejaVuSans-48\"/>\r\n       <use x=\"127.246094\" xlink:href=\"#DejaVuSans-48\"/>\r\n      </g>\r\n     </g>\r\n    </g>\r\n    <g id=\"ytick_6\">\r\n     <g id=\"line2d_12\">\r\n      <g>\r\n       <use style=\"stroke:#000000;stroke-width:0.8;\" x=\"39.65\" xlink:href=\"#m74ee21769d\" y=\"26.933464\"/>\r\n      </g>\r\n     </g>\r\n     <g id=\"text_12\">\r\n      <!-- 1000 -->\r\n      <g transform=\"translate(7.2 30.732683)scale(0.1 -0.1)\">\r\n       <use xlink:href=\"#DejaVuSans-49\"/>\r\n       <use x=\"63.623047\" xlink:href=\"#DejaVuSans-48\"/>\r\n       <use x=\"127.246094\" xlink:href=\"#DejaVuSans-48\"/>\r\n       <use x=\"190.869141\" xlink:href=\"#DejaVuSans-48\"/>\r\n      </g>\r\n     </g>\r\n    </g>\r\n   </g>\r\n   <g id=\"patch_103\">\r\n    <path d=\"M 39.65 204.872727 \r\nL 39.65 7.2 \r\n\" style=\"fill:none;stroke:#000000;stroke-linecap:square;stroke-linejoin:miter;stroke-width:0.8;\"/>\r\n   </g>\r\n   <g id=\"patch_104\">\r\n    <path d=\"M 597.65 204.872727 \r\nL 597.65 7.2 \r\n\" style=\"fill:none;stroke:#000000;stroke-linecap:square;stroke-linejoin:miter;stroke-width:0.8;\"/>\r\n   </g>\r\n   <g id=\"patch_105\">\r\n    <path d=\"M 39.65 204.872727 \r\nL 597.65 204.872727 \r\n\" style=\"fill:none;stroke:#000000;stroke-linecap:square;stroke-linejoin:miter;stroke-width:0.8;\"/>\r\n   </g>\r\n   <g id=\"patch_106\">\r\n    <path d=\"M 39.65 7.2 \r\nL 597.65 7.2 \r\n\" style=\"fill:none;stroke:#000000;stroke-linecap:square;stroke-linejoin:miter;stroke-width:0.8;\"/>\r\n   </g>\r\n  </g>\r\n  <g id=\"axes_2\">\r\n   <g id=\"patch_107\">\r\n    <path d=\"M 39.65 442.08 \r\nL 597.65 442.08 \r\nL 597.65 244.407273 \r\nL 39.65 244.407273 \r\nz\r\n\" style=\"fill:#ffffff;\"/>\r\n   </g>\r\n   <g id=\"patch_108\">\r\n    <path clip-path=\"url(#p2a9720cb67)\" d=\"M 65.013636 442.08 \r\nL 70.086364 442.08 \r\nL 70.086364 442.029677 \r\nL 65.013636 442.029677 \r\nz\r\n\" style=\"fill:#1f77b4;\"/>\r\n   </g>\r\n   <g id=\"patch_109\">\r\n    <path clip-path=\"url(#p2a9720cb67)\" d=\"M 70.086364 442.08 \r\nL 75.159091 442.08 \r\nL 75.159091 442.08 \r\nL 70.086364 442.08 \r\nz\r\n\" style=\"fill:#1f77b4;\"/>\r\n   </g>\r\n   <g id=\"patch_110\">\r\n    <path clip-path=\"url(#p2a9720cb67)\" d=\"M 75.159091 442.08 \r\nL 80.231818 442.08 \r\nL 80.231818 442.08 \r\nL 75.159091 442.08 \r\nz\r\n\" style=\"fill:#1f77b4;\"/>\r\n   </g>\r\n   <g id=\"patch_111\">\r\n    <path clip-path=\"url(#p2a9720cb67)\" d=\"M 80.231818 442.08 \r\nL 85.304545 442.08 \r\nL 85.304545 442.029677 \r\nL 80.231818 442.029677 \r\nz\r\n\" style=\"fill:#1f77b4;\"/>\r\n   </g>\r\n   <g id=\"patch_112\">\r\n    <path clip-path=\"url(#p2a9720cb67)\" d=\"M 85.304545 442.08 \r\nL 90.377273 442.08 \r\nL 90.377273 442.08 \r\nL 85.304545 442.08 \r\nz\r\n\" style=\"fill:#1f77b4;\"/>\r\n   </g>\r\n   <g id=\"patch_113\">\r\n    <path clip-path=\"url(#p2a9720cb67)\" d=\"M 90.377273 442.08 \r\nL 95.45 442.08 \r\nL 95.45 441.979353 \r\nL 90.377273 441.979353 \r\nz\r\n\" style=\"fill:#1f77b4;\"/>\r\n   </g>\r\n   <g id=\"patch_114\">\r\n    <path clip-path=\"url(#p2a9720cb67)\" d=\"M 95.45 442.08 \r\nL 100.522727 442.08 \r\nL 100.522727 441.979353 \r\nL 95.45 441.979353 \r\nz\r\n\" style=\"fill:#1f77b4;\"/>\r\n   </g>\r\n   <g id=\"patch_115\">\r\n    <path clip-path=\"url(#p2a9720cb67)\" d=\"M 100.522727 442.08 \r\nL 105.595455 442.08 \r\nL 105.595455 441.92903 \r\nL 100.522727 441.92903 \r\nz\r\n\" style=\"fill:#1f77b4;\"/>\r\n   </g>\r\n   <g id=\"patch_116\">\r\n    <path clip-path=\"url(#p2a9720cb67)\" d=\"M 105.595455 442.08 \r\nL 110.668182 442.08 \r\nL 110.668182 442.029677 \r\nL 105.595455 442.029677 \r\nz\r\n\" style=\"fill:#1f77b4;\"/>\r\n   </g>\r\n   <g id=\"patch_117\">\r\n    <path clip-path=\"url(#p2a9720cb67)\" d=\"M 110.668182 442.08 \r\nL 115.740909 442.08 \r\nL 115.740909 441.828383 \r\nL 110.668182 441.828383 \r\nz\r\n\" style=\"fill:#1f77b4;\"/>\r\n   </g>\r\n   <g id=\"patch_118\">\r\n    <path clip-path=\"url(#p2a9720cb67)\" d=\"M 115.740909 442.08 \r\nL 120.813636 442.08 \r\nL 120.813636 441.92903 \r\nL 115.740909 441.92903 \r\nz\r\n\" style=\"fill:#1f77b4;\"/>\r\n   </g>\r\n   <g id=\"patch_119\">\r\n    <path clip-path=\"url(#p2a9720cb67)\" d=\"M 120.813636 442.08 \r\nL 125.886364 442.08 \r\nL 125.886364 441.62709 \r\nL 120.813636 441.62709 \r\nz\r\n\" style=\"fill:#1f77b4;\"/>\r\n   </g>\r\n   <g id=\"patch_120\">\r\n    <path clip-path=\"url(#p2a9720cb67)\" d=\"M 125.886364 442.08 \r\nL 130.959091 442.08 \r\nL 130.959091 441.677413 \r\nL 125.886364 441.677413 \r\nz\r\n\" style=\"fill:#1f77b4;\"/>\r\n   </g>\r\n   <g id=\"patch_121\">\r\n    <path clip-path=\"url(#p2a9720cb67)\" d=\"M 130.959091 442.08 \r\nL 136.031818 442.08 \r\nL 136.031818 441.174179 \r\nL 130.959091 441.174179 \r\nz\r\n\" style=\"fill:#1f77b4;\"/>\r\n   </g>\r\n   <g id=\"patch_122\">\r\n    <path clip-path=\"url(#p2a9720cb67)\" d=\"M 136.031818 442.08 \r\nL 141.104545 442.08 \r\nL 141.104545 440.922562 \r\nL 136.031818 440.922562 \r\nz\r\n\" style=\"fill:#1f77b4;\"/>\r\n   </g>\r\n   <g id=\"patch_123\">\r\n    <path clip-path=\"url(#p2a9720cb67)\" d=\"M 141.104545 442.08 \r\nL 146.177273 442.08 \r\nL 146.177273 440.972886 \r\nL 141.104545 440.972886 \r\nz\r\n\" style=\"fill:#1f77b4;\"/>\r\n   </g>\r\n   <g id=\"patch_124\">\r\n    <path clip-path=\"url(#p2a9720cb67)\" d=\"M 146.177273 442.08 \r\nL 151.25 442.08 \r\nL 151.25 440.419329 \r\nL 146.177273 440.419329 \r\nz\r\n\" style=\"fill:#1f77b4;\"/>\r\n   </g>\r\n   <g id=\"patch_125\">\r\n    <path clip-path=\"url(#p2a9720cb67)\" d=\"M 151.25 442.08 \r\nL 156.322727 442.08 \r\nL 156.322727 440.067065 \r\nL 151.25 440.067065 \r\nz\r\n\" style=\"fill:#1f77b4;\"/>\r\n   </g>\r\n   <g id=\"patch_126\">\r\n    <path clip-path=\"url(#p2a9720cb67)\" d=\"M 156.322727 442.08 \r\nL 161.395455 442.08 \r\nL 161.395455 439.815448 \r\nL 156.322727 439.815448 \r\nz\r\n\" style=\"fill:#1f77b4;\"/>\r\n   </g>\r\n   <g id=\"patch_127\">\r\n    <path clip-path=\"url(#p2a9720cb67)\" d=\"M 161.395455 442.08 \r\nL 166.468182 442.08 \r\nL 166.468182 438.305747 \r\nL 161.395455 438.305747 \r\nz\r\n\" style=\"fill:#1f77b4;\"/>\r\n   </g>\r\n   <g id=\"patch_128\">\r\n    <path clip-path=\"url(#p2a9720cb67)\" d=\"M 166.468182 442.08 \r\nL 171.540909 442.08 \r\nL 171.540909 438.05413 \r\nL 166.468182 438.05413 \r\nz\r\n\" style=\"fill:#1f77b4;\"/>\r\n   </g>\r\n   <g id=\"patch_129\">\r\n    <path clip-path=\"url(#p2a9720cb67)\" d=\"M 171.540909 442.08 \r\nL 176.613636 442.08 \r\nL 176.613636 435.990872 \r\nL 171.540909 435.990872 \r\nz\r\n\" style=\"fill:#1f77b4;\"/>\r\n   </g>\r\n   <g id=\"patch_130\">\r\n    <path clip-path=\"url(#p2a9720cb67)\" d=\"M 176.613636 442.08 \r\nL 181.686364 442.08 \r\nL 181.686364 433.776643 \r\nL 176.613636 433.776643 \r\nz\r\n\" style=\"fill:#1f77b4;\"/>\r\n   </g>\r\n   <g id=\"patch_131\">\r\n    <path clip-path=\"url(#p2a9720cb67)\" d=\"M 181.686364 442.08 \r\nL 186.759091 442.08 \r\nL 186.759091 432.417912 \r\nL 181.686364 432.417912 \r\nz\r\n\" style=\"fill:#1f77b4;\"/>\r\n   </g>\r\n   <g id=\"patch_132\">\r\n    <path clip-path=\"url(#p2a9720cb67)\" d=\"M 186.759091 442.08 \r\nL 191.831818 442.08 \r\nL 191.831818 429.901744 \r\nL 186.759091 429.901744 \r\nz\r\n\" style=\"fill:#1f77b4;\"/>\r\n   </g>\r\n   <g id=\"patch_133\">\r\n    <path clip-path=\"url(#p2a9720cb67)\" d=\"M 191.831818 442.08 \r\nL 196.904545 442.08 \r\nL 196.904545 426.580401 \r\nL 191.831818 426.580401 \r\nz\r\n\" style=\"fill:#1f77b4;\"/>\r\n   </g>\r\n   <g id=\"patch_134\">\r\n    <path clip-path=\"url(#p2a9720cb67)\" d=\"M 196.904545 442.08 \r\nL 201.977273 442.08 \r\nL 201.977273 423.510675 \r\nL 196.904545 423.510675 \r\nz\r\n\" style=\"fill:#1f77b4;\"/>\r\n   </g>\r\n   <g id=\"patch_135\">\r\n    <path clip-path=\"url(#p2a9720cb67)\" d=\"M 201.977273 442.08 \r\nL 207.05 442.08 \r\nL 207.05 419.233188 \r\nL 201.977273 419.233188 \r\nz\r\n\" style=\"fill:#1f77b4;\"/>\r\n   </g>\r\n   <g id=\"patch_136\">\r\n    <path clip-path=\"url(#p2a9720cb67)\" d=\"M 207.05 442.08 \r\nL 212.122727 442.08 \r\nL 212.122727 414.905378 \r\nL 207.05 414.905378 \r\nz\r\n\" style=\"fill:#1f77b4;\"/>\r\n   </g>\r\n   <g id=\"patch_137\">\r\n    <path clip-path=\"url(#p2a9720cb67)\" d=\"M 212.122727 442.08 \r\nL 217.195455 442.08 \r\nL 217.195455 412.439533 \r\nL 212.122727 412.439533 \r\nz\r\n\" style=\"fill:#1f77b4;\"/>\r\n   </g>\r\n   <g id=\"patch_138\">\r\n    <path clip-path=\"url(#p2a9720cb67)\" d=\"M 217.195455 442.08 \r\nL 222.268182 442.08 \r\nL 222.268182 403.783913 \r\nL 217.195455 403.783913 \r\nz\r\n\" style=\"fill:#1f77b4;\"/>\r\n   </g>\r\n   <g id=\"patch_139\">\r\n    <path clip-path=\"url(#p2a9720cb67)\" d=\"M 222.268182 442.08 \r\nL 227.340909 442.08 \r\nL 227.340909 397.996725 \r\nL 222.268182 397.996725 \r\nz\r\n\" style=\"fill:#1f77b4;\"/>\r\n   </g>\r\n   <g id=\"patch_140\">\r\n    <path clip-path=\"url(#p2a9720cb67)\" d=\"M 227.340909 442.08 \r\nL 232.413636 442.08 \r\nL 232.413636 392.612124 \r\nL 227.340909 392.612124 \r\nz\r\n\" style=\"fill:#1f77b4;\"/>\r\n   </g>\r\n   <g id=\"patch_141\">\r\n    <path clip-path=\"url(#p2a9720cb67)\" d=\"M 232.413636 442.08 \r\nL 237.486364 442.08 \r\nL 237.486364 380.433867 \r\nL 232.413636 380.433867 \r\nz\r\n\" style=\"fill:#1f77b4;\"/>\r\n   </g>\r\n   <g id=\"patch_142\">\r\n    <path clip-path=\"url(#p2a9720cb67)\" d=\"M 237.486364 442.08 \r\nL 242.559091 442.08 \r\nL 242.559091 374.244093 \r\nL 237.486364 374.244093 \r\nz\r\n\" style=\"fill:#1f77b4;\"/>\r\n   </g>\r\n   <g id=\"patch_143\">\r\n    <path clip-path=\"url(#p2a9720cb67)\" d=\"M 242.559091 442.08 \r\nL 247.631818 442.08 \r\nL 247.631818 368.003994 \r\nL 242.559091 368.003994 \r\nz\r\n\" style=\"fill:#1f77b4;\"/>\r\n   </g>\r\n   <g id=\"patch_144\">\r\n    <path clip-path=\"url(#p2a9720cb67)\" d=\"M 247.631818 442.08 \r\nL 252.704545 442.08 \r\nL 252.704545 360.103225 \r\nL 247.631818 360.103225 \r\nz\r\n\" style=\"fill:#1f77b4;\"/>\r\n   </g>\r\n   <g id=\"patch_145\">\r\n    <path clip-path=\"url(#p2a9720cb67)\" d=\"M 252.704545 442.08 \r\nL 257.777273 442.08 \r\nL 257.777273 344.955889 \r\nL 252.704545 344.955889 \r\nz\r\n\" style=\"fill:#1f77b4;\"/>\r\n   </g>\r\n   <g id=\"patch_146\">\r\n    <path clip-path=\"url(#p2a9720cb67)\" d=\"M 257.777273 442.08 \r\nL 262.85 442.08 \r\nL 262.85 339.671935 \r\nL 257.777273 339.671935 \r\nz\r\n\" style=\"fill:#1f77b4;\"/>\r\n   </g>\r\n   <g id=\"patch_147\">\r\n    <path clip-path=\"url(#p2a9720cb67)\" d=\"M 262.85 442.08 \r\nL 267.922727 442.08 \r\nL 267.922727 325.883331 \r\nL 262.85 325.883331 \r\nz\r\n\" style=\"fill:#1f77b4;\"/>\r\n   </g>\r\n   <g id=\"patch_148\">\r\n    <path clip-path=\"url(#p2a9720cb67)\" d=\"M 267.922727 442.08 \r\nL 272.995455 442.08 \r\nL 272.995455 316.7748 \r\nL 267.922727 316.7748 \r\nz\r\n\" style=\"fill:#1f77b4;\"/>\r\n   </g>\r\n   <g id=\"patch_149\">\r\n    <path clip-path=\"url(#p2a9720cb67)\" d=\"M 272.995455 442.08 \r\nL 278.068182 442.08 \r\nL 278.068182 301.426171 \r\nL 272.995455 301.426171 \r\nz\r\n\" style=\"fill:#1f77b4;\"/>\r\n   </g>\r\n   <g id=\"patch_150\">\r\n    <path clip-path=\"url(#p2a9720cb67)\" d=\"M 278.068182 442.08 \r\nL 283.140909 442.08 \r\nL 283.140909 297.651918 \r\nL 278.068182 297.651918 \r\nz\r\n\" style=\"fill:#1f77b4;\"/>\r\n   </g>\r\n   <g id=\"patch_151\">\r\n    <path clip-path=\"url(#p2a9720cb67)\" d=\"M 283.140909 442.08 \r\nL 288.213636 442.08 \r\nL 288.213636 289.700825 \r\nL 283.140909 289.700825 \r\nz\r\n\" style=\"fill:#1f77b4;\"/>\r\n   </g>\r\n   <g id=\"patch_152\">\r\n    <path clip-path=\"url(#p2a9720cb67)\" d=\"M 288.213636 442.08 \r\nL 293.286364 442.08 \r\nL 293.286364 282.856846 \r\nL 288.213636 282.856846 \r\nz\r\n\" style=\"fill:#1f77b4;\"/>\r\n   </g>\r\n   <g id=\"patch_153\">\r\n    <path clip-path=\"url(#p2a9720cb67)\" d=\"M 293.286364 442.08 \r\nL 298.359091 442.08 \r\nL 298.359091 276.314808 \r\nL 293.286364 276.314808 \r\nz\r\n\" style=\"fill:#1f77b4;\"/>\r\n   </g>\r\n   <g id=\"patch_154\">\r\n    <path clip-path=\"url(#p2a9720cb67)\" d=\"M 298.359091 442.08 \r\nL 303.431818 442.08 \r\nL 303.431818 268.464361 \r\nL 298.359091 268.464361 \r\nz\r\n\" style=\"fill:#1f77b4;\"/>\r\n   </g>\r\n   <g id=\"patch_155\">\r\n    <path clip-path=\"url(#p2a9720cb67)\" d=\"M 303.431818 442.08 \r\nL 308.504545 442.08 \r\nL 308.504545 261.922323 \r\nL 303.431818 261.922323 \r\nz\r\n\" style=\"fill:#1f77b4;\"/>\r\n   </g>\r\n   <g id=\"patch_156\">\r\n    <path clip-path=\"url(#p2a9720cb67)\" d=\"M 308.504545 442.08 \r\nL 313.577273 442.08 \r\nL 313.577273 255.380284 \r\nL 308.504545 255.380284 \r\nz\r\n\" style=\"fill:#1f77b4;\"/>\r\n   </g>\r\n   <g id=\"patch_157\">\r\n    <path clip-path=\"url(#p2a9720cb67)\" d=\"M 313.577273 442.08 \r\nL 318.65 442.08 \r\nL 318.65 260.010035 \r\nL 313.577273 260.010035 \r\nz\r\n\" style=\"fill:#1f77b4;\"/>\r\n   </g>\r\n   <g id=\"patch_158\">\r\n    <path clip-path=\"url(#p2a9720cb67)\" d=\"M 318.65 442.08 \r\nL 323.722727 442.08 \r\nL 323.722727 253.82026 \r\nL 318.65 253.82026 \r\nz\r\n\" style=\"fill:#1f77b4;\"/>\r\n   </g>\r\n   <g id=\"patch_159\">\r\n    <path clip-path=\"url(#p2a9720cb67)\" d=\"M 323.722727 442.08 \r\nL 328.795455 442.08 \r\nL 328.795455 254.927374 \r\nL 323.722727 254.927374 \r\nz\r\n\" style=\"fill:#1f77b4;\"/>\r\n   </g>\r\n   <g id=\"patch_160\">\r\n    <path clip-path=\"url(#p2a9720cb67)\" d=\"M 328.795455 442.08 \r\nL 333.868182 442.08 \r\nL 333.868182 268.967595 \r\nL 328.795455 268.967595 \r\nz\r\n\" style=\"fill:#1f77b4;\"/>\r\n   </g>\r\n   <g id=\"patch_161\">\r\n    <path clip-path=\"url(#p2a9720cb67)\" d=\"M 333.868182 442.08 \r\nL 338.940909 442.08 \r\nL 338.940909 266.602397 \r\nL 333.868182 266.602397 \r\nz\r\n\" style=\"fill:#1f77b4;\"/>\r\n   </g>\r\n   <g id=\"patch_162\">\r\n    <path clip-path=\"url(#p2a9720cb67)\" d=\"M 338.940909 442.08 \r\nL 344.013636 442.08 \r\nL 344.013636 277.874832 \r\nL 338.940909 277.874832 \r\nz\r\n\" style=\"fill:#1f77b4;\"/>\r\n   </g>\r\n   <g id=\"patch_163\">\r\n    <path clip-path=\"url(#p2a9720cb67)\" d=\"M 344.013636 442.08 \r\nL 349.086364 442.08 \r\nL 349.086364 279.686474 \r\nL 344.013636 279.686474 \r\nz\r\n\" style=\"fill:#1f77b4;\"/>\r\n   </g>\r\n   <g id=\"patch_164\">\r\n    <path clip-path=\"url(#p2a9720cb67)\" d=\"M 349.086364 442.08 \r\nL 354.159091 442.08 \r\nL 354.159091 287.53692 \r\nL 349.086364 287.53692 \r\nz\r\n\" style=\"fill:#1f77b4;\"/>\r\n   </g>\r\n   <g id=\"patch_165\">\r\n    <path clip-path=\"url(#p2a9720cb67)\" d=\"M 354.159091 442.08 \r\nL 359.231818 442.08 \r\nL 359.231818 294.431222 \r\nL 354.159091 294.431222 \r\nz\r\n\" style=\"fill:#1f77b4;\"/>\r\n   </g>\r\n   <g id=\"patch_166\">\r\n    <path clip-path=\"url(#p2a9720cb67)\" d=\"M 359.231818 442.08 \r\nL 364.304545 442.08 \r\nL 364.304545 304.193957 \r\nL 359.231818 304.193957 \r\nz\r\n\" style=\"fill:#1f77b4;\"/>\r\n   </g>\r\n   <g id=\"patch_167\">\r\n    <path clip-path=\"url(#p2a9720cb67)\" d=\"M 364.304545 442.08 \r\nL 369.377273 442.08 \r\nL 369.377273 315.315422 \r\nL 364.304545 315.315422 \r\nz\r\n\" style=\"fill:#1f77b4;\"/>\r\n   </g>\r\n   <g id=\"patch_168\">\r\n    <path clip-path=\"url(#p2a9720cb67)\" d=\"M 369.377273 442.08 \r\nL 374.45 442.08 \r\nL 374.45 323.165868 \r\nL 369.377273 323.165868 \r\nz\r\n\" style=\"fill:#1f77b4;\"/>\r\n   </g>\r\n   <g id=\"patch_169\">\r\n    <path clip-path=\"url(#p2a9720cb67)\" d=\"M 374.45 442.08 \r\nL 379.522727 442.08 \r\nL 379.522727 335.495095 \r\nL 374.45 335.495095 \r\nz\r\n\" style=\"fill:#1f77b4;\"/>\r\n   </g>\r\n   <g id=\"patch_170\">\r\n    <path clip-path=\"url(#p2a9720cb67)\" d=\"M 379.522727 442.08 \r\nL 384.595455 442.08 \r\nL 384.595455 345.912033 \r\nL 379.522727 345.912033 \r\nz\r\n\" style=\"fill:#1f77b4;\"/>\r\n   </g>\r\n   <g id=\"patch_171\">\r\n    <path clip-path=\"url(#p2a9720cb67)\" d=\"M 384.595455 442.08 \r\nL 389.668182 442.08 \r\nL 389.668182 358.69417 \r\nL 384.595455 358.69417 \r\nz\r\n\" style=\"fill:#1f77b4;\"/>\r\n   </g>\r\n   <g id=\"patch_172\">\r\n    <path clip-path=\"url(#p2a9720cb67)\" d=\"M 389.668182 442.08 \r\nL 394.740909 442.08 \r\nL 394.740909 367.400114 \r\nL 389.668182 367.400114 \r\nz\r\n\" style=\"fill:#1f77b4;\"/>\r\n   </g>\r\n   <g id=\"patch_173\">\r\n    <path clip-path=\"url(#p2a9720cb67)\" d=\"M 394.740909 442.08 \r\nL 399.813636 442.08 \r\nL 399.813636 376.458321 \r\nL 394.740909 376.458321 \r\nz\r\n\" style=\"fill:#1f77b4;\"/>\r\n   </g>\r\n   <g id=\"patch_174\">\r\n    <path clip-path=\"url(#p2a9720cb67)\" d=\"M 399.813636 442.08 \r\nL 404.886364 442.08 \r\nL 404.886364 387.227523 \r\nL 399.813636 387.227523 \r\nz\r\n\" style=\"fill:#1f77b4;\"/>\r\n   </g>\r\n   <g id=\"patch_175\">\r\n    <path clip-path=\"url(#p2a9720cb67)\" d=\"M 404.886364 442.08 \r\nL 409.959091 442.08 \r\nL 409.959091 387.32817 \r\nL 404.886364 387.32817 \r\nz\r\n\" style=\"fill:#1f77b4;\"/>\r\n   </g>\r\n   <g id=\"patch_176\">\r\n    <path clip-path=\"url(#p2a9720cb67)\" d=\"M 409.959091 442.08 \r\nL 415.031818 442.08 \r\nL 415.031818 399.909013 \r\nL 409.959091 399.909013 \r\nz\r\n\" style=\"fill:#1f77b4;\"/>\r\n   </g>\r\n   <g id=\"patch_177\">\r\n    <path clip-path=\"url(#p2a9720cb67)\" d=\"M 415.031818 442.08 \r\nL 420.104545 442.08 \r\nL 420.104545 404.136176 \r\nL 415.031818 404.136176 \r\nz\r\n\" style=\"fill:#1f77b4;\"/>\r\n   </g>\r\n   <g id=\"patch_178\">\r\n    <path clip-path=\"url(#p2a9720cb67)\" d=\"M 420.104545 442.08 \r\nL 425.177273 442.08 \r\nL 425.177273 408.916897 \r\nL 420.104545 408.916897 \r\nz\r\n\" style=\"fill:#1f77b4;\"/>\r\n   </g>\r\n   <g id=\"patch_179\">\r\n    <path clip-path=\"url(#p2a9720cb67)\" d=\"M 425.177273 442.08 \r\nL 430.25 442.08 \r\nL 430.25 416.56605 \r\nL 425.177273 416.56605 \r\nz\r\n\" style=\"fill:#1f77b4;\"/>\r\n   </g>\r\n   <g id=\"patch_180\">\r\n    <path clip-path=\"url(#p2a9720cb67)\" d=\"M 430.25 442.08 \r\nL 435.322727 442.08 \r\nL 435.322727 419.031895 \r\nL 430.25 419.031895 \r\nz\r\n\" style=\"fill:#1f77b4;\"/>\r\n   </g>\r\n   <g id=\"patch_181\">\r\n    <path clip-path=\"url(#p2a9720cb67)\" d=\"M 435.322727 442.08 \r\nL 440.395455 442.08 \r\nL 440.395455 424.064232 \r\nL 435.322727 424.064232 \r\nz\r\n\" style=\"fill:#1f77b4;\"/>\r\n   </g>\r\n   <g id=\"patch_182\">\r\n    <path clip-path=\"url(#p2a9720cb67)\" d=\"M 440.395455 442.08 \r\nL 445.468182 442.08 \r\nL 445.468182 427.989455 \r\nL 440.395455 427.989455 \r\nz\r\n\" style=\"fill:#1f77b4;\"/>\r\n   </g>\r\n   <g id=\"patch_183\">\r\n    <path clip-path=\"url(#p2a9720cb67)\" d=\"M 445.468182 442.08 \r\nL 450.540909 442.08 \r\nL 450.540909 430.455301 \r\nL 445.468182 430.455301 \r\nz\r\n\" style=\"fill:#1f77b4;\"/>\r\n   </g>\r\n   <g id=\"patch_184\">\r\n    <path clip-path=\"url(#p2a9720cb67)\" d=\"M 450.540909 442.08 \r\nL 455.613636 442.08 \r\nL 455.613636 430.908211 \r\nL 450.540909 430.908211 \r\nz\r\n\" style=\"fill:#1f77b4;\"/>\r\n   </g>\r\n   <g id=\"patch_185\">\r\n    <path clip-path=\"url(#p2a9720cb67)\" d=\"M 455.613636 442.08 \r\nL 460.686364 442.08 \r\nL 460.686364 434.581817 \r\nL 455.613636 434.581817 \r\nz\r\n\" style=\"fill:#1f77b4;\"/>\r\n   </g>\r\n   <g id=\"patch_186\">\r\n    <path clip-path=\"url(#p2a9720cb67)\" d=\"M 460.686364 442.08 \r\nL 465.759091 442.08 \r\nL 465.759091 435.890225 \r\nL 460.686364 435.890225 \r\nz\r\n\" style=\"fill:#1f77b4;\"/>\r\n   </g>\r\n   <g id=\"patch_187\">\r\n    <path clip-path=\"url(#p2a9720cb67)\" d=\"M 465.759091 442.08 \r\nL 470.831818 442.08 \r\nL 470.831818 437.500573 \r\nL 465.759091 437.500573 \r\nz\r\n\" style=\"fill:#1f77b4;\"/>\r\n   </g>\r\n   <g id=\"patch_188\">\r\n    <path clip-path=\"url(#p2a9720cb67)\" d=\"M 470.831818 442.08 \r\nL 475.904545 442.08 \r\nL 475.904545 438.959951 \r\nL 470.831818 438.959951 \r\nz\r\n\" style=\"fill:#1f77b4;\"/>\r\n   </g>\r\n   <g id=\"patch_189\">\r\n    <path clip-path=\"url(#p2a9720cb67)\" d=\"M 475.904545 442.08 \r\nL 480.977273 442.08 \r\nL 480.977273 439.865772 \r\nL 475.904545 439.865772 \r\nz\r\n\" style=\"fill:#1f77b4;\"/>\r\n   </g>\r\n   <g id=\"patch_190\">\r\n    <path clip-path=\"url(#p2a9720cb67)\" d=\"M 480.977273 442.08 \r\nL 486.05 442.08 \r\nL 486.05 439.916095 \r\nL 480.977273 439.916095 \r\nz\r\n\" style=\"fill:#1f77b4;\"/>\r\n   </g>\r\n   <g id=\"patch_191\">\r\n    <path clip-path=\"url(#p2a9720cb67)\" d=\"M 486.05 442.08 \r\nL 491.122727 442.08 \r\nL 491.122727 440.469652 \r\nL 486.05 440.469652 \r\nz\r\n\" style=\"fill:#1f77b4;\"/>\r\n   </g>\r\n   <g id=\"patch_192\">\r\n    <path clip-path=\"url(#p2a9720cb67)\" d=\"M 491.122727 442.08 \r\nL 496.195455 442.08 \r\nL 496.195455 440.872239 \r\nL 491.122727 440.872239 \r\nz\r\n\" style=\"fill:#1f77b4;\"/>\r\n   </g>\r\n   <g id=\"patch_193\">\r\n    <path clip-path=\"url(#p2a9720cb67)\" d=\"M 496.195455 442.08 \r\nL 501.268182 442.08 \r\nL 501.268182 441.425796 \r\nL 496.195455 441.425796 \r\nz\r\n\" style=\"fill:#1f77b4;\"/>\r\n   </g>\r\n   <g id=\"patch_194\">\r\n    <path clip-path=\"url(#p2a9720cb67)\" d=\"M 501.268182 442.08 \r\nL 506.340909 442.08 \r\nL 506.340909 441.375473 \r\nL 501.268182 441.375473 \r\nz\r\n\" style=\"fill:#1f77b4;\"/>\r\n   </g>\r\n   <g id=\"patch_195\">\r\n    <path clip-path=\"url(#p2a9720cb67)\" d=\"M 506.340909 442.08 \r\nL 511.413636 442.08 \r\nL 511.413636 441.677413 \r\nL 506.340909 441.677413 \r\nz\r\n\" style=\"fill:#1f77b4;\"/>\r\n   </g>\r\n   <g id=\"patch_196\">\r\n    <path clip-path=\"url(#p2a9720cb67)\" d=\"M 511.413636 442.08 \r\nL 516.486364 442.08 \r\nL 516.486364 441.828383 \r\nL 511.413636 441.828383 \r\nz\r\n\" style=\"fill:#1f77b4;\"/>\r\n   </g>\r\n   <g id=\"patch_197\">\r\n    <path clip-path=\"url(#p2a9720cb67)\" d=\"M 516.486364 442.08 \r\nL 521.559091 442.08 \r\nL 521.559091 441.828383 \r\nL 516.486364 441.828383 \r\nz\r\n\" style=\"fill:#1f77b4;\"/>\r\n   </g>\r\n   <g id=\"patch_198\">\r\n    <path clip-path=\"url(#p2a9720cb67)\" d=\"M 521.559091 442.08 \r\nL 526.631818 442.08 \r\nL 526.631818 442.08 \r\nL 521.559091 442.08 \r\nz\r\n\" style=\"fill:#1f77b4;\"/>\r\n   </g>\r\n   <g id=\"patch_199\">\r\n    <path clip-path=\"url(#p2a9720cb67)\" d=\"M 526.631818 442.08 \r\nL 531.704545 442.08 \r\nL 531.704545 442.029677 \r\nL 526.631818 442.029677 \r\nz\r\n\" style=\"fill:#1f77b4;\"/>\r\n   </g>\r\n   <g id=\"patch_200\">\r\n    <path clip-path=\"url(#p2a9720cb67)\" d=\"M 531.704545 442.08 \r\nL 536.777273 442.08 \r\nL 536.777273 441.979353 \r\nL 531.704545 441.979353 \r\nz\r\n\" style=\"fill:#1f77b4;\"/>\r\n   </g>\r\n   <g id=\"patch_201\">\r\n    <path clip-path=\"url(#p2a9720cb67)\" d=\"M 536.777273 442.08 \r\nL 541.85 442.08 \r\nL 541.85 442.029677 \r\nL 536.777273 442.029677 \r\nz\r\n\" style=\"fill:#1f77b4;\"/>\r\n   </g>\r\n   <g id=\"patch_202\">\r\n    <path clip-path=\"url(#p2a9720cb67)\" d=\"M 541.85 442.08 \r\nL 546.922727 442.08 \r\nL 546.922727 442.08 \r\nL 541.85 442.08 \r\nz\r\n\" style=\"fill:#1f77b4;\"/>\r\n   </g>\r\n   <g id=\"patch_203\">\r\n    <path clip-path=\"url(#p2a9720cb67)\" d=\"M 546.922727 442.08 \r\nL 551.995455 442.08 \r\nL 551.995455 442.08 \r\nL 546.922727 442.08 \r\nz\r\n\" style=\"fill:#1f77b4;\"/>\r\n   </g>\r\n   <g id=\"patch_204\">\r\n    <path clip-path=\"url(#p2a9720cb67)\" d=\"M 551.995455 442.08 \r\nL 557.068182 442.08 \r\nL 557.068182 442.08 \r\nL 551.995455 442.08 \r\nz\r\n\" style=\"fill:#1f77b4;\"/>\r\n   </g>\r\n   <g id=\"patch_205\">\r\n    <path clip-path=\"url(#p2a9720cb67)\" d=\"M 557.068182 442.08 \r\nL 562.140909 442.08 \r\nL 562.140909 442.029677 \r\nL 557.068182 442.029677 \r\nz\r\n\" style=\"fill:#1f77b4;\"/>\r\n   </g>\r\n   <g id=\"patch_206\">\r\n    <path clip-path=\"url(#p2a9720cb67)\" d=\"M 562.140909 442.08 \r\nL 567.213636 442.08 \r\nL 567.213636 442.08 \r\nL 562.140909 442.08 \r\nz\r\n\" style=\"fill:#1f77b4;\"/>\r\n   </g>\r\n   <g id=\"patch_207\">\r\n    <path clip-path=\"url(#p2a9720cb67)\" d=\"M 567.213636 442.08 \r\nL 572.286364 442.08 \r\nL 572.286364 442.029677 \r\nL 567.213636 442.029677 \r\nz\r\n\" style=\"fill:#1f77b4;\"/>\r\n   </g>\r\n   <g id=\"matplotlib.axis_3\">\r\n    <g id=\"xtick_7\">\r\n     <g id=\"line2d_13\">\r\n      <g>\r\n       <use style=\"stroke:#000000;stroke-width:0.8;\" x=\"97.617756\" xlink:href=\"#m84d7b8d45f\" y=\"442.08\"/>\r\n      </g>\r\n     </g>\r\n     <g id=\"text_13\">\r\n      <!-- −4 -->\r\n      <g transform=\"translate(90.246662 456.678437)scale(0.1 -0.1)\">\r\n       <defs>\r\n        <path d=\"M 10.59375 35.5 \r\nL 73.1875 35.5 \r\nL 73.1875 27.203125 \r\nL 10.59375 27.203125 \r\nz\r\n\" id=\"DejaVuSans-8722\"/>\r\n       </defs>\r\n       <use xlink:href=\"#DejaVuSans-8722\"/>\r\n       <use x=\"83.789062\" xlink:href=\"#DejaVuSans-52\"/>\r\n      </g>\r\n     </g>\r\n    </g>\r\n    <g id=\"xtick_8\">\r\n     <g id=\"line2d_14\">\r\n      <g>\r\n       <use style=\"stroke:#000000;stroke-width:0.8;\" x=\"208.27255\" xlink:href=\"#m84d7b8d45f\" y=\"442.08\"/>\r\n      </g>\r\n     </g>\r\n     <g id=\"text_14\">\r\n      <!-- −2 -->\r\n      <g transform=\"translate(200.901457 456.678437)scale(0.1 -0.1)\">\r\n       <use xlink:href=\"#DejaVuSans-8722\"/>\r\n       <use x=\"83.789062\" xlink:href=\"#DejaVuSans-50\"/>\r\n      </g>\r\n     </g>\r\n    </g>\r\n    <g id=\"xtick_9\">\r\n     <g id=\"line2d_15\">\r\n      <g>\r\n       <use style=\"stroke:#000000;stroke-width:0.8;\" x=\"318.927345\" xlink:href=\"#m84d7b8d45f\" y=\"442.08\"/>\r\n      </g>\r\n     </g>\r\n     <g id=\"text_15\">\r\n      <!-- 0 -->\r\n      <g transform=\"translate(315.746095 456.678437)scale(0.1 -0.1)\">\r\n       <use xlink:href=\"#DejaVuSans-48\"/>\r\n      </g>\r\n     </g>\r\n    </g>\r\n    <g id=\"xtick_10\">\r\n     <g id=\"line2d_16\">\r\n      <g>\r\n       <use style=\"stroke:#000000;stroke-width:0.8;\" x=\"429.582139\" xlink:href=\"#m84d7b8d45f\" y=\"442.08\"/>\r\n      </g>\r\n     </g>\r\n     <g id=\"text_16\">\r\n      <!-- 2 -->\r\n      <g transform=\"translate(426.400889 456.678437)scale(0.1 -0.1)\">\r\n       <use xlink:href=\"#DejaVuSans-50\"/>\r\n      </g>\r\n     </g>\r\n    </g>\r\n    <g id=\"xtick_11\">\r\n     <g id=\"line2d_17\">\r\n      <g>\r\n       <use style=\"stroke:#000000;stroke-width:0.8;\" x=\"540.236934\" xlink:href=\"#m84d7b8d45f\" y=\"442.08\"/>\r\n      </g>\r\n     </g>\r\n     <g id=\"text_17\">\r\n      <!-- 4 -->\r\n      <g transform=\"translate(537.055684 456.678437)scale(0.1 -0.1)\">\r\n       <use xlink:href=\"#DejaVuSans-52\"/>\r\n      </g>\r\n     </g>\r\n    </g>\r\n   </g>\r\n   <g id=\"matplotlib.axis_4\">\r\n    <g id=\"ytick_7\">\r\n     <g id=\"line2d_18\">\r\n      <g>\r\n       <use style=\"stroke:#000000;stroke-width:0.8;\" x=\"39.65\" xlink:href=\"#m74ee21769d\" y=\"442.08\"/>\r\n      </g>\r\n     </g>\r\n     <g id=\"text_18\">\r\n      <!-- 0 -->\r\n      <g transform=\"translate(26.2875 445.879219)scale(0.1 -0.1)\">\r\n       <use xlink:href=\"#DejaVuSans-48\"/>\r\n      </g>\r\n     </g>\r\n    </g>\r\n    <g id=\"ytick_8\">\r\n     <g id=\"line2d_19\">\r\n      <g>\r\n       <use style=\"stroke:#000000;stroke-width:0.8;\" x=\"39.65\" xlink:href=\"#m74ee21769d\" y=\"416.918313\"/>\r\n      </g>\r\n     </g>\r\n     <g id=\"text_19\">\r\n      <!-- 500 -->\r\n      <g transform=\"translate(13.5625 420.717532)scale(0.1 -0.1)\">\r\n       <defs>\r\n        <path d=\"M 10.796875 72.90625 \r\nL 49.515625 72.90625 \r\nL 49.515625 64.59375 \r\nL 19.828125 64.59375 \r\nL 19.828125 46.734375 \r\nQ 21.96875 47.46875 24.109375 47.828125 \r\nQ 26.265625 48.1875 28.421875 48.1875 \r\nQ 40.625 48.1875 47.75 41.5 \r\nQ 54.890625 34.8125 54.890625 23.390625 \r\nQ 54.890625 11.625 47.5625 5.09375 \r\nQ 40.234375 -1.421875 26.90625 -1.421875 \r\nQ 22.3125 -1.421875 17.546875 -0.640625 \r\nQ 12.796875 0.140625 7.71875 1.703125 \r\nL 7.71875 11.625 \r\nQ 12.109375 9.234375 16.796875 8.0625 \r\nQ 21.484375 6.890625 26.703125 6.890625 \r\nQ 35.15625 6.890625 40.078125 11.328125 \r\nQ 45.015625 15.765625 45.015625 23.390625 \r\nQ 45.015625 31 40.078125 35.4375 \r\nQ 35.15625 39.890625 26.703125 39.890625 \r\nQ 22.75 39.890625 18.8125 39.015625 \r\nQ 14.890625 38.140625 10.796875 36.28125 \r\nz\r\n\" id=\"DejaVuSans-53\"/>\r\n       </defs>\r\n       <use xlink:href=\"#DejaVuSans-53\"/>\r\n       <use x=\"63.623047\" xlink:href=\"#DejaVuSans-48\"/>\r\n       <use x=\"127.246094\" xlink:href=\"#DejaVuSans-48\"/>\r\n      </g>\r\n     </g>\r\n    </g>\r\n    <g id=\"ytick_9\">\r\n     <g id=\"line2d_20\">\r\n      <g>\r\n       <use style=\"stroke:#000000;stroke-width:0.8;\" x=\"39.65\" xlink:href=\"#m74ee21769d\" y=\"391.756627\"/>\r\n      </g>\r\n     </g>\r\n     <g id=\"text_20\">\r\n      <!-- 1000 -->\r\n      <g transform=\"translate(7.2 395.555845)scale(0.1 -0.1)\">\r\n       <use xlink:href=\"#DejaVuSans-49\"/>\r\n       <use x=\"63.623047\" xlink:href=\"#DejaVuSans-48\"/>\r\n       <use x=\"127.246094\" xlink:href=\"#DejaVuSans-48\"/>\r\n       <use x=\"190.869141\" xlink:href=\"#DejaVuSans-48\"/>\r\n      </g>\r\n     </g>\r\n    </g>\r\n    <g id=\"ytick_10\">\r\n     <g id=\"line2d_21\">\r\n      <g>\r\n       <use style=\"stroke:#000000;stroke-width:0.8;\" x=\"39.65\" xlink:href=\"#m74ee21769d\" y=\"366.59494\"/>\r\n      </g>\r\n     </g>\r\n     <g id=\"text_21\">\r\n      <!-- 1500 -->\r\n      <g transform=\"translate(7.2 370.394159)scale(0.1 -0.1)\">\r\n       <use xlink:href=\"#DejaVuSans-49\"/>\r\n       <use x=\"63.623047\" xlink:href=\"#DejaVuSans-53\"/>\r\n       <use x=\"127.246094\" xlink:href=\"#DejaVuSans-48\"/>\r\n       <use x=\"190.869141\" xlink:href=\"#DejaVuSans-48\"/>\r\n      </g>\r\n     </g>\r\n    </g>\r\n    <g id=\"ytick_11\">\r\n     <g id=\"line2d_22\">\r\n      <g>\r\n       <use style=\"stroke:#000000;stroke-width:0.8;\" x=\"39.65\" xlink:href=\"#m74ee21769d\" y=\"341.433253\"/>\r\n      </g>\r\n     </g>\r\n     <g id=\"text_22\">\r\n      <!-- 2000 -->\r\n      <g transform=\"translate(7.2 345.232472)scale(0.1 -0.1)\">\r\n       <use xlink:href=\"#DejaVuSans-50\"/>\r\n       <use x=\"63.623047\" xlink:href=\"#DejaVuSans-48\"/>\r\n       <use x=\"127.246094\" xlink:href=\"#DejaVuSans-48\"/>\r\n       <use x=\"190.869141\" xlink:href=\"#DejaVuSans-48\"/>\r\n      </g>\r\n     </g>\r\n    </g>\r\n    <g id=\"ytick_12\">\r\n     <g id=\"line2d_23\">\r\n      <g>\r\n       <use style=\"stroke:#000000;stroke-width:0.8;\" x=\"39.65\" xlink:href=\"#m74ee21769d\" y=\"316.271566\"/>\r\n      </g>\r\n     </g>\r\n     <g id=\"text_23\">\r\n      <!-- 2500 -->\r\n      <g transform=\"translate(7.2 320.070785)scale(0.1 -0.1)\">\r\n       <use xlink:href=\"#DejaVuSans-50\"/>\r\n       <use x=\"63.623047\" xlink:href=\"#DejaVuSans-53\"/>\r\n       <use x=\"127.246094\" xlink:href=\"#DejaVuSans-48\"/>\r\n       <use x=\"190.869141\" xlink:href=\"#DejaVuSans-48\"/>\r\n      </g>\r\n     </g>\r\n    </g>\r\n    <g id=\"ytick_13\">\r\n     <g id=\"line2d_24\">\r\n      <g>\r\n       <use style=\"stroke:#000000;stroke-width:0.8;\" x=\"39.65\" xlink:href=\"#m74ee21769d\" y=\"291.10988\"/>\r\n      </g>\r\n     </g>\r\n     <g id=\"text_24\">\r\n      <!-- 3000 -->\r\n      <g transform=\"translate(7.2 294.909098)scale(0.1 -0.1)\">\r\n       <defs>\r\n        <path d=\"M 40.578125 39.3125 \r\nQ 47.65625 37.796875 51.625 33 \r\nQ 55.609375 28.21875 55.609375 21.1875 \r\nQ 55.609375 10.40625 48.1875 4.484375 \r\nQ 40.765625 -1.421875 27.09375 -1.421875 \r\nQ 22.515625 -1.421875 17.65625 -0.515625 \r\nQ 12.796875 0.390625 7.625 2.203125 \r\nL 7.625 11.71875 \r\nQ 11.71875 9.328125 16.59375 8.109375 \r\nQ 21.484375 6.890625 26.8125 6.890625 \r\nQ 36.078125 6.890625 40.9375 10.546875 \r\nQ 45.796875 14.203125 45.796875 21.1875 \r\nQ 45.796875 27.640625 41.28125 31.265625 \r\nQ 36.765625 34.90625 28.71875 34.90625 \r\nL 20.21875 34.90625 \r\nL 20.21875 43.015625 \r\nL 29.109375 43.015625 \r\nQ 36.375 43.015625 40.234375 45.921875 \r\nQ 44.09375 48.828125 44.09375 54.296875 \r\nQ 44.09375 59.90625 40.109375 62.90625 \r\nQ 36.140625 65.921875 28.71875 65.921875 \r\nQ 24.65625 65.921875 20.015625 65.03125 \r\nQ 15.375 64.15625 9.8125 62.3125 \r\nL 9.8125 71.09375 \r\nQ 15.4375 72.65625 20.34375 73.4375 \r\nQ 25.25 74.21875 29.59375 74.21875 \r\nQ 40.828125 74.21875 47.359375 69.109375 \r\nQ 53.90625 64.015625 53.90625 55.328125 \r\nQ 53.90625 49.265625 50.4375 45.09375 \r\nQ 46.96875 40.921875 40.578125 39.3125 \r\nz\r\n\" id=\"DejaVuSans-51\"/>\r\n       </defs>\r\n       <use xlink:href=\"#DejaVuSans-51\"/>\r\n       <use x=\"63.623047\" xlink:href=\"#DejaVuSans-48\"/>\r\n       <use x=\"127.246094\" xlink:href=\"#DejaVuSans-48\"/>\r\n       <use x=\"190.869141\" xlink:href=\"#DejaVuSans-48\"/>\r\n      </g>\r\n     </g>\r\n    </g>\r\n    <g id=\"ytick_14\">\r\n     <g id=\"line2d_25\">\r\n      <g>\r\n       <use style=\"stroke:#000000;stroke-width:0.8;\" x=\"39.65\" xlink:href=\"#m74ee21769d\" y=\"265.948193\"/>\r\n      </g>\r\n     </g>\r\n     <g id=\"text_25\">\r\n      <!-- 3500 -->\r\n      <g transform=\"translate(7.2 269.747412)scale(0.1 -0.1)\">\r\n       <use xlink:href=\"#DejaVuSans-51\"/>\r\n       <use x=\"63.623047\" xlink:href=\"#DejaVuSans-53\"/>\r\n       <use x=\"127.246094\" xlink:href=\"#DejaVuSans-48\"/>\r\n       <use x=\"190.869141\" xlink:href=\"#DejaVuSans-48\"/>\r\n      </g>\r\n     </g>\r\n    </g>\r\n   </g>\r\n   <g id=\"patch_208\">\r\n    <path d=\"M 39.65 442.08 \r\nL 39.65 244.407273 \r\n\" style=\"fill:none;stroke:#000000;stroke-linecap:square;stroke-linejoin:miter;stroke-width:0.8;\"/>\r\n   </g>\r\n   <g id=\"patch_209\">\r\n    <path d=\"M 597.65 442.08 \r\nL 597.65 244.407273 \r\n\" style=\"fill:none;stroke:#000000;stroke-linecap:square;stroke-linejoin:miter;stroke-width:0.8;\"/>\r\n   </g>\r\n   <g id=\"patch_210\">\r\n    <path d=\"M 39.65 442.08 \r\nL 597.65 442.08 \r\n\" style=\"fill:none;stroke:#000000;stroke-linecap:square;stroke-linejoin:miter;stroke-width:0.8;\"/>\r\n   </g>\r\n   <g id=\"patch_211\">\r\n    <path d=\"M 39.65 244.407273 \r\nL 597.65 244.407273 \r\n\" style=\"fill:none;stroke:#000000;stroke-linecap:square;stroke-linejoin:miter;stroke-width:0.8;\"/>\r\n   </g>\r\n  </g>\r\n </g>\r\n <defs>\r\n  <clipPath id=\"p25a9f78085\">\r\n   <rect height=\"197.672727\" width=\"558\" x=\"39.65\" y=\"7.2\"/>\r\n  </clipPath>\r\n  <clipPath id=\"p2a9720cb67\">\r\n   <rect height=\"197.672727\" width=\"558\" x=\"39.65\" y=\"244.407273\"/>\r\n  </clipPath>\r\n </defs>\r\n</svg>\r\n",
      "image/png": "[encoded data removed]"
     },
     "metadata": {
      "needs_background": "light"
     }
    }
   ],
   "source": [
    "import matplotlib.pyplot as plt\n",
    "%matplotlib inline\n",
    "\n",
    "fig = plt.figure(figsize = (10, 8))\n",
    "ax  = fig.add_subplot(2, 1, 1)\n",
    "ax.hist(np.random.rand(100000), bins = 100)\n",
    "ax  = fig.add_subplot(2, 1, 2)\n",
    "ax.hist(np.random.randn(100000), bins = 100)\n",
    "plt.show()"
   ]
  },
  {
   "cell_type": "code",
   "execution_count": 14,
   "metadata": {},
   "outputs": [
    {
     "output_type": "execute_result",
     "data": {
      "text/plain": [
       "array([[3, 2],\n",
       "       [3, 2],\n",
       "       [3, 2]])"
      ]
     },
     "metadata": {},
     "execution_count": 14
    }
   ],
   "source": [
    "np.full((3, 2), [3, 2])"
   ]
  },
  {
   "source": [
    "# すべｔ同じ要素の時にもfullを使う\n",
    "# np.ones(N) * aなどよりも早い\n",
    "np.full((10,), 5)"
   ],
   "cell_type": "code",
   "metadata": {},
   "execution_count": 15,
   "outputs": [
    {
     "output_type": "execute_result",
     "data": {
      "text/plain": [
       "array([5, 5, 5, 5, 5, 5, 5, 5, 5, 5])"
      ]
     },
     "metadata": {},
     "execution_count": 15
    }
   ]
  },
  {
   "source": [
    "# 領域だけ確保の場合にもnp.zero等を使うより関数を使う. \n",
    "np.empty((3, 2))"
   ],
   "cell_type": "code",
   "metadata": {},
   "execution_count": 16,
   "outputs": [
    {
     "output_type": "execute_result",
     "data": {
      "text/plain": [
       "array([[17.2, 17.2],\n",
       "       [17.2, 17.2],\n",
       "       [17.2, 24.2]])"
      ]
     },
     "metadata": {},
     "execution_count": 16
    }
   ]
  },
  {
   "source": [
    "## データ型\n"
   ],
   "cell_type": "markdown",
   "metadata": {}
  },
  {
   "cell_type": "code",
   "execution_count": 17,
   "metadata": {},
   "outputs": [
    {
     "output_type": "stream",
     "name": "stdout",
     "text": [
      "<class 'numpy.uint8'> 1.0\n<class 'numpy.int32'> 4.0\n<class 'numpy.float64'> 8.0\n<class 'object'> 8.0\n<U10 40.0\n<class 'bool'> 1.0\n"
     ]
    }
   ],
   "source": [
    "# データ型ごとのバイト数を確認\n",
    "dtypes = [np.uint8, np.int32, np.float64, np.object, np.dtype(\"U10\"), np.bool]\n",
    "for dt in dtypes:\n",
    "    x = np.ones(3, dtype = dt).tostring()\n",
    "    print(dt, len(x) / 3)"
   ]
  },
  {
   "source": [
    "## ブーリアンマスク\n",
    "\n",
    "NumPyの配列のスライスは，インデックスだけでなく，ブール型でも可能である. \n"
   ],
   "cell_type": "markdown",
   "metadata": {}
  },
  {
   "cell_type": "code",
   "execution_count": 18,
   "metadata": {},
   "outputs": [
    {
     "output_type": "execute_result",
     "data": {
      "text/plain": [
       "array([10,  1, 12,  3, 14])"
      ]
     },
     "metadata": {},
     "execution_count": 18
    }
   ],
   "source": [
    "x = np.arange(5)\n",
    "is_even = x % 2 == 0\n",
    "x[is_even] += 10\n",
    "x"
   ]
  },
  {
   "source": [
    "## キャスト\n",
    "\n",
    "**astype**メソッドを使う. \n"
   ],
   "cell_type": "markdown",
   "metadata": {}
  },
  {
   "cell_type": "code",
   "execution_count": 19,
   "metadata": {},
   "outputs": [
    {
     "output_type": "execute_result",
     "data": {
      "text/plain": [
       "array([0, 1, 2, 3, 4, 5, 6, 7, 8, 9], dtype=uint8)"
      ]
     },
     "metadata": {},
     "execution_count": 19
    }
   ],
   "source": [
    "a = np.arange(10, dtype = np.int32)\n",
    "a.astype(np.uint8)"
   ]
  },
  {
   "cell_type": "code",
   "execution_count": 20,
   "metadata": {},
   "outputs": [
    {
     "output_type": "execute_result",
     "data": {
      "text/plain": [
       "array(['0', '1', '2', '3', '4', '5', '6', '7', '8', '9'], dtype='<U10')"
      ]
     },
     "metadata": {},
     "execution_count": 20
    }
   ],
   "source": [
    "a.astype(np.dtype(\"U10\"))"
   ]
  },
  {
   "cell_type": "code",
   "execution_count": 21,
   "metadata": {},
   "outputs": [
    {
     "output_type": "execute_result",
     "data": {
      "text/plain": [
       "array([10])"
      ]
     },
     "metadata": {},
     "execution_count": 21
    }
   ],
   "source": [
    "np.array([\"10\"]).astype(np.int32)"
   ]
  },
  {
   "source": [
    "## 演習問題\n",
    "\n",
    "### question 01"
   ],
   "cell_type": "markdown",
   "metadata": {}
  },
  {
   "source": [
    "\n",
    "import numpy as np\n",
    "\n",
    "np.ones((3,))"
   ],
   "cell_type": "code",
   "metadata": {},
   "execution_count": 22,
   "outputs": [
    {
     "output_type": "execute_result",
     "data": {
      "text/plain": [
       "array([1., 1., 1.])"
      ]
     },
     "metadata": {},
     "execution_count": 22
    }
   ]
  },
  {
   "cell_type": "code",
   "execution_count": 23,
   "metadata": {},
   "outputs": [
    {
     "output_type": "execute_result",
     "data": {
      "text/plain": [
       "array([0., 0., 0., 0., 0., 0., 0.])"
      ]
     },
     "metadata": {},
     "execution_count": 23
    }
   ],
   "source": [
    "np.zeros((7,))"
   ]
  },
  {
   "source": [
    "### question 02"
   ],
   "cell_type": "markdown",
   "metadata": {}
  },
  {
   "cell_type": "code",
   "execution_count": 24,
   "metadata": {},
   "outputs": [
    {
     "output_type": "stream",
     "name": "stdout",
     "text": [
      "[1 1 1] int32\n"
     ]
    }
   ],
   "source": [
    "a = np.ones((3, ), dtype = np.int32)\n",
    "print(a, a.dtype)"
   ]
  },
  {
   "source": [
    "### question 03\n"
   ],
   "cell_type": "markdown",
   "metadata": {}
  },
  {
   "cell_type": "code",
   "execution_count": 25,
   "metadata": {},
   "outputs": [
    {
     "output_type": "execute_result",
     "data": {
      "text/plain": [
       "array([0, 0, 1, 0, 0])"
      ]
     },
     "metadata": {},
     "execution_count": 25
    }
   ],
   "source": [
    "x = np.zeros(5, dtype = np.int32)\n",
    "x[len(x) // 2] += 1\n",
    "x"
   ]
  },
  {
   "source": [
    "### question 04"
   ],
   "cell_type": "markdown",
   "metadata": {}
  },
  {
   "cell_type": "code",
   "execution_count": 26,
   "metadata": {},
   "outputs": [
    {
     "output_type": "execute_result",
     "data": {
      "text/plain": [
       "array([0, 1, 0, 1, 0, 1, 0, 1, 0, 1])"
      ]
     },
     "metadata": {},
     "execution_count": 26
    }
   ],
   "source": [
    "x = np.empty(10, dtype = np.int32)\n",
    "is_even = np.arange(len(x)) % 2 == 0\n",
    "x[is_even] = 0\n",
    "x[np.logical_not(is_even)] = 1\n",
    "x"
   ]
  },
  {
   "source": [
    "### question 06"
   ],
   "cell_type": "markdown",
   "metadata": {}
  },
  {
   "cell_type": "code",
   "execution_count": 27,
   "metadata": {},
   "outputs": [
    {
     "output_type": "execute_result",
     "data": {
      "text/plain": [
       "array([1, 2, 'fizz', 4, 'buzz', 'fizz', 7, 8, 'fizz', 'buzz', 11, 'fizz',\n",
       "       13, 14, 'fizz_buzz', 16, 17, 'fizz', 19, 'buzz', 'fizz', 22, 23,\n",
       "       'fizz', 'buzz', 26, 'fizz', 28, 29, 'fizz_buzz', 31, 32, 'fizz',\n",
       "       34, 'buzz', 'fizz', 37, 38, 'fizz', 'buzz', 41, 'fizz', 43, 44,\n",
       "       'fizz_buzz', 46, 47, 'fizz', 49, 'buzz', 'fizz', 52, 53, 'fizz',\n",
       "       'buzz', 56, 'fizz', 58, 59, 'fizz_buzz', 61, 62, 'fizz', 64,\n",
       "       'buzz', 'fizz', 67, 68, 'fizz', 'buzz', 71, 'fizz', 73, 74,\n",
       "       'fizz_buzz', 76, 77, 'fizz', 79, 'buzz', 'fizz', 82, 83, 'fizz',\n",
       "       'buzz', 86, 'fizz', 88, 89, 'fizz_buzz', 91, 92, 'fizz', 94,\n",
       "       'buzz', 'fizz', 97, 98, 'fizz', 'buzz'], dtype=object)"
      ]
     },
     "metadata": {},
     "execution_count": 27
    }
   ],
   "source": [
    "N   = 100\n",
    "ret = np.arange(1, N + 1, dtype = np.object)\n",
    "is_fizz = ret % 3 == 0\n",
    "is_buzz = ret % 5 == 0\n",
    "is_fizz_buzz = np.logical_and(is_fizz, is_buzz)\n",
    "for v, l in zip([\"fizz\", \"buzz\", \"fizz_buzz\"], [is_fizz, is_buzz, is_fizz_buzz]):\n",
    "    ret[l] = v\n",
    "ret"
   ]
  },
  {
   "source": [
    "### question 07"
   ],
   "cell_type": "markdown",
   "metadata": {}
  },
  {
   "cell_type": "code",
   "execution_count": 28,
   "metadata": {},
   "outputs": [
    {
     "output_type": "execute_result",
     "data": {
      "text/plain": [
       "array([1, 2, 'fizz', 4, 'buzz', 'fizz', 7, 8, 'fizz', 'buzz', 11, 'fizz',\n",
       "       13, 14, 'fizzbuzz', 16, 17, 'fizz', 19, 'buzz', 'fizz', 22, 23,\n",
       "       'fizz', 'buzz', 26, 'fizz', 28, 29, 'fizzbuzz', 31, 32, 'fizz', 34,\n",
       "       'buzz', 'fizz', 37, 38, 'fizz', 'buzz', 41, 'fizz', 43, 44,\n",
       "       'fizzbuzz', 46, 47, 'fizz', 49, 'buzz', 'fizz', 52, 53, 'fizz',\n",
       "       'buzz', 56, 'fizz', 58, 59, 'fizzbuzz', 61, 62, 'fizz', 64, 'buzz',\n",
       "       'fizz', 67, 68, 'fizz', 'buzz', 71, 'fizz', 73, 74, 'fizzbuzz', 76,\n",
       "       77, 'fizz', 79, 'buzz', 'fizz', 82, 83, 'fizz', 'buzz', 86, 'fizz',\n",
       "       88, 89, 'fizzbuzz', 91, 92, 'fizz', 94, 'buzz', 'fizz', 97, 98,\n",
       "       'fizz', 'buzz', 101], dtype=object)"
      ]
     },
     "metadata": {},
     "execution_count": 28
    }
   ],
   "source": [
    "N  = 100\n",
    "ret = np.full((N + 1), \"\", dtype = np.object)\n",
    "ret[2::3] += \"fizz\"\n",
    "ret[4::5] += \"buzz\"\n",
    "ret[ret == \"\"] = (1 + np.where(ret == \"\")[0]).astype(np.object)\n",
    "ret"
   ]
  },
  {
   "source": [
    "### question 08\n"
   ],
   "cell_type": "markdown",
   "metadata": {}
  },
  {
   "cell_type": "code",
   "execution_count": 29,
   "metadata": {},
   "outputs": [
    {
     "output_type": "execute_result",
     "data": {
      "text/plain": [
       "array([1, 2, 'あほ', 4, 5, 'あほ', 7, 8, 'あほ', 10, 11, 'あほ', 'あほ', 14, 'あほ',\n",
       "       16, 17, 'あほ', 19, 20, 'あほ', 22, 'あほ', 'あほ', 25, 26, 'あほ', 28, 29,\n",
       "       'あほ', 'あほ', 'あほ', 'あほ', 'あほ', 'あほ', 'あほ', 'あほ', 'あほ', 'あほ', 40, 41,\n",
       "       'あほ', 'あほ', 44, 'あほ', 46, 47, 'あほ', 49, 50, 'あほ', 52, 'あほ', 'あほ',\n",
       "       55, 56, 'あほ', 58, 59, 'あほ', 61, 62, 'あほ', 64, 65, 'あほ', 67, 68,\n",
       "       'あほ', 70, 71, 'あほ', 'あほ', 74, 'あほ', 76, 77, 'あほ', 79, 80, 'あほ', 82,\n",
       "       'あほ', 'あほ', 85, 86, 'あほ', 88, 89, 'あほ', 91, 92, 'あほ', 94, 95, 'あほ',\n",
       "       97, 98, 'あほ', 100], dtype=object)"
      ]
     },
     "metadata": {},
     "execution_count": 29
    }
   ],
   "source": [
    "import re\n",
    "reg = re.compile(\"3\")\n",
    "N   = 100\n",
    "ret = np.arange(1, N + 1, dtype = np.object)\n",
    "ret[2::3] = \"あほ\"\n",
    "for i in range(N):\n",
    "    if reg.search(str(ret[i])):\n",
    "        ret[i] = \"あほ\"\n",
    "\n",
    "ret"
   ]
  },
  {
   "source": [
    "### question 09"
   ],
   "cell_type": "markdown",
   "metadata": {}
  },
  {
   "cell_type": "code",
   "execution_count": 38,
   "metadata": {},
   "outputs": [
    {
     "output_type": "execute_result",
     "data": {
      "text/plain": [
       "array([  0,   1,   0,   0,   4,   0,   0,   0,   0,   9,   0,   0,   0,\n",
       "         0,   0,   0,  16,   0,   0,   0,   0,   0,   0,   0,   0,  25,\n",
       "         0,   0,   0,   0,   0,   0,   0,   0,   0,   0,  36,   0,   0,\n",
       "         0,   0,   0,   0,   0,   0,   0,   0,   0,   0,  49,   0,   0,\n",
       "         0,   0,   0,   0,   0,   0,   0,   0,   0,   0,   0,   0,  64,\n",
       "         0,   0,   0,   0,   0,   0,   0,   0,   0,   0,   0,   0,   0,\n",
       "         0,   0,   0,  81,   0,   0,   0,   0,   0,   0,   0,   0,   0,\n",
       "         0,   0,   0,   0,   0,   0,   0,   0,   0, 100,   0,   0,   0,\n",
       "         0,   0,   0,   0,   0,   0,   0,   0,   0,   0,   0,   0,   0,\n",
       "         0,   0,   0,   0, 121,   0,   0,   0,   0,   0,   0,   0,   0,\n",
       "         0,   0,   0,   0,   0,   0,   0,   0,   0,   0,   0,   0,   0,\n",
       "         0, 144,   0,   0,   0,   0,   0,   0,   0,   0,   0,   0,   0,\n",
       "         0,   0,   0,   0,   0,   0,   0,   0,   0,   0,   0,   0,   0,\n",
       "       169,   0,   0,   0,   0,   0,   0,   0,   0,   0,   0,   0,   0,\n",
       "         0,   0,   0,   0,   0,   0,   0,   0,   0,   0,   0,   0,   0,\n",
       "         0,   0,   0,   0,   0])"
      ]
     },
     "metadata": {},
     "execution_count": 38
    }
   ],
   "source": [
    "N = 200\n",
    "x = np.zeros((N, ), dtype = np.int32)\n",
    "y = np.arange(np.floor(np.sqrt(N)).astype(np.int)) ** 2\n",
    "x[y] = y\n",
    "x"
   ]
  },
  {
   "source": [
    "### question 10"
   ],
   "cell_type": "markdown",
   "metadata": {}
  },
  {
   "cell_type": "code",
   "execution_count": 43,
   "metadata": {},
   "outputs": [
    {
     "output_type": "execute_result",
     "data": {
      "text/plain": [
       "array([15.  , 15.83, 16.67, 17.5 , 18.33, 19.17, 20.  , 20.83, 21.67,\n",
       "       22.5 , 23.33, 24.17, 25.  , 25.83, 26.67, 27.5 , 28.33, 29.17,\n",
       "       30.  , 30.83, 31.67, 32.5 , 33.33, 34.17, 35.  , 35.83, 36.67,\n",
       "       37.5 , 38.33, 39.17, 40.  , 40.83, 41.67, 42.5 , 43.33, 44.17,\n",
       "       45.  , 45.83, 46.67, 47.5 , 48.33, 49.17, 50.  , 50.83, 51.67,\n",
       "       52.5 , 53.33, 54.17, 55.  , 55.83, 56.67, 57.5 , 58.33, 59.17,\n",
       "       60.  , 60.83, 61.67, 62.5 , 63.33, 64.17, 65.  ])"
      ]
     },
     "metadata": {},
     "execution_count": 43
    }
   ],
   "source": [
    "velocity_km_per_m = (65 - 15) / 60\n",
    "x_seq = 15 + velocity_km_per_m * np.arange(61)\n",
    "np.round(x_seq, 2)"
   ]
  },
  {
   "source": [
    "### question 11"
   ],
   "cell_type": "markdown",
   "metadata": {}
  },
  {
   "cell_type": "code",
   "execution_count": 41,
   "metadata": {},
   "outputs": [
    {
     "output_type": "execute_result",
     "data": {
      "text/plain": [
       "array([        1,         1,         4,        27,       256,      3125,\n",
       "           46656,    823543,  16777216, 387420489], dtype=int32)"
      ]
     },
     "metadata": {},
     "execution_count": 41
    }
   ],
   "source": [
    "\n",
    "x = np.arange(10)\n",
    "\n",
    "x ** x"
   ]
  },
  {
   "source": [
    "### question 12"
   ],
   "cell_type": "markdown",
   "metadata": {}
  },
  {
   "cell_type": "code",
   "execution_count": 45,
   "metadata": {},
   "outputs": [
    {
     "output_type": "execute_result",
     "data": {
      "text/plain": [
       "(array([ 0.        ,  0.90365484,  0.77400118, -0.24070502, -0.98017057,\n",
       "        -0.59883364,  0.46725577,  0.99904896,  0.38845266, -0.66633031]),\n",
       " array([ 0.        ,  0.90365484,  0.77400118, -0.24070502, -0.98017057,\n",
       "        -0.59883364,  0.46725577,  0.99904896,  0.38845266, -0.66633031]))"
      ]
     },
     "metadata": {},
     "execution_count": 45
    }
   ],
   "source": [
    "alpha_arr = np.linspace(0, 2 * np.pi, 50)\n",
    "beta_arr  = np.arange(50)\n",
    "x = np.sin(alpha_arr + beta_arr)\n",
    "y = np.sin(alpha_arr) * np.cos(beta_arr) + np.cos(alpha_arr) * np.sin(beta_arr)\n",
    "x[:10], y[:10]"
   ]
  },
  {
   "cell_type": "code",
   "execution_count": 46,
   "metadata": {},
   "outputs": [],
   "source": [
    "for a, b in zip(x, y):\n",
    "    if not np.isclose(a, b):\n",
    "        print(\"x != y\")\n"
   ]
  },
  {
   "source": [
    "### question 13"
   ],
   "cell_type": "markdown",
   "metadata": {}
  },
  {
   "cell_type": "code",
   "execution_count": 50,
   "metadata": {},
   "outputs": [
    {
     "output_type": "execute_result",
     "data": {
      "text/plain": [
       "array([ 1000,  1500,  2000,  2500,  3000,  3500,  4000,  4500,  5000,\n",
       "        5500,  6000,  6500,  7000,  7500,  8000,  8500,  9000,  9500,\n",
       "       10000, 10500, 11000, 11500, 12000, 12500, 13000, 13500, 14000,\n",
       "       14500, 15000, 15500, 16000, 16500, 17000, 17500, 18000, 18500,\n",
       "       19000, 19500, 20000, 20500, 21000, 21500, 22000, 22500, 23000,\n",
       "       23500, 24000, 24500, 25000, 25500, 26000, 26500, 27000, 27500,\n",
       "       28000, 28500, 29000, 29500, 30000])"
      ]
     },
     "metadata": {},
     "execution_count": 50
    }
   ],
   "source": [
    "# 1円未満は切り捨て\n",
    "return_fee_rate = .35\n",
    "# 1000円未満は四捨五入\n",
    "return_coupon_rate = .15\n",
    "\n",
    "fee_arr = np.arange(1000, 30001, 500)\n",
    "fee_arr"
   ]
  },
  {
   "cell_type": "code",
   "execution_count": 52,
   "metadata": {},
   "outputs": [
    {
     "output_type": "execute_result",
     "data": {
      "text/plain": [
       "array([  650,   975,  1300,  1625,  1950,  2275,  2600,  2925,  3250,\n",
       "        3576,  3900,  4225,  4550,  4875,  5200,  5525,  5850,  6175,\n",
       "        6500,  6826,  7151,  7476,  7800,  8125,  8450,  8775,  9100,\n",
       "        9425,  9750, 10075, 10400, 10725, 11050, 11375, 11700, 12025,\n",
       "       12350, 12675, 13000, 13326, 13651, 13976, 14301, 14626, 14951,\n",
       "       15275, 15600, 15925, 16250, 16575, 16900, 17225, 17550, 17875,\n",
       "       18200, 18525, 18850, 19175, 19500])"
      ]
     },
     "metadata": {},
     "execution_count": 52
    }
   ],
   "source": [
    "apparent_fee = fee_arr - np.floor(fee_arr * return_fee_rate).astype(np.int)\n",
    "apparent_fee"
   ]
  },
  {
   "cell_type": "code",
   "execution_count": 82,
   "metadata": {},
   "outputs": [
    {
     "output_type": "execute_result",
     "data": {
      "text/plain": [
       "array([   0.,    0.,    0.,    0.,    0., 1000., 1000., 1000., 1000.,\n",
       "       1000., 1000., 1000., 1000., 1000., 1000., 1000., 1000., 1000.,\n",
       "       2000., 2000., 2000., 2000., 2000., 2000., 2000., 2000., 2000.,\n",
       "       2000., 2000., 2000., 2000., 2000., 3000., 3000., 3000., 3000.,\n",
       "       3000., 3000., 3000., 3000., 3000., 3000., 3000., 3000., 3000.,\n",
       "       4000., 4000., 4000., 4000., 4000., 4000., 4000., 4000., 4000.,\n",
       "       4000., 4000., 4000., 4000., 5000.])"
      ]
     },
     "metadata": {},
     "execution_count": 82
    }
   ],
   "source": [
    " x = fee_arr * return_coupon_rate\n",
    " z = (x // 1000).astype(np.int)\n",
    " y = np.round(1 + x - z * 1000, -3)\n",
    " coupen = 1000 * z + y\n",
    " coupen\n"
   ]
  },
  {
   "cell_type": "code",
   "execution_count": 83,
   "metadata": {},
   "outputs": [
    {
     "output_type": "execute_result",
     "data": {
      "text/plain": [
       "array([  650.,   975.,  1300.,  1625.,  1950.,  1275.,  1600.,  1925.,\n",
       "        2250.,  2576.,  2900.,  3225.,  3550.,  3875.,  4200.,  4525.,\n",
       "        4850.,  5175.,  4500.,  4826.,  5151.,  5476.,  5800.,  6125.,\n",
       "        6450.,  6775.,  7100.,  7425.,  7750.,  8075.,  8400.,  8725.,\n",
       "        8050.,  8375.,  8700.,  9025.,  9350.,  9675., 10000., 10326.,\n",
       "       10651., 10976., 11301., 11626., 11951., 11275., 11600., 11925.,\n",
       "       12250., 12575., 12900., 13225., 13550., 13875., 14200., 14525.,\n",
       "       14850., 15175., 14500.])"
      ]
     },
     "metadata": {},
     "execution_count": 83
    }
   ],
   "source": [
    "apparent_fee - coupen"
   ]
  },
  {
   "source": [
    "### question 14"
   ],
   "cell_type": "markdown",
   "metadata": {}
  },
  {
   "cell_type": "code",
   "execution_count": 99,
   "metadata": {},
   "outputs": [],
   "source": [
    "a = np.linspace(-1, 1, 9)"
   ]
  },
  {
   "cell_type": "code",
   "execution_count": 98,
   "metadata": {},
   "outputs": [
    {
     "output_type": "stream",
     "name": "stdout",
     "text": [
      "-1.00, -1.00, -1.00, -1.00, -1.00\n-0.75, -1.00, -0.00, -1.00,  0.00\n-0.50, -1.00, -0.00, -0.00,  0.00\n-0.25, -1.00, -0.00, -0.00,  0.00\n 0.00,  0.00,  0.00,  0.00,  0.00\n 0.25,  0.00,  1.00,  0.00,  0.00\n 0.50,  0.00,  1.00,  0.00,  0.00\n 0.75,  0.00,  1.00,  1.00,  0.00\n 1.00,  1.00,  1.00,  1.00,  1.00\n"
     ]
    }
   ],
   "source": [
    "for x, b, c, d, e in zip(a, np.floor(a), np.ceil(a), np.round(a), a.astype(np.int)):\n",
    "    print (f\"{x:>5.2f}, {b:>5.2f}, {c:>5.2f}, {d:>5.2f}, {e:>5.2f}\")"
   ]
  },
  {
   "source": [
    "### question 15"
   ],
   "cell_type": "markdown",
   "metadata": {}
  },
  {
   "cell_type": "code",
   "execution_count": 101,
   "metadata": {},
   "outputs": [
    {
     "output_type": "stream",
     "name": "stdout",
     "text": [
      "p = 5, n = 5\np = 4, n = 6\np = 5, n = 5\np = 5, n = 5\np = 5, n = 5\n"
     ]
    }
   ],
   "source": [
    "size = 10\n",
    "for _ in range(5):\n",
    "    r = np.random.randn(size)\n",
    "    n_positive = np.sum(r >= 0)\n",
    "    n_negative = size - n_positive\n",
    "    print(f\"p = {n_positive}, n = {n_negative}\")"
   ]
  },
  {
   "source": [
    "### question 16"
   ],
   "cell_type": "markdown",
   "metadata": {}
  },
  {
   "cell_type": "code",
   "execution_count": 105,
   "metadata": {},
   "outputs": [
    {
     "output_type": "execute_result",
     "data": {
      "text/plain": [
       "array([0, 0, 0, 0, 0, 0, 0, 0, 0, 0, 1, 1, 1, 1, 1, 1, 1, 1, 1, 1, 2, 2,\n",
       "       2, 2, 2, 2, 2, 2, 2, 2, 3, 3, 3, 3, 3, 3, 3, 3, 3, 3, 4, 4, 4, 4,\n",
       "       4, 4, 4, 4, 4, 4], dtype=int32)"
      ]
     },
     "metadata": {},
     "execution_count": 105
    }
   ],
   "source": [
    "x = np.arange(50)\n",
    "y = x // 10\n",
    "y"
   ]
  },
  {
   "cell_type": "code",
   "execution_count": 106,
   "metadata": {},
   "outputs": [
    {
     "output_type": "stream",
     "name": "stdout",
     "text": [
      "10\n10\n10\n10\n10\n"
     ]
    }
   ],
   "source": [
    "for a in range(5):\n",
    "    print(np.sum(y == a))"
   ]
  },
  {
   "source": [
    "### question 17"
   ],
   "cell_type": "markdown",
   "metadata": {}
  },
  {
   "cell_type": "code",
   "execution_count": 107,
   "metadata": {},
   "outputs": [],
   "source": [
    "x = np.array([0, 1, 2, 253, 254, 255], dtype = np.uint8)"
   ]
  },
  {
   "cell_type": "code",
   "execution_count": 108,
   "metadata": {},
   "outputs": [
    {
     "output_type": "execute_result",
     "data": {
      "text/plain": [
       "array([  1,   2,   3, 254, 255,   0], dtype=uint8)"
      ]
     },
     "metadata": {},
     "execution_count": 108
    }
   ],
   "source": [
    "x + 1"
   ]
  },
  {
   "cell_type": "code",
   "execution_count": 109,
   "metadata": {},
   "outputs": [
    {
     "output_type": "execute_result",
     "data": {
      "text/plain": [
       "array([255,   0,   1, 252, 253, 254], dtype=uint8)"
      ]
     },
     "metadata": {},
     "execution_count": 109
    }
   ],
   "source": [
    "x - 1"
   ]
  },
  {
   "cell_type": "code",
   "execution_count": 110,
   "metadata": {},
   "outputs": [
    {
     "output_type": "execute_result",
     "data": {
      "text/plain": [
       "array([  0,   2,   4, 250, 252, 254], dtype=uint8)"
      ]
     },
     "metadata": {},
     "execution_count": 110
    }
   ],
   "source": [
    "x * 2"
   ]
  },
  {
   "cell_type": "code",
   "execution_count": 111,
   "metadata": {},
   "outputs": [
    {
     "output_type": "execute_result",
     "data": {
      "text/plain": [
       "252"
      ]
     },
     "metadata": {},
     "execution_count": 111
    }
   ],
   "source": [
    "254 * 2 % 256"
   ]
  },
  {
   "cell_type": "code",
   "execution_count": 112,
   "metadata": {},
   "outputs": [
    {
     "output_type": "execute_result",
     "data": {
      "text/plain": [
       "array([  0. ,   0.5,   1. , 126.5, 127. , 127.5])"
      ]
     },
     "metadata": {},
     "execution_count": 112
    }
   ],
   "source": [
    "x / 2"
   ]
  },
  {
   "cell_type": "code",
   "execution_count": 114,
   "metadata": {},
   "outputs": [
    {
     "output_type": "execute_result",
     "data": {
      "text/plain": [
       "dtype('float64')"
      ]
     },
     "metadata": {},
     "execution_count": 114
    }
   ],
   "source": [
    "(x / 2).dtype"
   ]
  },
  {
   "cell_type": "code",
   "execution_count": 115,
   "metadata": {},
   "outputs": [
    {
     "output_type": "execute_result",
     "data": {
      "text/plain": [
       "array([  0,   0,   1, 126, 127, 127], dtype=uint8)"
      ]
     },
     "metadata": {},
     "execution_count": 115
    }
   ],
   "source": [
    "x // 2"
   ]
  },
  {
   "source": [
    "### question 18\n"
   ],
   "cell_type": "markdown",
   "metadata": {}
  },
  {
   "cell_type": "code",
   "execution_count": 117,
   "metadata": {},
   "outputs": [
    {
     "output_type": "execute_result",
     "data": {
      "text/plain": [
       "array([3, 3, 3, 3, 4, 5, 6, 7, 7, 7])"
      ]
     },
     "metadata": {},
     "execution_count": 117
    }
   ],
   "source": [
    "# 任意の範囲で頭打ちのを作成するには\n",
    "np.clip(np.arange(10), 3, 7)"
   ]
  },
  {
   "cell_type": "code",
   "execution_count": null,
   "metadata": {},
   "outputs": [],
   "source": []
  }
 ]
}