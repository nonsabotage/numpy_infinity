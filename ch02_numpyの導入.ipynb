{
 "metadata": {
  "language_info": {
   "codemirror_mode": {
    "name": "ipython",
    "version": 3
   },
   "file_extension": ".py",
   "mimetype": "text/x-python",
   "name": "python",
   "nbconvert_exporter": "python",
   "pygments_lexer": "ipython3",
   "version": "3.8.5-final"
  },
  "orig_nbformat": 2,
  "kernelspec": {
   "name": "python3",
   "display_name": "Python 3",
   "language": "python"
  }
 },
 "nbformat": 4,
 "nbformat_minor": 2,
 "cells": [
  {
   "source": [
    "# numpyの導入\n",
    "\n",
    "## 学ぶこと\n",
    "\n",
    "- Numpy配列の作り方\n",
    "- Numpy配列のデータ型\n",
    "- データ型のキャスト\n"
   ],
   "cell_type": "markdown",
   "metadata": {}
  },
  {
   "source": [
    "## NumPyとは"
   ],
   "cell_type": "markdown",
   "metadata": {}
  },
  {
   "source": [
    "## NumPy配列の初期化"
   ],
   "cell_type": "markdown",
   "metadata": {}
  },
  {
   "cell_type": "code",
   "execution_count": 1,
   "metadata": {},
   "outputs": [],
   "source": [
    "import numpy as np\n",
    "\n",
    "\n"
   ]
  },
  {
   "cell_type": "code",
   "execution_count": 10,
   "metadata": {},
   "outputs": [
    {
     "output_type": "stream",
     "name": "stdout",
     "text": [
      "[0, 1, 2, 3, 4]\n[0 1 2 3 4]\n"
     ]
    }
   ],
   "source": [
    "d = list(range(5))\n",
    "print(d) # Pythonのリスト\n",
    "\n",
    "num_array = np.array(d)\n",
    "print(num_array) # numpyの配列"
   ]
  },
  {
   "source": [
    "## NumPy配列のインデックスによるアクセス\n",
    "\n"
   ],
   "cell_type": "markdown",
   "metadata": {}
  },
  {
   "cell_type": "code",
   "execution_count": 12,
   "metadata": {},
   "outputs": [
    {
     "output_type": "stream",
     "name": "stdout",
     "text": [
      "[1. 1. 1. 1. 1.]\n"
     ]
    }
   ],
   "source": [
    "x = np.ones(5)\n",
    "print(x)"
   ]
  },
  {
   "cell_type": "code",
   "execution_count": 14,
   "metadata": {},
   "outputs": [
    {
     "output_type": "execute_result",
     "data": {
      "text/plain": [
       "array([1., 1., 8., 1., 1.])"
      ]
     },
     "metadata": {},
     "execution_count": 14
    }
   ],
   "source": [
    "x[2] = 8\n",
    "x"
   ]
  },
  {
   "source": [
    "スライスを使った直接の代入も可能である．\n"
   ],
   "cell_type": "markdown",
   "metadata": {}
  },
  {
   "cell_type": "code",
   "execution_count": 15,
   "metadata": {},
   "outputs": [
    {
     "output_type": "execute_result",
     "data": {
      "text/plain": [
       "array([10., 10.,  8.,  1.,  1.])"
      ]
     },
     "metadata": {},
     "execution_count": 15
    }
   ],
   "source": [
    "x[:2] = 10\n",
    "x"
   ]
  },
  {
   "source": [
    "リストのスライスを使った代入は，要素数を変える**黒魔術**であることに注意．\n",
    "\n",
    "基本的には使わないこと. "
   ],
   "cell_type": "markdown",
   "metadata": {}
  },
  {
   "cell_type": "code",
   "execution_count": 16,
   "metadata": {},
   "outputs": [
    {
     "output_type": "execute_result",
     "data": {
      "text/plain": [
       "[0, -1, -1, 4]"
      ]
     },
     "metadata": {},
     "execution_count": 16
    }
   ],
   "source": [
    "x = list(range(5))\n",
    "x[1:4] = [-1, -1]\n",
    "x"
   ]
  },
  {
   "source": [
    "numpyの配列はインプレイスな演算もサポートしている. "
   ],
   "cell_type": "markdown",
   "metadata": {}
  },
  {
   "cell_type": "code",
   "execution_count": 18,
   "metadata": {},
   "outputs": [
    {
     "output_type": "execute_result",
     "data": {
      "text/plain": [
       "array([100, 110,  12,  13,   4])"
      ]
     },
     "metadata": {},
     "execution_count": 18
    }
   ],
   "source": [
    "x = np.arange(5)\n",
    "x[:4] += 10\n",
    "x[:2] *= 10\n",
    "x"
   ]
  },
  {
   "source": [
    "## NumPy配列の計算"
   ],
   "cell_type": "markdown",
   "metadata": {}
  },
  {
   "cell_type": "code",
   "execution_count": 19,
   "metadata": {},
   "outputs": [
    {
     "output_type": "execute_result",
     "data": {
      "text/plain": [
       "array([ 1.        ,  2.71828183,  7.3890561 , 20.08553692, 54.59815003])"
      ]
     },
     "metadata": {},
     "execution_count": 19
    }
   ],
   "source": [
    "# 直接関数を適用することが可能\n",
    "np.exp(np.arange(5))"
   ]
  },
  {
   "source": [
    "## ベストプラクティス\n",
    "\n",
    "上記のようにNumPy配列はループを使わない処理が可能である．\n",
    "数値演算を高速化する場合には，ループ（ピュアなPython）に依存しないようにすることが重要. \n"
   ],
   "cell_type": "markdown",
   "metadata": {}
  },
  {
   "cell_type": "code",
   "execution_count": 21,
   "metadata": {},
   "outputs": [],
   "source": [
    "from mypy.mymodule import TimeExecute"
   ]
  },
  {
   "cell_type": "code",
   "execution_count": 23,
   "metadata": {},
   "outputs": [
    {
     "output_type": "stream",
     "name": "stdout",
     "text": [
      "1,151.955 [msec]\n"
     ]
    }
   ],
   "source": [
    "x = list(range(int(1e7)))\n",
    "with TimeExecute():\n",
    "    for i in range(len(x)):\n",
    "        x[i] *= 2\n",
    "    "
   ]
  },
  {
   "cell_type": "code",
   "execution_count": 24,
   "metadata": {},
   "outputs": [
    {
     "output_type": "stream",
     "name": "stdout",
     "text": [
      "289.227 [msec]\n"
     ]
    }
   ],
   "source": [
    "x = list(range(int(1e7)))\n",
    "with TimeExecute():\n",
    "    x * 2"
   ]
  },
  {
   "source": [
    "## NumPy配列を簡単に呼び出す\n",
    "\n",
    "よく使うのはコレらしい. \n",
    "\n",
    "- np.arange\n",
    "- np.ones\n",
    "- np.zeros\n",
    "- np.ones_like\n",
    "- np.zeros_like\n",
    "- np.linspace\n",
    "- np.random.rand\n",
    "- np.random.randn\n",
    "- np.full\n",
    "- np.empty\n",
    "- np.concatenate\n",
    "\n"
   ],
   "cell_type": "markdown",
   "metadata": {}
  },
  {
   "cell_type": "code",
   "execution_count": 29,
   "metadata": {},
   "outputs": [
    {
     "output_type": "execute_result",
     "data": {
      "text/plain": [
       "(array([0, 1, 3, 4]), array([0, 1, 3, 4]))"
      ]
     },
     "metadata": {},
     "execution_count": 29
    }
   ],
   "source": [
    "a = np.arange(2)\n",
    "b = np.arange(3, 5)\n",
    "np.concatenate([a, b])"
   ]
  },
  {
   "cell_type": "code",
   "execution_count": 35,
   "metadata": {},
   "outputs": [
    {
     "output_type": "display_data",
     "data": {
      "text/plain": "<Figure size 720x576 with 2 Axes>",
      "image/svg+xml": "<?xml version=\"1.0\" encoding=\"utf-8\" standalone=\"no\"?>\r\n<!DOCTYPE svg PUBLIC \"-//W3C//DTD SVG 1.1//EN\"\r\n  \"http://www.w3.org/Graphics/SVG/1.1/DTD/svg11.dtd\">\r\n<!-- Created with matplotlib (https://matplotlib.org/) -->\r\n<svg height=\"465.958125pt\" version=\"1.1\" viewBox=\"0 0 604.85 465.958125\" width=\"604.85pt\" xmlns=\"http://www.w3.org/2000/svg\" xmlns:xlink=\"http://www.w3.org/1999/xlink\">\r\n <metadata>\r\n  <rdf:RDF xmlns:cc=\"http://creativecommons.org/ns#\" xmlns:dc=\"http://purl.org/dc/elements/1.1/\" xmlns:rdf=\"http://www.w3.org/1999/02/22-rdf-syntax-ns#\">\r\n   <cc:Work>\r\n    <dc:type rdf:resource=\"http://purl.org/dc/dcmitype/StillImage\"/>\r\n    <dc:date>2021-01-13T15:54:46.096404</dc:date>\r\n    <dc:format>image/svg+xml</dc:format>\r\n    <dc:creator>\r\n     <cc:Agent>\r\n      <dc:title>Matplotlib v3.3.2, https://matplotlib.org/</dc:title>\r\n     </cc:Agent>\r\n    </dc:creator>\r\n   </cc:Work>\r\n  </rdf:RDF>\r\n </metadata>\r\n <defs>\r\n  <style type=\"text/css\">*{stroke-linecap:butt;stroke-linejoin:round;}</style>\r\n </defs>\r\n <g id=\"figure_1\">\r\n  <g id=\"patch_1\">\r\n   <path d=\"M 0 465.958125 \r\nL 604.85 465.958125 \r\nL 604.85 0 \r\nL 0 0 \r\nz\r\n\" style=\"fill:none;\"/>\r\n  </g>\r\n  <g id=\"axes_1\">\r\n   <g id=\"patch_2\">\r\n    <path d=\"M 39.65 204.872727 \r\nL 597.65 204.872727 \r\nL 597.65 7.2 \r\nL 39.65 7.2 \r\nz\r\n\" style=\"fill:#ffffff;\"/>\r\n   </g>\r\n   <g id=\"patch_3\">\r\n    <path clip-path=\"url(#p034ff9fdd5)\" d=\"M 65.013636 204.872727 \r\nL 70.086364 204.872727 \r\nL 70.086364 31.950173 \r\nL 65.013636 31.950173 \r\nz\r\n\" style=\"fill:#1f77b4;\"/>\r\n   </g>\r\n   <g id=\"patch_4\">\r\n    <path clip-path=\"url(#p034ff9fdd5)\" d=\"M 70.086364 204.872727 \r\nL 75.159091 204.872727 \r\nL 75.159091 38.186171 \r\nL 70.086364 38.186171 \r\nz\r\n\" style=\"fill:#1f77b4;\"/>\r\n   </g>\r\n   <g id=\"patch_5\">\r\n    <path clip-path=\"url(#p034ff9fdd5)\" d=\"M 75.159091 204.872727 \r\nL 80.231818 204.872727 \r\nL 80.231818 44.085089 \r\nL 75.159091 44.085089 \r\nz\r\n\" style=\"fill:#1f77b4;\"/>\r\n   </g>\r\n   <g id=\"patch_6\">\r\n    <path clip-path=\"url(#p034ff9fdd5)\" d=\"M 80.231818 204.872727 \r\nL 85.304545 204.872727 \r\nL 85.304545 49.478385 \r\nL 80.231818 49.478385 \r\nz\r\n\" style=\"fill:#1f77b4;\"/>\r\n   </g>\r\n   <g id=\"patch_7\">\r\n    <path clip-path=\"url(#p034ff9fdd5)\" d=\"M 85.304545 204.872727 \r\nL 90.377273 204.872727 \r\nL 90.377273 39.028874 \r\nL 85.304545 39.028874 \r\nz\r\n\" style=\"fill:#1f77b4;\"/>\r\n   </g>\r\n   <g id=\"patch_8\">\r\n    <path clip-path=\"url(#p034ff9fdd5)\" d=\"M 90.377273 204.872727 \r\nL 95.45 204.872727 \r\nL 95.45 33.129956 \r\nL 90.377273 33.129956 \r\nz\r\n\" style=\"fill:#1f77b4;\"/>\r\n   </g>\r\n   <g id=\"patch_9\">\r\n    <path clip-path=\"url(#p034ff9fdd5)\" d=\"M 95.45 204.872727 \r\nL 100.522727 204.872727 \r\nL 100.522727 40.040117 \r\nL 95.45 40.040117 \r\nz\r\n\" style=\"fill:#1f77b4;\"/>\r\n   </g>\r\n   <g id=\"patch_10\">\r\n    <path clip-path=\"url(#p034ff9fdd5)\" d=\"M 100.522727 204.872727 \r\nL 105.595455 204.872727 \r\nL 105.595455 31.10747 \r\nL 100.522727 31.10747 \r\nz\r\n\" style=\"fill:#1f77b4;\"/>\r\n   </g>\r\n   <g id=\"patch_11\">\r\n    <path clip-path=\"url(#p034ff9fdd5)\" d=\"M 105.595455 204.872727 \r\nL 110.668182 204.872727 \r\nL 110.668182 39.534495 \r\nL 105.595455 39.534495 \r\nz\r\n\" style=\"fill:#1f77b4;\"/>\r\n   </g>\r\n   <g id=\"patch_12\">\r\n    <path clip-path=\"url(#p034ff9fdd5)\" d=\"M 110.668182 204.872727 \r\nL 115.740909 204.872727 \r\nL 115.740909 31.613092 \r\nL 110.668182 31.613092 \r\nz\r\n\" style=\"fill:#1f77b4;\"/>\r\n   </g>\r\n   <g id=\"patch_13\">\r\n    <path clip-path=\"url(#p034ff9fdd5)\" d=\"M 115.740909 204.872727 \r\nL 120.813636 204.872727 \r\nL 120.813636 44.42217 \r\nL 115.740909 44.42217 \r\nz\r\n\" style=\"fill:#1f77b4;\"/>\r\n   </g>\r\n   <g id=\"patch_14\">\r\n    <path clip-path=\"url(#p034ff9fdd5)\" d=\"M 120.813636 204.872727 \r\nL 125.886364 204.872727 \r\nL 125.886364 34.815361 \r\nL 120.813636 34.815361 \r\nz\r\n\" style=\"fill:#1f77b4;\"/>\r\n   </g>\r\n   <g id=\"patch_15\">\r\n    <path clip-path=\"url(#p034ff9fdd5)\" d=\"M 125.886364 204.872727 \r\nL 130.959091 204.872727 \r\nL 130.959091 33.804118 \r\nL 125.886364 33.804118 \r\nz\r\n\" style=\"fill:#1f77b4;\"/>\r\n   </g>\r\n   <g id=\"patch_16\">\r\n    <path clip-path=\"url(#p034ff9fdd5)\" d=\"M 130.959091 204.872727 \r\nL 136.031818 204.872727 \r\nL 136.031818 37.68055 \r\nL 130.959091 37.68055 \r\nz\r\n\" style=\"fill:#1f77b4;\"/>\r\n   </g>\r\n   <g id=\"patch_17\">\r\n    <path clip-path=\"url(#p034ff9fdd5)\" d=\"M 136.031818 204.872727 \r\nL 141.104545 204.872727 \r\nL 141.104545 34.646821 \r\nL 136.031818 34.646821 \r\nz\r\n\" style=\"fill:#1f77b4;\"/>\r\n   </g>\r\n   <g id=\"patch_18\">\r\n    <path clip-path=\"url(#p034ff9fdd5)\" d=\"M 141.104545 204.872727 \r\nL 146.177273 204.872727 \r\nL 146.177273 32.287254 \r\nL 141.104545 32.287254 \r\nz\r\n\" style=\"fill:#1f77b4;\"/>\r\n   </g>\r\n   <g id=\"patch_19\">\r\n    <path clip-path=\"url(#p034ff9fdd5)\" d=\"M 146.177273 204.872727 \r\nL 151.25 204.872727 \r\nL 151.25 34.983902 \r\nL 146.177273 34.983902 \r\nz\r\n\" style=\"fill:#1f77b4;\"/>\r\n   </g>\r\n   <g id=\"patch_20\">\r\n    <path clip-path=\"url(#p034ff9fdd5)\" d=\"M 151.25 204.872727 \r\nL 156.322727 204.872727 \r\nL 156.322727 44.085089 \r\nL 151.25 44.085089 \r\nz\r\n\" style=\"fill:#1f77b4;\"/>\r\n   </g>\r\n   <g id=\"patch_21\">\r\n    <path clip-path=\"url(#p034ff9fdd5)\" d=\"M 156.322727 204.872727 \r\nL 161.395455 204.872727 \r\nL 161.395455 35.658064 \r\nL 156.322727 35.658064 \r\nz\r\n\" style=\"fill:#1f77b4;\"/>\r\n   </g>\r\n   <g id=\"patch_22\">\r\n    <path clip-path=\"url(#p034ff9fdd5)\" d=\"M 161.395455 204.872727 \r\nL 166.468182 204.872727 \r\nL 166.468182 36.837847 \r\nL 161.395455 36.837847 \r\nz\r\n\" style=\"fill:#1f77b4;\"/>\r\n   </g>\r\n   <g id=\"patch_23\">\r\n    <path clip-path=\"url(#p034ff9fdd5)\" d=\"M 166.468182 204.872727 \r\nL 171.540909 204.872727 \r\nL 171.540909 33.129956 \r\nL 166.468182 33.129956 \r\nz\r\n\" style=\"fill:#1f77b4;\"/>\r\n   </g>\r\n   <g id=\"patch_24\">\r\n    <path clip-path=\"url(#p034ff9fdd5)\" d=\"M 171.540909 204.872727 \r\nL 176.613636 204.872727 \r\nL 176.613636 32.287254 \r\nL 171.540909 32.287254 \r\nz\r\n\" style=\"fill:#1f77b4;\"/>\r\n   </g>\r\n   <g id=\"patch_25\">\r\n    <path clip-path=\"url(#p034ff9fdd5)\" d=\"M 176.613636 204.872727 \r\nL 181.686364 204.872727 \r\nL 181.686364 37.84909 \r\nL 176.613636 37.84909 \r\nz\r\n\" style=\"fill:#1f77b4;\"/>\r\n   </g>\r\n   <g id=\"patch_26\">\r\n    <path clip-path=\"url(#p034ff9fdd5)\" d=\"M 181.686364 204.872727 \r\nL 186.759091 204.872727 \r\nL 186.759091 36.500766 \r\nL 181.686364 36.500766 \r\nz\r\n\" style=\"fill:#1f77b4;\"/>\r\n   </g>\r\n   <g id=\"patch_27\">\r\n    <path clip-path=\"url(#p034ff9fdd5)\" d=\"M 186.759091 204.872727 \r\nL 191.831818 204.872727 \r\nL 191.831818 31.613092 \r\nL 186.759091 31.613092 \r\nz\r\n\" style=\"fill:#1f77b4;\"/>\r\n   </g>\r\n   <g id=\"patch_28\">\r\n    <path clip-path=\"url(#p034ff9fdd5)\" d=\"M 191.831818 204.872727 \r\nL 196.904545 204.872727 \r\nL 196.904545 33.467037 \r\nL 191.831818 33.467037 \r\nz\r\n\" style=\"fill:#1f77b4;\"/>\r\n   </g>\r\n   <g id=\"patch_29\">\r\n    <path clip-path=\"url(#p034ff9fdd5)\" d=\"M 196.904545 204.872727 \r\nL 201.977273 204.872727 \r\nL 201.977273 34.141199 \r\nL 196.904545 34.141199 \r\nz\r\n\" style=\"fill:#1f77b4;\"/>\r\n   </g>\r\n   <g id=\"patch_30\">\r\n    <path clip-path=\"url(#p034ff9fdd5)\" d=\"M 201.977273 204.872727 \r\nL 207.05 204.872727 \r\nL 207.05 34.983902 \r\nL 201.977273 34.983902 \r\nz\r\n\" style=\"fill:#1f77b4;\"/>\r\n   </g>\r\n   <g id=\"patch_31\">\r\n    <path clip-path=\"url(#p034ff9fdd5)\" d=\"M 207.05 204.872727 \r\nL 212.122727 204.872727 \r\nL 212.122727 32.118713 \r\nL 207.05 32.118713 \r\nz\r\n\" style=\"fill:#1f77b4;\"/>\r\n   </g>\r\n   <g id=\"patch_32\">\r\n    <path clip-path=\"url(#p034ff9fdd5)\" d=\"M 212.122727 204.872727 \r\nL 217.195455 204.872727 \r\nL 217.195455 43.748008 \r\nL 212.122727 43.748008 \r\nz\r\n\" style=\"fill:#1f77b4;\"/>\r\n   </g>\r\n   <g id=\"patch_33\">\r\n    <path clip-path=\"url(#p034ff9fdd5)\" d=\"M 217.195455 204.872727 \r\nL 222.268182 204.872727 \r\nL 222.268182 34.30974 \r\nL 217.195455 34.30974 \r\nz\r\n\" style=\"fill:#1f77b4;\"/>\r\n   </g>\r\n   <g id=\"patch_34\">\r\n    <path clip-path=\"url(#p034ff9fdd5)\" d=\"M 222.268182 204.872727 \r\nL 227.340909 204.872727 \r\nL 227.340909 31.276011 \r\nL 222.268182 31.276011 \r\nz\r\n\" style=\"fill:#1f77b4;\"/>\r\n   </g>\r\n   <g id=\"patch_35\">\r\n    <path clip-path=\"url(#p034ff9fdd5)\" d=\"M 227.340909 204.872727 \r\nL 232.413636 204.872727 \r\nL 232.413636 39.534495 \r\nL 227.340909 39.534495 \r\nz\r\n\" style=\"fill:#1f77b4;\"/>\r\n   </g>\r\n   <g id=\"patch_36\">\r\n    <path clip-path=\"url(#p034ff9fdd5)\" d=\"M 232.413636 204.872727 \r\nL 237.486364 204.872727 \r\nL 237.486364 32.624335 \r\nL 232.413636 32.624335 \r\nz\r\n\" style=\"fill:#1f77b4;\"/>\r\n   </g>\r\n   <g id=\"patch_37\">\r\n    <path clip-path=\"url(#p034ff9fdd5)\" d=\"M 237.486364 204.872727 \r\nL 242.559091 204.872727 \r\nL 242.559091 36.837847 \r\nL 237.486364 36.837847 \r\nz\r\n\" style=\"fill:#1f77b4;\"/>\r\n   </g>\r\n   <g id=\"patch_38\">\r\n    <path clip-path=\"url(#p034ff9fdd5)\" d=\"M 242.559091 204.872727 \r\nL 247.631818 204.872727 \r\nL 247.631818 42.905305 \r\nL 242.559091 42.905305 \r\nz\r\n\" style=\"fill:#1f77b4;\"/>\r\n   </g>\r\n   <g id=\"patch_39\">\r\n    <path clip-path=\"url(#p034ff9fdd5)\" d=\"M 247.631818 204.872727 \r\nL 252.704545 204.872727 \r\nL 252.704545 36.837847 \r\nL 247.631818 36.837847 \r\nz\r\n\" style=\"fill:#1f77b4;\"/>\r\n   </g>\r\n   <g id=\"patch_40\">\r\n    <path clip-path=\"url(#p034ff9fdd5)\" d=\"M 252.704545 204.872727 \r\nL 257.777273 204.872727 \r\nL 257.777273 24.871472 \r\nL 252.704545 24.871472 \r\nz\r\n\" style=\"fill:#1f77b4;\"/>\r\n   </g>\r\n   <g id=\"patch_41\">\r\n    <path clip-path=\"url(#p034ff9fdd5)\" d=\"M 257.777273 204.872727 \r\nL 262.85 204.872727 \r\nL 262.85 46.276115 \r\nL 257.777273 46.276115 \r\nz\r\n\" style=\"fill:#1f77b4;\"/>\r\n   </g>\r\n   <g id=\"patch_42\">\r\n    <path clip-path=\"url(#p034ff9fdd5)\" d=\"M 262.85 204.872727 \r\nL 267.922727 204.872727 \r\nL 267.922727 50.658168 \r\nL 262.85 50.658168 \r\nz\r\n\" style=\"fill:#1f77b4;\"/>\r\n   </g>\r\n   <g id=\"patch_43\">\r\n    <path clip-path=\"url(#p034ff9fdd5)\" d=\"M 267.922727 204.872727 \r\nL 272.995455 204.872727 \r\nL 272.995455 33.972659 \r\nL 267.922727 33.972659 \r\nz\r\n\" style=\"fill:#1f77b4;\"/>\r\n   </g>\r\n   <g id=\"patch_44\">\r\n    <path clip-path=\"url(#p034ff9fdd5)\" d=\"M 272.995455 204.872727 \r\nL 278.068182 204.872727 \r\nL 278.068182 35.320983 \r\nL 272.995455 35.320983 \r\nz\r\n\" style=\"fill:#1f77b4;\"/>\r\n   </g>\r\n   <g id=\"patch_45\">\r\n    <path clip-path=\"url(#p034ff9fdd5)\" d=\"M 278.068182 204.872727 \r\nL 283.140909 204.872727 \r\nL 283.140909 37.68055 \r\nL 278.068182 37.68055 \r\nz\r\n\" style=\"fill:#1f77b4;\"/>\r\n   </g>\r\n   <g id=\"patch_46\">\r\n    <path clip-path=\"url(#p034ff9fdd5)\" d=\"M 283.140909 204.872727 \r\nL 288.213636 204.872727 \r\nL 288.213636 37.512009 \r\nL 283.140909 37.512009 \r\nz\r\n\" style=\"fill:#1f77b4;\"/>\r\n   </g>\r\n   <g id=\"patch_47\">\r\n    <path clip-path=\"url(#p034ff9fdd5)\" d=\"M 288.213636 204.872727 \r\nL 293.286364 204.872727 \r\nL 293.286364 37.174928 \r\nL 288.213636 37.174928 \r\nz\r\n\" style=\"fill:#1f77b4;\"/>\r\n   </g>\r\n   <g id=\"patch_48\">\r\n    <path clip-path=\"url(#p034ff9fdd5)\" d=\"M 293.286364 204.872727 \r\nL 298.359091 204.872727 \r\nL 298.359091 39.703036 \r\nL 293.286364 39.703036 \r\nz\r\n\" style=\"fill:#1f77b4;\"/>\r\n   </g>\r\n   <g id=\"patch_49\">\r\n    <path clip-path=\"url(#p034ff9fdd5)\" d=\"M 298.359091 204.872727 \r\nL 303.431818 204.872727 \r\nL 303.431818 46.613196 \r\nL 298.359091 46.613196 \r\nz\r\n\" style=\"fill:#1f77b4;\"/>\r\n   </g>\r\n   <g id=\"patch_50\">\r\n    <path clip-path=\"url(#p034ff9fdd5)\" d=\"M 303.431818 204.872727 \r\nL 308.504545 204.872727 \r\nL 308.504545 40.208657 \r\nL 303.431818 40.208657 \r\nz\r\n\" style=\"fill:#1f77b4;\"/>\r\n   </g>\r\n   <g id=\"patch_51\">\r\n    <path clip-path=\"url(#p034ff9fdd5)\" d=\"M 308.504545 204.872727 \r\nL 313.577273 204.872727 \r\nL 313.577273 26.725417 \r\nL 308.504545 26.725417 \r\nz\r\n\" style=\"fill:#1f77b4;\"/>\r\n   </g>\r\n   <g id=\"patch_52\">\r\n    <path clip-path=\"url(#p034ff9fdd5)\" d=\"M 313.577273 204.872727 \r\nL 318.65 204.872727 \r\nL 318.65 30.096227 \r\nL 313.577273 30.096227 \r\nz\r\n\" style=\"fill:#1f77b4;\"/>\r\n   </g>\r\n   <g id=\"patch_53\">\r\n    <path clip-path=\"url(#p034ff9fdd5)\" d=\"M 318.65 204.872727 \r\nL 323.722727 204.872727 \r\nL 323.722727 36.332226 \r\nL 318.65 36.332226 \r\nz\r\n\" style=\"fill:#1f77b4;\"/>\r\n   </g>\r\n   <g id=\"patch_54\">\r\n    <path clip-path=\"url(#p034ff9fdd5)\" d=\"M 323.722727 204.872727 \r\nL 328.795455 204.872727 \r\nL 328.795455 40.377198 \r\nL 323.722727 40.377198 \r\nz\r\n\" style=\"fill:#1f77b4;\"/>\r\n   </g>\r\n   <g id=\"patch_55\">\r\n    <path clip-path=\"url(#p034ff9fdd5)\" d=\"M 328.795455 204.872727 \r\nL 333.868182 204.872727 \r\nL 333.868182 34.815361 \r\nL 328.795455 34.815361 \r\nz\r\n\" style=\"fill:#1f77b4;\"/>\r\n   </g>\r\n   <g id=\"patch_56\">\r\n    <path clip-path=\"url(#p034ff9fdd5)\" d=\"M 333.868182 204.872727 \r\nL 338.940909 204.872727 \r\nL 338.940909 34.983902 \r\nL 333.868182 34.983902 \r\nz\r\n\" style=\"fill:#1f77b4;\"/>\r\n   </g>\r\n   <g id=\"patch_57\">\r\n    <path clip-path=\"url(#p034ff9fdd5)\" d=\"M 338.940909 204.872727 \r\nL 344.013636 204.872727 \r\nL 344.013636 47.624439 \r\nL 338.940909 47.624439 \r\nz\r\n\" style=\"fill:#1f77b4;\"/>\r\n   </g>\r\n   <g id=\"patch_58\">\r\n    <path clip-path=\"url(#p034ff9fdd5)\" d=\"M 344.013636 204.872727 \r\nL 349.086364 204.872727 \r\nL 349.086364 38.186171 \r\nL 344.013636 38.186171 \r\nz\r\n\" style=\"fill:#1f77b4;\"/>\r\n   </g>\r\n   <g id=\"patch_59\">\r\n    <path clip-path=\"url(#p034ff9fdd5)\" d=\"M 349.086364 204.872727 \r\nL 354.159091 204.872727 \r\nL 354.159091 22.680445 \r\nL 349.086364 22.680445 \r\nz\r\n\" style=\"fill:#1f77b4;\"/>\r\n   </g>\r\n   <g id=\"patch_60\">\r\n    <path clip-path=\"url(#p034ff9fdd5)\" d=\"M 354.159091 204.872727 \r\nL 359.231818 204.872727 \r\nL 359.231818 38.860333 \r\nL 354.159091 38.860333 \r\nz\r\n\" style=\"fill:#1f77b4;\"/>\r\n   </g>\r\n   <g id=\"patch_61\">\r\n    <path clip-path=\"url(#p034ff9fdd5)\" d=\"M 359.231818 204.872727 \r\nL 364.304545 204.872727 \r\nL 364.304545 32.455794 \r\nL 359.231818 32.455794 \r\nz\r\n\" style=\"fill:#1f77b4;\"/>\r\n   </g>\r\n   <g id=\"patch_62\">\r\n    <path clip-path=\"url(#p034ff9fdd5)\" d=\"M 364.304545 204.872727 \r\nL 369.377273 204.872727 \r\nL 369.377273 39.365955 \r\nL 364.304545 39.365955 \r\nz\r\n\" style=\"fill:#1f77b4;\"/>\r\n   </g>\r\n   <g id=\"patch_63\">\r\n    <path clip-path=\"url(#p034ff9fdd5)\" d=\"M 369.377273 204.872727 \r\nL 374.45 204.872727 \r\nL 374.45 35.658064 \r\nL 369.377273 35.658064 \r\nz\r\n\" style=\"fill:#1f77b4;\"/>\r\n   </g>\r\n   <g id=\"patch_64\">\r\n    <path clip-path=\"url(#p034ff9fdd5)\" d=\"M 374.45 204.872727 \r\nL 379.522727 204.872727 \r\nL 379.522727 39.534495 \r\nL 374.45 39.534495 \r\nz\r\n\" style=\"fill:#1f77b4;\"/>\r\n   </g>\r\n   <g id=\"patch_65\">\r\n    <path clip-path=\"url(#p034ff9fdd5)\" d=\"M 379.522727 204.872727 \r\nL 384.595455 204.872727 \r\nL 384.595455 33.972659 \r\nL 379.522727 33.972659 \r\nz\r\n\" style=\"fill:#1f77b4;\"/>\r\n   </g>\r\n   <g id=\"patch_66\">\r\n    <path clip-path=\"url(#p034ff9fdd5)\" d=\"M 384.595455 204.872727 \r\nL 389.668182 204.872727 \r\nL 389.668182 38.354712 \r\nL 384.595455 38.354712 \r\nz\r\n\" style=\"fill:#1f77b4;\"/>\r\n   </g>\r\n   <g id=\"patch_67\">\r\n    <path clip-path=\"url(#p034ff9fdd5)\" d=\"M 389.668182 204.872727 \r\nL 394.740909 204.872727 \r\nL 394.740909 37.174928 \r\nL 389.668182 37.174928 \r\nz\r\n\" style=\"fill:#1f77b4;\"/>\r\n   </g>\r\n   <g id=\"patch_68\">\r\n    <path clip-path=\"url(#p034ff9fdd5)\" d=\"M 394.740909 204.872727 \r\nL 399.813636 204.872727 \r\nL 399.813636 34.983902 \r\nL 394.740909 34.983902 \r\nz\r\n\" style=\"fill:#1f77b4;\"/>\r\n   </g>\r\n   <g id=\"patch_69\">\r\n    <path clip-path=\"url(#p034ff9fdd5)\" d=\"M 399.813636 204.872727 \r\nL 404.886364 204.872727 \r\nL 404.886364 38.017631 \r\nL 399.813636 38.017631 \r\nz\r\n\" style=\"fill:#1f77b4;\"/>\r\n   </g>\r\n   <g id=\"patch_70\">\r\n    <path clip-path=\"url(#p034ff9fdd5)\" d=\"M 404.886364 204.872727 \r\nL 409.959091 204.872727 \r\nL 409.959091 37.006388 \r\nL 404.886364 37.006388 \r\nz\r\n\" style=\"fill:#1f77b4;\"/>\r\n   </g>\r\n   <g id=\"patch_71\">\r\n    <path clip-path=\"url(#p034ff9fdd5)\" d=\"M 409.959091 204.872727 \r\nL 415.031818 204.872727 \r\nL 415.031818 26.051255 \r\nL 409.959091 26.051255 \r\nz\r\n\" style=\"fill:#1f77b4;\"/>\r\n   </g>\r\n   <g id=\"patch_72\">\r\n    <path clip-path=\"url(#p034ff9fdd5)\" d=\"M 415.031818 204.872727 \r\nL 420.104545 204.872727 \r\nL 420.104545 29.253525 \r\nL 415.031818 29.253525 \r\nz\r\n\" style=\"fill:#1f77b4;\"/>\r\n   </g>\r\n   <g id=\"patch_73\">\r\n    <path clip-path=\"url(#p034ff9fdd5)\" d=\"M 420.104545 204.872727 \r\nL 425.177273 204.872727 \r\nL 425.177273 42.568224 \r\nL 420.104545 42.568224 \r\nz\r\n\" style=\"fill:#1f77b4;\"/>\r\n   </g>\r\n   <g id=\"patch_74\">\r\n    <path clip-path=\"url(#p034ff9fdd5)\" d=\"M 425.177273 204.872727 \r\nL 430.25 204.872727 \r\nL 430.25 33.635578 \r\nL 425.177273 33.635578 \r\nz\r\n\" style=\"fill:#1f77b4;\"/>\r\n   </g>\r\n   <g id=\"patch_75\">\r\n    <path clip-path=\"url(#p034ff9fdd5)\" d=\"M 430.25 204.872727 \r\nL 435.322727 204.872727 \r\nL 435.322727 35.320983 \r\nL 430.25 35.320983 \r\nz\r\n\" style=\"fill:#1f77b4;\"/>\r\n   </g>\r\n   <g id=\"patch_76\">\r\n    <path clip-path=\"url(#p034ff9fdd5)\" d=\"M 435.322727 204.872727 \r\nL 440.395455 204.872727 \r\nL 440.395455 38.354712 \r\nL 435.322727 38.354712 \r\nz\r\n\" style=\"fill:#1f77b4;\"/>\r\n   </g>\r\n   <g id=\"patch_77\">\r\n    <path clip-path=\"url(#p034ff9fdd5)\" d=\"M 440.395455 204.872727 \r\nL 445.468182 204.872727 \r\nL 445.468182 34.646821 \r\nL 440.395455 34.646821 \r\nz\r\n\" style=\"fill:#1f77b4;\"/>\r\n   </g>\r\n   <g id=\"patch_78\">\r\n    <path clip-path=\"url(#p034ff9fdd5)\" d=\"M 445.468182 204.872727 \r\nL 450.540909 204.872727 \r\nL 450.540909 38.017631 \r\nL 445.468182 38.017631 \r\nz\r\n\" style=\"fill:#1f77b4;\"/>\r\n   </g>\r\n   <g id=\"patch_79\">\r\n    <path clip-path=\"url(#p034ff9fdd5)\" d=\"M 450.540909 204.872727 \r\nL 455.613636 204.872727 \r\nL 455.613636 32.118713 \r\nL 450.540909 32.118713 \r\nz\r\n\" style=\"fill:#1f77b4;\"/>\r\n   </g>\r\n   <g id=\"patch_80\">\r\n    <path clip-path=\"url(#p034ff9fdd5)\" d=\"M 455.613636 204.872727 \r\nL 460.686364 204.872727 \r\nL 460.686364 30.096227 \r\nL 455.613636 30.096227 \r\nz\r\n\" style=\"fill:#1f77b4;\"/>\r\n   </g>\r\n   <g id=\"patch_81\">\r\n    <path clip-path=\"url(#p034ff9fdd5)\" d=\"M 460.686364 204.872727 \r\nL 465.759091 204.872727 \r\nL 465.759091 36.163685 \r\nL 460.686364 36.163685 \r\nz\r\n\" style=\"fill:#1f77b4;\"/>\r\n   </g>\r\n   <g id=\"patch_82\">\r\n    <path clip-path=\"url(#p034ff9fdd5)\" d=\"M 465.759091 204.872727 \r\nL 470.831818 204.872727 \r\nL 470.831818 49.309844 \r\nL 465.759091 49.309844 \r\nz\r\n\" style=\"fill:#1f77b4;\"/>\r\n   </g>\r\n   <g id=\"patch_83\">\r\n    <path clip-path=\"url(#p034ff9fdd5)\" d=\"M 470.831818 204.872727 \r\nL 475.904545 204.872727 \r\nL 475.904545 36.332226 \r\nL 470.831818 36.332226 \r\nz\r\n\" style=\"fill:#1f77b4;\"/>\r\n   </g>\r\n   <g id=\"patch_84\">\r\n    <path clip-path=\"url(#p034ff9fdd5)\" d=\"M 475.904545 204.872727 \r\nL 480.977273 204.872727 \r\nL 480.977273 37.174928 \r\nL 475.904545 37.174928 \r\nz\r\n\" style=\"fill:#1f77b4;\"/>\r\n   </g>\r\n   <g id=\"patch_85\">\r\n    <path clip-path=\"url(#p034ff9fdd5)\" d=\"M 480.977273 204.872727 \r\nL 486.05 204.872727 \r\nL 486.05 44.927791 \r\nL 480.977273 44.927791 \r\nz\r\n\" style=\"fill:#1f77b4;\"/>\r\n   </g>\r\n   <g id=\"patch_86\">\r\n    <path clip-path=\"url(#p034ff9fdd5)\" d=\"M 486.05 204.872727 \r\nL 491.122727 204.872727 \r\nL 491.122727 26.725417 \r\nL 486.05 26.725417 \r\nz\r\n\" style=\"fill:#1f77b4;\"/>\r\n   </g>\r\n   <g id=\"patch_87\">\r\n    <path clip-path=\"url(#p034ff9fdd5)\" d=\"M 491.122727 204.872727 \r\nL 496.195455 204.872727 \r\nL 496.195455 39.197414 \r\nL 491.122727 39.197414 \r\nz\r\n\" style=\"fill:#1f77b4;\"/>\r\n   </g>\r\n   <g id=\"patch_88\">\r\n    <path clip-path=\"url(#p034ff9fdd5)\" d=\"M 496.195455 204.872727 \r\nL 501.268182 204.872727 \r\nL 501.268182 35.826604 \r\nL 496.195455 35.826604 \r\nz\r\n\" style=\"fill:#1f77b4;\"/>\r\n   </g>\r\n   <g id=\"patch_89\">\r\n    <path clip-path=\"url(#p034ff9fdd5)\" d=\"M 501.268182 204.872727 \r\nL 506.340909 204.872727 \r\nL 506.340909 38.017631 \r\nL 501.268182 38.017631 \r\nz\r\n\" style=\"fill:#1f77b4;\"/>\r\n   </g>\r\n   <g id=\"patch_90\">\r\n    <path clip-path=\"url(#p034ff9fdd5)\" d=\"M 506.340909 204.872727 \r\nL 511.413636 204.872727 \r\nL 511.413636 38.354712 \r\nL 506.340909 38.354712 \r\nz\r\n\" style=\"fill:#1f77b4;\"/>\r\n   </g>\r\n   <g id=\"patch_91\">\r\n    <path clip-path=\"url(#p034ff9fdd5)\" d=\"M 511.413636 204.872727 \r\nL 516.486364 204.872727 \r\nL 516.486364 33.467037 \r\nL 511.413636 33.467037 \r\nz\r\n\" style=\"fill:#1f77b4;\"/>\r\n   </g>\r\n   <g id=\"patch_92\">\r\n    <path clip-path=\"url(#p034ff9fdd5)\" d=\"M 516.486364 204.872727 \r\nL 521.559091 204.872727 \r\nL 521.559091 26.219796 \r\nL 516.486364 26.219796 \r\nz\r\n\" style=\"fill:#1f77b4;\"/>\r\n   </g>\r\n   <g id=\"patch_93\">\r\n    <path clip-path=\"url(#p034ff9fdd5)\" d=\"M 521.559091 204.872727 \r\nL 526.631818 204.872727 \r\nL 526.631818 34.983902 \r\nL 521.559091 34.983902 \r\nz\r\n\" style=\"fill:#1f77b4;\"/>\r\n   </g>\r\n   <g id=\"patch_94\">\r\n    <path clip-path=\"url(#p034ff9fdd5)\" d=\"M 526.631818 204.872727 \r\nL 531.704545 204.872727 \r\nL 531.704545 41.05136 \r\nL 526.631818 41.05136 \r\nz\r\n\" style=\"fill:#1f77b4;\"/>\r\n   </g>\r\n   <g id=\"patch_95\">\r\n    <path clip-path=\"url(#p034ff9fdd5)\" d=\"M 531.704545 204.872727 \r\nL 536.777273 204.872727 \r\nL 536.777273 38.691793 \r\nL 531.704545 38.691793 \r\nz\r\n\" style=\"fill:#1f77b4;\"/>\r\n   </g>\r\n   <g id=\"patch_96\">\r\n    <path clip-path=\"url(#p034ff9fdd5)\" d=\"M 536.777273 204.872727 \r\nL 541.85 204.872727 \r\nL 541.85 16.612987 \r\nL 536.777273 16.612987 \r\nz\r\n\" style=\"fill:#1f77b4;\"/>\r\n   </g>\r\n   <g id=\"patch_97\">\r\n    <path clip-path=\"url(#p034ff9fdd5)\" d=\"M 541.85 204.872727 \r\nL 546.922727 204.872727 \r\nL 546.922727 37.006388 \r\nL 541.85 37.006388 \r\nz\r\n\" style=\"fill:#1f77b4;\"/>\r\n   </g>\r\n   <g id=\"patch_98\">\r\n    <path clip-path=\"url(#p034ff9fdd5)\" d=\"M 546.922727 204.872727 \r\nL 551.995455 204.872727 \r\nL 551.995455 36.332226 \r\nL 546.922727 36.332226 \r\nz\r\n\" style=\"fill:#1f77b4;\"/>\r\n   </g>\r\n   <g id=\"patch_99\">\r\n    <path clip-path=\"url(#p034ff9fdd5)\" d=\"M 551.995455 204.872727 \r\nL 557.068182 204.872727 \r\nL 557.068182 40.208657 \r\nL 551.995455 40.208657 \r\nz\r\n\" style=\"fill:#1f77b4;\"/>\r\n   </g>\r\n   <g id=\"patch_100\">\r\n    <path clip-path=\"url(#p034ff9fdd5)\" d=\"M 557.068182 204.872727 \r\nL 562.140909 204.872727 \r\nL 562.140909 39.534495 \r\nL 557.068182 39.534495 \r\nz\r\n\" style=\"fill:#1f77b4;\"/>\r\n   </g>\r\n   <g id=\"patch_101\">\r\n    <path clip-path=\"url(#p034ff9fdd5)\" d=\"M 562.140909 204.872727 \r\nL 567.213636 204.872727 \r\nL 567.213636 26.219796 \r\nL 562.140909 26.219796 \r\nz\r\n\" style=\"fill:#1f77b4;\"/>\r\n   </g>\r\n   <g id=\"patch_102\">\r\n    <path clip-path=\"url(#p034ff9fdd5)\" d=\"M 567.213636 204.872727 \r\nL 572.286364 204.872727 \r\nL 572.286364 42.062603 \r\nL 567.213636 42.062603 \r\nz\r\n\" style=\"fill:#1f77b4;\"/>\r\n   </g>\r\n   <g id=\"matplotlib.axis_1\">\r\n    <g id=\"xtick_1\">\r\n     <g id=\"line2d_1\">\r\n      <defs>\r\n       <path d=\"M 0 0 \r\nL 0 3.5 \r\n\" id=\"ma3ad6bce8c\" style=\"stroke:#000000;stroke-width:0.8;\"/>\r\n      </defs>\r\n      <g>\r\n       <use style=\"stroke:#000000;stroke-width:0.8;\" x=\"65.011251\" xlink:href=\"#ma3ad6bce8c\" y=\"204.872727\"/>\r\n      </g>\r\n     </g>\r\n     <g id=\"text_1\">\r\n      <!-- 0.0 -->\r\n      <g transform=\"translate(57.059688 219.471165)scale(0.1 -0.1)\">\r\n       <defs>\r\n        <path d=\"M 31.78125 66.40625 \r\nQ 24.171875 66.40625 20.328125 58.90625 \r\nQ 16.5 51.421875 16.5 36.375 \r\nQ 16.5 21.390625 20.328125 13.890625 \r\nQ 24.171875 6.390625 31.78125 6.390625 \r\nQ 39.453125 6.390625 43.28125 13.890625 \r\nQ 47.125 21.390625 47.125 36.375 \r\nQ 47.125 51.421875 43.28125 58.90625 \r\nQ 39.453125 66.40625 31.78125 66.40625 \r\nz\r\nM 31.78125 74.21875 \r\nQ 44.046875 74.21875 50.515625 64.515625 \r\nQ 56.984375 54.828125 56.984375 36.375 \r\nQ 56.984375 17.96875 50.515625 8.265625 \r\nQ 44.046875 -1.421875 31.78125 -1.421875 \r\nQ 19.53125 -1.421875 13.0625 8.265625 \r\nQ 6.59375 17.96875 6.59375 36.375 \r\nQ 6.59375 54.828125 13.0625 64.515625 \r\nQ 19.53125 74.21875 31.78125 74.21875 \r\nz\r\n\" id=\"DejaVuSans-48\"/>\r\n        <path d=\"M 10.6875 12.40625 \r\nL 21 12.40625 \r\nL 21 0 \r\nL 10.6875 0 \r\nz\r\n\" id=\"DejaVuSans-46\"/>\r\n       </defs>\r\n       <use xlink:href=\"#DejaVuSans-48\"/>\r\n       <use x=\"63.623047\" xlink:href=\"#DejaVuSans-46\"/>\r\n       <use x=\"95.410156\" xlink:href=\"#DejaVuSans-48\"/>\r\n      </g>\r\n     </g>\r\n    </g>\r\n    <g id=\"xtick_2\">\r\n     <g id=\"line2d_2\">\r\n      <g>\r\n       <use style=\"stroke:#000000;stroke-width:0.8;\" x=\"166.46714\" xlink:href=\"#ma3ad6bce8c\" y=\"204.872727\"/>\r\n      </g>\r\n     </g>\r\n     <g id=\"text_2\">\r\n      <!-- 0.2 -->\r\n      <g transform=\"translate(158.515577 219.471165)scale(0.1 -0.1)\">\r\n       <defs>\r\n        <path d=\"M 19.1875 8.296875 \r\nL 53.609375 8.296875 \r\nL 53.609375 0 \r\nL 7.328125 0 \r\nL 7.328125 8.296875 \r\nQ 12.9375 14.109375 22.625 23.890625 \r\nQ 32.328125 33.6875 34.8125 36.53125 \r\nQ 39.546875 41.84375 41.421875 45.53125 \r\nQ 43.3125 49.21875 43.3125 52.78125 \r\nQ 43.3125 58.59375 39.234375 62.25 \r\nQ 35.15625 65.921875 28.609375 65.921875 \r\nQ 23.96875 65.921875 18.8125 64.3125 \r\nQ 13.671875 62.703125 7.8125 59.421875 \r\nL 7.8125 69.390625 \r\nQ 13.765625 71.78125 18.9375 73 \r\nQ 24.125 74.21875 28.421875 74.21875 \r\nQ 39.75 74.21875 46.484375 68.546875 \r\nQ 53.21875 62.890625 53.21875 53.421875 \r\nQ 53.21875 48.921875 51.53125 44.890625 \r\nQ 49.859375 40.875 45.40625 35.40625 \r\nQ 44.1875 33.984375 37.640625 27.21875 \r\nQ 31.109375 20.453125 19.1875 8.296875 \r\nz\r\n\" id=\"DejaVuSans-50\"/>\r\n       </defs>\r\n       <use xlink:href=\"#DejaVuSans-48\"/>\r\n       <use x=\"63.623047\" xlink:href=\"#DejaVuSans-46\"/>\r\n       <use x=\"95.410156\" xlink:href=\"#DejaVuSans-50\"/>\r\n      </g>\r\n     </g>\r\n    </g>\r\n    <g id=\"xtick_3\">\r\n     <g id=\"line2d_3\">\r\n      <g>\r\n       <use style=\"stroke:#000000;stroke-width:0.8;\" x=\"267.923029\" xlink:href=\"#ma3ad6bce8c\" y=\"204.872727\"/>\r\n      </g>\r\n     </g>\r\n     <g id=\"text_3\">\r\n      <!-- 0.4 -->\r\n      <g transform=\"translate(259.971466 219.471165)scale(0.1 -0.1)\">\r\n       <defs>\r\n        <path d=\"M 37.796875 64.3125 \r\nL 12.890625 25.390625 \r\nL 37.796875 25.390625 \r\nz\r\nM 35.203125 72.90625 \r\nL 47.609375 72.90625 \r\nL 47.609375 25.390625 \r\nL 58.015625 25.390625 \r\nL 58.015625 17.1875 \r\nL 47.609375 17.1875 \r\nL 47.609375 0 \r\nL 37.796875 0 \r\nL 37.796875 17.1875 \r\nL 4.890625 17.1875 \r\nL 4.890625 26.703125 \r\nz\r\n\" id=\"DejaVuSans-52\"/>\r\n       </defs>\r\n       <use xlink:href=\"#DejaVuSans-48\"/>\r\n       <use x=\"63.623047\" xlink:href=\"#DejaVuSans-46\"/>\r\n       <use x=\"95.410156\" xlink:href=\"#DejaVuSans-52\"/>\r\n      </g>\r\n     </g>\r\n    </g>\r\n    <g id=\"xtick_4\">\r\n     <g id=\"line2d_4\">\r\n      <g>\r\n       <use style=\"stroke:#000000;stroke-width:0.8;\" x=\"369.378918\" xlink:href=\"#ma3ad6bce8c\" y=\"204.872727\"/>\r\n      </g>\r\n     </g>\r\n     <g id=\"text_4\">\r\n      <!-- 0.6 -->\r\n      <g transform=\"translate(361.427356 219.471165)scale(0.1 -0.1)\">\r\n       <defs>\r\n        <path d=\"M 33.015625 40.375 \r\nQ 26.375 40.375 22.484375 35.828125 \r\nQ 18.609375 31.296875 18.609375 23.390625 \r\nQ 18.609375 15.53125 22.484375 10.953125 \r\nQ 26.375 6.390625 33.015625 6.390625 \r\nQ 39.65625 6.390625 43.53125 10.953125 \r\nQ 47.40625 15.53125 47.40625 23.390625 \r\nQ 47.40625 31.296875 43.53125 35.828125 \r\nQ 39.65625 40.375 33.015625 40.375 \r\nz\r\nM 52.59375 71.296875 \r\nL 52.59375 62.3125 \r\nQ 48.875 64.0625 45.09375 64.984375 \r\nQ 41.3125 65.921875 37.59375 65.921875 \r\nQ 27.828125 65.921875 22.671875 59.328125 \r\nQ 17.53125 52.734375 16.796875 39.40625 \r\nQ 19.671875 43.65625 24.015625 45.921875 \r\nQ 28.375 48.1875 33.59375 48.1875 \r\nQ 44.578125 48.1875 50.953125 41.515625 \r\nQ 57.328125 34.859375 57.328125 23.390625 \r\nQ 57.328125 12.15625 50.6875 5.359375 \r\nQ 44.046875 -1.421875 33.015625 -1.421875 \r\nQ 20.359375 -1.421875 13.671875 8.265625 \r\nQ 6.984375 17.96875 6.984375 36.375 \r\nQ 6.984375 53.65625 15.1875 63.9375 \r\nQ 23.390625 74.21875 37.203125 74.21875 \r\nQ 40.921875 74.21875 44.703125 73.484375 \r\nQ 48.484375 72.75 52.59375 71.296875 \r\nz\r\n\" id=\"DejaVuSans-54\"/>\r\n       </defs>\r\n       <use xlink:href=\"#DejaVuSans-48\"/>\r\n       <use x=\"63.623047\" xlink:href=\"#DejaVuSans-46\"/>\r\n       <use x=\"95.410156\" xlink:href=\"#DejaVuSans-54\"/>\r\n      </g>\r\n     </g>\r\n    </g>\r\n    <g id=\"xtick_5\">\r\n     <g id=\"line2d_5\">\r\n      <g>\r\n       <use style=\"stroke:#000000;stroke-width:0.8;\" x=\"470.834807\" xlink:href=\"#ma3ad6bce8c\" y=\"204.872727\"/>\r\n      </g>\r\n     </g>\r\n     <g id=\"text_5\">\r\n      <!-- 0.8 -->\r\n      <g transform=\"translate(462.883245 219.471165)scale(0.1 -0.1)\">\r\n       <defs>\r\n        <path d=\"M 31.78125 34.625 \r\nQ 24.75 34.625 20.71875 30.859375 \r\nQ 16.703125 27.09375 16.703125 20.515625 \r\nQ 16.703125 13.921875 20.71875 10.15625 \r\nQ 24.75 6.390625 31.78125 6.390625 \r\nQ 38.8125 6.390625 42.859375 10.171875 \r\nQ 46.921875 13.96875 46.921875 20.515625 \r\nQ 46.921875 27.09375 42.890625 30.859375 \r\nQ 38.875 34.625 31.78125 34.625 \r\nz\r\nM 21.921875 38.8125 \r\nQ 15.578125 40.375 12.03125 44.71875 \r\nQ 8.5 49.078125 8.5 55.328125 \r\nQ 8.5 64.0625 14.71875 69.140625 \r\nQ 20.953125 74.21875 31.78125 74.21875 \r\nQ 42.671875 74.21875 48.875 69.140625 \r\nQ 55.078125 64.0625 55.078125 55.328125 \r\nQ 55.078125 49.078125 51.53125 44.71875 \r\nQ 48 40.375 41.703125 38.8125 \r\nQ 48.828125 37.15625 52.796875 32.3125 \r\nQ 56.78125 27.484375 56.78125 20.515625 \r\nQ 56.78125 9.90625 50.3125 4.234375 \r\nQ 43.84375 -1.421875 31.78125 -1.421875 \r\nQ 19.734375 -1.421875 13.25 4.234375 \r\nQ 6.78125 9.90625 6.78125 20.515625 \r\nQ 6.78125 27.484375 10.78125 32.3125 \r\nQ 14.796875 37.15625 21.921875 38.8125 \r\nz\r\nM 18.3125 54.390625 \r\nQ 18.3125 48.734375 21.84375 45.5625 \r\nQ 25.390625 42.390625 31.78125 42.390625 \r\nQ 38.140625 42.390625 41.71875 45.5625 \r\nQ 45.3125 48.734375 45.3125 54.390625 \r\nQ 45.3125 60.0625 41.71875 63.234375 \r\nQ 38.140625 66.40625 31.78125 66.40625 \r\nQ 25.390625 66.40625 21.84375 63.234375 \r\nQ 18.3125 60.0625 18.3125 54.390625 \r\nz\r\n\" id=\"DejaVuSans-56\"/>\r\n       </defs>\r\n       <use xlink:href=\"#DejaVuSans-48\"/>\r\n       <use x=\"63.623047\" xlink:href=\"#DejaVuSans-46\"/>\r\n       <use x=\"95.410156\" xlink:href=\"#DejaVuSans-56\"/>\r\n      </g>\r\n     </g>\r\n    </g>\r\n    <g id=\"xtick_6\">\r\n     <g id=\"line2d_6\">\r\n      <g>\r\n       <use style=\"stroke:#000000;stroke-width:0.8;\" x=\"572.290696\" xlink:href=\"#ma3ad6bce8c\" y=\"204.872727\"/>\r\n      </g>\r\n     </g>\r\n     <g id=\"text_6\">\r\n      <!-- 1.0 -->\r\n      <g transform=\"translate(564.339134 219.471165)scale(0.1 -0.1)\">\r\n       <defs>\r\n        <path d=\"M 12.40625 8.296875 \r\nL 28.515625 8.296875 \r\nL 28.515625 63.921875 \r\nL 10.984375 60.40625 \r\nL 10.984375 69.390625 \r\nL 28.421875 72.90625 \r\nL 38.28125 72.90625 \r\nL 38.28125 8.296875 \r\nL 54.390625 8.296875 \r\nL 54.390625 0 \r\nL 12.40625 0 \r\nz\r\n\" id=\"DejaVuSans-49\"/>\r\n       </defs>\r\n       <use xlink:href=\"#DejaVuSans-49\"/>\r\n       <use x=\"63.623047\" xlink:href=\"#DejaVuSans-46\"/>\r\n       <use x=\"95.410156\" xlink:href=\"#DejaVuSans-48\"/>\r\n      </g>\r\n     </g>\r\n    </g>\r\n   </g>\r\n   <g id=\"matplotlib.axis_2\">\r\n    <g id=\"ytick_1\">\r\n     <g id=\"line2d_7\">\r\n      <defs>\r\n       <path d=\"M 0 0 \r\nL -3.5 0 \r\n\" id=\"m0d68cd7812\" style=\"stroke:#000000;stroke-width:0.8;\"/>\r\n      </defs>\r\n      <g>\r\n       <use style=\"stroke:#000000;stroke-width:0.8;\" x=\"39.65\" xlink:href=\"#m0d68cd7812\" y=\"204.872727\"/>\r\n      </g>\r\n     </g>\r\n     <g id=\"text_7\">\r\n      <!-- 0 -->\r\n      <g transform=\"translate(26.2875 208.671946)scale(0.1 -0.1)\">\r\n       <use xlink:href=\"#DejaVuSans-48\"/>\r\n      </g>\r\n     </g>\r\n    </g>\r\n    <g id=\"ytick_2\">\r\n     <g id=\"line2d_8\">\r\n      <g>\r\n       <use style=\"stroke:#000000;stroke-width:0.8;\" x=\"39.65\" xlink:href=\"#m0d68cd7812\" y=\"171.164627\"/>\r\n      </g>\r\n     </g>\r\n     <g id=\"text_8\">\r\n      <!-- 200 -->\r\n      <g transform=\"translate(13.5625 174.963846)scale(0.1 -0.1)\">\r\n       <use xlink:href=\"#DejaVuSans-50\"/>\r\n       <use x=\"63.623047\" xlink:href=\"#DejaVuSans-48\"/>\r\n       <use x=\"127.246094\" xlink:href=\"#DejaVuSans-48\"/>\r\n      </g>\r\n     </g>\r\n    </g>\r\n    <g id=\"ytick_3\">\r\n     <g id=\"line2d_9\">\r\n      <g>\r\n       <use style=\"stroke:#000000;stroke-width:0.8;\" x=\"39.65\" xlink:href=\"#m0d68cd7812\" y=\"137.456527\"/>\r\n      </g>\r\n     </g>\r\n     <g id=\"text_9\">\r\n      <!-- 400 -->\r\n      <g transform=\"translate(13.5625 141.255745)scale(0.1 -0.1)\">\r\n       <use xlink:href=\"#DejaVuSans-52\"/>\r\n       <use x=\"63.623047\" xlink:href=\"#DejaVuSans-48\"/>\r\n       <use x=\"127.246094\" xlink:href=\"#DejaVuSans-48\"/>\r\n      </g>\r\n     </g>\r\n    </g>\r\n    <g id=\"ytick_4\">\r\n     <g id=\"line2d_10\">\r\n      <g>\r\n       <use style=\"stroke:#000000;stroke-width:0.8;\" x=\"39.65\" xlink:href=\"#m0d68cd7812\" y=\"103.748426\"/>\r\n      </g>\r\n     </g>\r\n     <g id=\"text_10\">\r\n      <!-- 600 -->\r\n      <g transform=\"translate(13.5625 107.547645)scale(0.1 -0.1)\">\r\n       <use xlink:href=\"#DejaVuSans-54\"/>\r\n       <use x=\"63.623047\" xlink:href=\"#DejaVuSans-48\"/>\r\n       <use x=\"127.246094\" xlink:href=\"#DejaVuSans-48\"/>\r\n      </g>\r\n     </g>\r\n    </g>\r\n    <g id=\"ytick_5\">\r\n     <g id=\"line2d_11\">\r\n      <g>\r\n       <use style=\"stroke:#000000;stroke-width:0.8;\" x=\"39.65\" xlink:href=\"#m0d68cd7812\" y=\"70.040326\"/>\r\n      </g>\r\n     </g>\r\n     <g id=\"text_11\">\r\n      <!-- 800 -->\r\n      <g transform=\"translate(13.5625 73.839545)scale(0.1 -0.1)\">\r\n       <use xlink:href=\"#DejaVuSans-56\"/>\r\n       <use x=\"63.623047\" xlink:href=\"#DejaVuSans-48\"/>\r\n       <use x=\"127.246094\" xlink:href=\"#DejaVuSans-48\"/>\r\n      </g>\r\n     </g>\r\n    </g>\r\n    <g id=\"ytick_6\">\r\n     <g id=\"line2d_12\">\r\n      <g>\r\n       <use style=\"stroke:#000000;stroke-width:0.8;\" x=\"39.65\" xlink:href=\"#m0d68cd7812\" y=\"36.332226\"/>\r\n      </g>\r\n     </g>\r\n     <g id=\"text_12\">\r\n      <!-- 1000 -->\r\n      <g transform=\"translate(7.2 40.131444)scale(0.1 -0.1)\">\r\n       <use xlink:href=\"#DejaVuSans-49\"/>\r\n       <use x=\"63.623047\" xlink:href=\"#DejaVuSans-48\"/>\r\n       <use x=\"127.246094\" xlink:href=\"#DejaVuSans-48\"/>\r\n       <use x=\"190.869141\" xlink:href=\"#DejaVuSans-48\"/>\r\n      </g>\r\n     </g>\r\n    </g>\r\n   </g>\r\n   <g id=\"patch_103\">\r\n    <path d=\"M 39.65 204.872727 \r\nL 39.65 7.2 \r\n\" style=\"fill:none;stroke:#000000;stroke-linecap:square;stroke-linejoin:miter;stroke-width:0.8;\"/>\r\n   </g>\r\n   <g id=\"patch_104\">\r\n    <path d=\"M 597.65 204.872727 \r\nL 597.65 7.2 \r\n\" style=\"fill:none;stroke:#000000;stroke-linecap:square;stroke-linejoin:miter;stroke-width:0.8;\"/>\r\n   </g>\r\n   <g id=\"patch_105\">\r\n    <path d=\"M 39.65 204.872727 \r\nL 597.65 204.872727 \r\n\" style=\"fill:none;stroke:#000000;stroke-linecap:square;stroke-linejoin:miter;stroke-width:0.8;\"/>\r\n   </g>\r\n   <g id=\"patch_106\">\r\n    <path d=\"M 39.65 7.2 \r\nL 597.65 7.2 \r\n\" style=\"fill:none;stroke:#000000;stroke-linecap:square;stroke-linejoin:miter;stroke-width:0.8;\"/>\r\n   </g>\r\n  </g>\r\n  <g id=\"axes_2\">\r\n   <g id=\"patch_107\">\r\n    <path d=\"M 39.65 442.08 \r\nL 597.65 442.08 \r\nL 597.65 244.407273 \r\nL 39.65 244.407273 \r\nz\r\n\" style=\"fill:#ffffff;\"/>\r\n   </g>\r\n   <g id=\"patch_108\">\r\n    <path clip-path=\"url(#pac4fb50a12)\" d=\"M 65.013636 442.08 \r\nL 70.086364 442.08 \r\nL 70.086364 442.026304 \r\nL 65.013636 442.026304 \r\nz\r\n\" style=\"fill:#1f77b4;\"/>\r\n   </g>\r\n   <g id=\"patch_109\">\r\n    <path clip-path=\"url(#pac4fb50a12)\" d=\"M 70.086364 442.08 \r\nL 75.159091 442.08 \r\nL 75.159091 442.08 \r\nL 70.086364 442.08 \r\nz\r\n\" style=\"fill:#1f77b4;\"/>\r\n   </g>\r\n   <g id=\"patch_110\">\r\n    <path clip-path=\"url(#pac4fb50a12)\" d=\"M 75.159091 442.08 \r\nL 80.231818 442.08 \r\nL 80.231818 442.08 \r\nL 75.159091 442.08 \r\nz\r\n\" style=\"fill:#1f77b4;\"/>\r\n   </g>\r\n   <g id=\"patch_111\">\r\n    <path clip-path=\"url(#pac4fb50a12)\" d=\"M 80.231818 442.08 \r\nL 85.304545 442.08 \r\nL 85.304545 442.026304 \r\nL 80.231818 442.026304 \r\nz\r\n\" style=\"fill:#1f77b4;\"/>\r\n   </g>\r\n   <g id=\"patch_112\">\r\n    <path clip-path=\"url(#pac4fb50a12)\" d=\"M 85.304545 442.08 \r\nL 90.377273 442.08 \r\nL 90.377273 441.972607 \r\nL 85.304545 441.972607 \r\nz\r\n\" style=\"fill:#1f77b4;\"/>\r\n   </g>\r\n   <g id=\"patch_113\">\r\n    <path clip-path=\"url(#pac4fb50a12)\" d=\"M 90.377273 442.08 \r\nL 95.45 442.08 \r\nL 95.45 442.08 \r\nL 90.377273 442.08 \r\nz\r\n\" style=\"fill:#1f77b4;\"/>\r\n   </g>\r\n   <g id=\"patch_114\">\r\n    <path clip-path=\"url(#pac4fb50a12)\" d=\"M 95.45 442.08 \r\nL 100.522727 442.08 \r\nL 100.522727 442.026304 \r\nL 95.45 442.026304 \r\nz\r\n\" style=\"fill:#1f77b4;\"/>\r\n   </g>\r\n   <g id=\"patch_115\">\r\n    <path clip-path=\"url(#pac4fb50a12)\" d=\"M 100.522727 442.08 \r\nL 105.595455 442.08 \r\nL 105.595455 442.08 \r\nL 100.522727 442.08 \r\nz\r\n\" style=\"fill:#1f77b4;\"/>\r\n   </g>\r\n   <g id=\"patch_116\">\r\n    <path clip-path=\"url(#pac4fb50a12)\" d=\"M 105.595455 442.08 \r\nL 110.668182 442.08 \r\nL 110.668182 441.757821 \r\nL 105.595455 441.757821 \r\nz\r\n\" style=\"fill:#1f77b4;\"/>\r\n   </g>\r\n   <g id=\"patch_117\">\r\n    <path clip-path=\"url(#pac4fb50a12)\" d=\"M 110.668182 442.08 \r\nL 115.740909 442.08 \r\nL 115.740909 441.811518 \r\nL 110.668182 441.811518 \r\nz\r\n\" style=\"fill:#1f77b4;\"/>\r\n   </g>\r\n   <g id=\"patch_118\">\r\n    <path clip-path=\"url(#pac4fb50a12)\" d=\"M 115.740909 442.08 \r\nL 120.813636 442.08 \r\nL 120.813636 441.650428 \r\nL 115.740909 441.650428 \r\nz\r\n\" style=\"fill:#1f77b4;\"/>\r\n   </g>\r\n   <g id=\"patch_119\">\r\n    <path clip-path=\"url(#pac4fb50a12)\" d=\"M 120.813636 442.08 \r\nL 125.886364 442.08 \r\nL 125.886364 441.811518 \r\nL 120.813636 441.811518 \r\nz\r\n\" style=\"fill:#1f77b4;\"/>\r\n   </g>\r\n   <g id=\"patch_120\">\r\n    <path clip-path=\"url(#pac4fb50a12)\" d=\"M 125.886364 442.08 \r\nL 130.959091 442.08 \r\nL 130.959091 441.489339 \r\nL 125.886364 441.489339 \r\nz\r\n\" style=\"fill:#1f77b4;\"/>\r\n   </g>\r\n   <g id=\"patch_121\">\r\n    <path clip-path=\"url(#pac4fb50a12)\" d=\"M 130.959091 442.08 \r\nL 136.031818 442.08 \r\nL 136.031818 441.381946 \r\nL 130.959091 441.381946 \r\nz\r\n\" style=\"fill:#1f77b4;\"/>\r\n   </g>\r\n   <g id=\"patch_122\">\r\n    <path clip-path=\"url(#pac4fb50a12)\" d=\"M 136.031818 442.08 \r\nL 141.104545 442.08 \r\nL 141.104545 440.844982 \r\nL 136.031818 440.844982 \r\nz\r\n\" style=\"fill:#1f77b4;\"/>\r\n   </g>\r\n   <g id=\"patch_123\">\r\n    <path clip-path=\"url(#pac4fb50a12)\" d=\"M 141.104545 442.08 \r\nL 146.177273 442.08 \r\nL 146.177273 440.200624 \r\nL 141.104545 440.200624 \r\nz\r\n\" style=\"fill:#1f77b4;\"/>\r\n   </g>\r\n   <g id=\"patch_124\">\r\n    <path clip-path=\"url(#pac4fb50a12)\" d=\"M 146.177273 442.08 \r\nL 151.25 442.08 \r\nL 151.25 440.898678 \r\nL 146.177273 440.898678 \r\nz\r\n\" style=\"fill:#1f77b4;\"/>\r\n   </g>\r\n   <g id=\"patch_125\">\r\n    <path clip-path=\"url(#pac4fb50a12)\" d=\"M 151.25 442.08 \r\nL 156.322727 442.08 \r\nL 156.322727 439.717356 \r\nL 151.25 439.717356 \r\nz\r\n\" style=\"fill:#1f77b4;\"/>\r\n   </g>\r\n   <g id=\"patch_126\">\r\n    <path clip-path=\"url(#pac4fb50a12)\" d=\"M 156.322727 442.08 \r\nL 161.395455 442.08 \r\nL 161.395455 439.126695 \r\nL 156.322727 439.126695 \r\nz\r\n\" style=\"fill:#1f77b4;\"/>\r\n   </g>\r\n   <g id=\"patch_127\">\r\n    <path clip-path=\"url(#pac4fb50a12)\" d=\"M 161.395455 442.08 \r\nL 166.468182 442.08 \r\nL 166.468182 438.374945 \r\nL 161.395455 438.374945 \r\nz\r\n\" style=\"fill:#1f77b4;\"/>\r\n   </g>\r\n   <g id=\"patch_128\">\r\n    <path clip-path=\"url(#pac4fb50a12)\" d=\"M 166.468182 442.08 \r\nL 171.540909 442.08 \r\nL 171.540909 436.549266 \r\nL 166.468182 436.549266 \r\nz\r\n\" style=\"fill:#1f77b4;\"/>\r\n   </g>\r\n   <g id=\"patch_129\">\r\n    <path clip-path=\"url(#pac4fb50a12)\" d=\"M 171.540909 442.08 \r\nL 176.613636 442.08 \r\nL 176.613636 436.817748 \r\nL 171.540909 436.817748 \r\nz\r\n\" style=\"fill:#1f77b4;\"/>\r\n   </g>\r\n   <g id=\"patch_130\">\r\n    <path clip-path=\"url(#pac4fb50a12)\" d=\"M 176.613636 442.08 \r\nL 181.686364 442.08 \r\nL 181.686364 434.294015 \r\nL 176.613636 434.294015 \r\nz\r\n\" style=\"fill:#1f77b4;\"/>\r\n   </g>\r\n   <g id=\"patch_131\">\r\n    <path clip-path=\"url(#pac4fb50a12)\" d=\"M 181.686364 442.08 \r\nL 186.759091 442.08 \r\nL 186.759091 432.951604 \r\nL 181.686364 432.951604 \r\nz\r\n\" style=\"fill:#1f77b4;\"/>\r\n   </g>\r\n   <g id=\"patch_132\">\r\n    <path clip-path=\"url(#pac4fb50a12)\" d=\"M 186.759091 442.08 \r\nL 191.831818 442.08 \r\nL 191.831818 430.911139 \r\nL 186.759091 430.911139 \r\nz\r\n\" style=\"fill:#1f77b4;\"/>\r\n   </g>\r\n   <g id=\"patch_133\">\r\n    <path clip-path=\"url(#pac4fb50a12)\" d=\"M 191.831818 442.08 \r\nL 196.904545 442.08 \r\nL 196.904545 426.776513 \r\nL 191.831818 426.776513 \r\nz\r\n\" style=\"fill:#1f77b4;\"/>\r\n   </g>\r\n   <g id=\"patch_134\">\r\n    <path clip-path=\"url(#pac4fb50a12)\" d=\"M 196.904545 442.08 \r\nL 201.977273 442.08 \r\nL 201.977273 424.843441 \r\nL 196.904545 424.843441 \r\nz\r\n\" style=\"fill:#1f77b4;\"/>\r\n   </g>\r\n   <g id=\"patch_135\">\r\n    <path clip-path=\"url(#pac4fb50a12)\" d=\"M 201.977273 442.08 \r\nL 207.05 442.08 \r\nL 207.05 419.795975 \r\nL 201.977273 419.795975 \r\nz\r\n\" style=\"fill:#1f77b4;\"/>\r\n   </g>\r\n   <g id=\"patch_136\">\r\n    <path clip-path=\"url(#pac4fb50a12)\" d=\"M 207.05 442.08 \r\nL 212.122727 442.08 \r\nL 212.122727 418.829439 \r\nL 207.05 418.829439 \r\nz\r\n\" style=\"fill:#1f77b4;\"/>\r\n   </g>\r\n   <g id=\"patch_137\">\r\n    <path clip-path=\"url(#pac4fb50a12)\" d=\"M 212.122727 442.08 \r\nL 217.195455 442.08 \r\nL 217.195455 410.50649 \r\nL 212.122727 410.50649 \r\nz\r\n\" style=\"fill:#1f77b4;\"/>\r\n   </g>\r\n   <g id=\"patch_138\">\r\n    <path clip-path=\"url(#pac4fb50a12)\" d=\"M 217.195455 442.08 \r\nL 222.268182 442.08 \r\nL 222.268182 405.727506 \r\nL 217.195455 405.727506 \r\nz\r\n\" style=\"fill:#1f77b4;\"/>\r\n   </g>\r\n   <g id=\"patch_139\">\r\n    <path clip-path=\"url(#pac4fb50a12)\" d=\"M 222.268182 442.08 \r\nL 227.340909 442.08 \r\nL 227.340909 399.337629 \r\nL 222.268182 399.337629 \r\nz\r\n\" style=\"fill:#1f77b4;\"/>\r\n   </g>\r\n   <g id=\"patch_140\">\r\n    <path clip-path=\"url(#pac4fb50a12)\" d=\"M 227.340909 442.08 \r\nL 232.413636 442.08 \r\nL 232.413636 393.484716 \r\nL 227.340909 393.484716 \r\nz\r\n\" style=\"fill:#1f77b4;\"/>\r\n   </g>\r\n   <g id=\"patch_141\">\r\n    <path clip-path=\"url(#pac4fb50a12)\" d=\"M 232.413636 442.08 \r\nL 237.486364 442.08 \r\nL 237.486364 389.027911 \r\nL 232.413636 389.027911 \r\nz\r\n\" style=\"fill:#1f77b4;\"/>\r\n   </g>\r\n   <g id=\"patch_142\">\r\n    <path clip-path=\"url(#pac4fb50a12)\" d=\"M 237.486364 442.08 \r\nL 242.559091 442.08 \r\nL 242.559091 378.288622 \r\nL 237.486364 378.288622 \r\nz\r\n\" style=\"fill:#1f77b4;\"/>\r\n   </g>\r\n   <g id=\"patch_143\">\r\n    <path clip-path=\"url(#pac4fb50a12)\" d=\"M 242.559091 442.08 \r\nL 247.631818 442.08 \r\nL 247.631818 372.865281 \r\nL 242.559091 372.865281 \r\nz\r\n\" style=\"fill:#1f77b4;\"/>\r\n   </g>\r\n   <g id=\"patch_144\">\r\n    <path clip-path=\"url(#pac4fb50a12)\" d=\"M 247.631818 442.08 \r\nL 252.704545 442.08 \r\nL 252.704545 361.857509 \r\nL 247.631818 361.857509 \r\nz\r\n\" style=\"fill:#1f77b4;\"/>\r\n   </g>\r\n   <g id=\"patch_145\">\r\n    <path clip-path=\"url(#pac4fb50a12)\" d=\"M 252.704545 442.08 \r\nL 257.777273 442.08 \r\nL 257.777273 354.501096 \r\nL 252.704545 354.501096 \r\nz\r\n\" style=\"fill:#1f77b4;\"/>\r\n   </g>\r\n   <g id=\"patch_146\">\r\n    <path clip-path=\"url(#pac4fb50a12)\" d=\"M 257.777273 442.08 \r\nL 262.85 442.08 \r\nL 262.85 343.922896 \r\nL 257.777273 343.922896 \r\nz\r\n\" style=\"fill:#1f77b4;\"/>\r\n   </g>\r\n   <g id=\"patch_147\">\r\n    <path clip-path=\"url(#pac4fb50a12)\" d=\"M 262.85 442.08 \r\nL 267.922727 442.08 \r\nL 267.922727 335.975822 \r\nL 262.85 335.975822 \r\nz\r\n\" style=\"fill:#1f77b4;\"/>\r\n   </g>\r\n   <g id=\"patch_148\">\r\n    <path clip-path=\"url(#pac4fb50a12)\" d=\"M 267.922727 442.08 \r\nL 272.995455 442.08 \r\nL 272.995455 322.444318 \r\nL 267.922727 322.444318 \r\nz\r\n\" style=\"fill:#1f77b4;\"/>\r\n   </g>\r\n   <g id=\"patch_149\">\r\n    <path clip-path=\"url(#pac4fb50a12)\" d=\"M 272.995455 442.08 \r\nL 278.068182 442.08 \r\nL 278.068182 316.108137 \r\nL 272.995455 316.108137 \r\nz\r\n\" style=\"fill:#1f77b4;\"/>\r\n   </g>\r\n   <g id=\"patch_150\">\r\n    <path clip-path=\"url(#pac4fb50a12)\" d=\"M 278.068182 442.08 \r\nL 283.140909 442.08 \r\nL 283.140909 299.086364 \r\nL 278.068182 299.086364 \r\nz\r\n\" style=\"fill:#1f77b4;\"/>\r\n   </g>\r\n   <g id=\"patch_151\">\r\n    <path clip-path=\"url(#pac4fb50a12)\" d=\"M 283.140909 442.08 \r\nL 288.213636 442.08 \r\nL 288.213636 292.266915 \r\nL 283.140909 292.266915 \r\nz\r\n\" style=\"fill:#1f77b4;\"/>\r\n   </g>\r\n   <g id=\"patch_152\">\r\n    <path clip-path=\"url(#pac4fb50a12)\" d=\"M 288.213636 442.08 \r\nL 293.286364 442.08 \r\nL 293.286364 291.729951 \r\nL 288.213636 291.729951 \r\nz\r\n\" style=\"fill:#1f77b4;\"/>\r\n   </g>\r\n   <g id=\"patch_153\">\r\n    <path clip-path=\"url(#pac4fb50a12)\" d=\"M 293.286364 442.08 \r\nL 298.359091 442.08 \r\nL 298.359091 281.259144 \r\nL 293.286364 281.259144 \r\nz\r\n\" style=\"fill:#1f77b4;\"/>\r\n   </g>\r\n   <g id=\"patch_154\">\r\n    <path clip-path=\"url(#pac4fb50a12)\" d=\"M 298.359091 442.08 \r\nL 303.431818 442.08 \r\nL 303.431818 275.996892 \r\nL 298.359091 275.996892 \r\nz\r\n\" style=\"fill:#1f77b4;\"/>\r\n   </g>\r\n   <g id=\"patch_155\">\r\n    <path clip-path=\"url(#pac4fb50a12)\" d=\"M 303.431818 442.08 \r\nL 308.504545 442.08 \r\nL 308.504545 264.989121 \r\nL 303.431818 264.989121 \r\nz\r\n\" style=\"fill:#1f77b4;\"/>\r\n   </g>\r\n   <g id=\"patch_156\">\r\n    <path clip-path=\"url(#pac4fb50a12)\" d=\"M 308.504545 442.08 \r\nL 313.577273 442.08 \r\nL 313.577273 261.606244 \r\nL 308.504545 261.606244 \r\nz\r\n\" style=\"fill:#1f77b4;\"/>\r\n   </g>\r\n   <g id=\"patch_157\">\r\n    <path clip-path=\"url(#pac4fb50a12)\" d=\"M 313.577273 442.08 \r\nL 318.65 442.08 \r\nL 318.65 256.934654 \r\nL 313.577273 256.934654 \r\nz\r\n\" style=\"fill:#1f77b4;\"/>\r\n   </g>\r\n   <g id=\"patch_158\">\r\n    <path clip-path=\"url(#pac4fb50a12)\" d=\"M 318.65 442.08 \r\nL 323.722727 442.08 \r\nL 323.722727 253.82026 \r\nL 318.65 253.82026 \r\nz\r\n\" style=\"fill:#1f77b4;\"/>\r\n   </g>\r\n   <g id=\"patch_159\">\r\n    <path clip-path=\"url(#pac4fb50a12)\" d=\"M 323.722727 442.08 \r\nL 328.795455 442.08 \r\nL 328.795455 260.800798 \r\nL 323.722727 260.800798 \r\nz\r\n\" style=\"fill:#1f77b4;\"/>\r\n   </g>\r\n   <g id=\"patch_160\">\r\n    <path clip-path=\"url(#pac4fb50a12)\" d=\"M 328.795455 442.08 \r\nL 333.868182 442.08 \r\nL 333.868182 257.203136 \r\nL 328.795455 257.203136 \r\nz\r\n\" style=\"fill:#1f77b4;\"/>\r\n   </g>\r\n   <g id=\"patch_161\">\r\n    <path clip-path=\"url(#pac4fb50a12)\" d=\"M 333.868182 442.08 \r\nL 338.940909 442.08 \r\nL 338.940909 255.431153 \r\nL 333.868182 255.431153 \r\nz\r\n\" style=\"fill:#1f77b4;\"/>\r\n   </g>\r\n   <g id=\"patch_162\">\r\n    <path clip-path=\"url(#pac4fb50a12)\" d=\"M 338.940909 442.08 \r\nL 344.013636 442.08 \r\nL 344.013636 260.049047 \r\nL 338.940909 260.049047 \r\nz\r\n\" style=\"fill:#1f77b4;\"/>\r\n   </g>\r\n   <g id=\"patch_163\">\r\n    <path clip-path=\"url(#pac4fb50a12)\" d=\"M 344.013636 442.08 \r\nL 349.086364 442.08 \r\nL 349.086364 267.459157 \r\nL 344.013636 267.459157 \r\nz\r\n\" style=\"fill:#1f77b4;\"/>\r\n   </g>\r\n   <g id=\"patch_164\">\r\n    <path clip-path=\"url(#pac4fb50a12)\" d=\"M 349.086364 442.08 \r\nL 354.159091 442.08 \r\nL 354.159091 271.969659 \r\nL 349.086364 271.969659 \r\nz\r\n\" style=\"fill:#1f77b4;\"/>\r\n   </g>\r\n   <g id=\"patch_165\">\r\n    <path clip-path=\"url(#pac4fb50a12)\" d=\"M 354.159091 442.08 \r\nL 359.231818 442.08 \r\nL 359.231818 280.829572 \r\nL 354.159091 280.829572 \r\nz\r\n\" style=\"fill:#1f77b4;\"/>\r\n   </g>\r\n   <g id=\"patch_166\">\r\n    <path clip-path=\"url(#pac4fb50a12)\" d=\"M 359.231818 442.08 \r\nL 364.304545 442.08 \r\nL 364.304545 289.421004 \r\nL 359.231818 289.421004 \r\nz\r\n\" style=\"fill:#1f77b4;\"/>\r\n   </g>\r\n   <g id=\"patch_167\">\r\n    <path clip-path=\"url(#pac4fb50a12)\" d=\"M 364.304545 442.08 \r\nL 369.377273 442.08 \r\nL 369.377273 298.119828 \r\nL 364.304545 298.119828 \r\nz\r\n\" style=\"fill:#1f77b4;\"/>\r\n   </g>\r\n   <g id=\"patch_168\">\r\n    <path clip-path=\"url(#pac4fb50a12)\" d=\"M 369.377273 442.08 \r\nL 374.45 442.08 \r\nL 374.45 309.825653 \r\nL 369.377273 309.825653 \r\nz\r\n\" style=\"fill:#1f77b4;\"/>\r\n   </g>\r\n   <g id=\"patch_169\">\r\n    <path clip-path=\"url(#pac4fb50a12)\" d=\"M 374.45 442.08 \r\nL 379.522727 442.08 \r\nL 379.522727 317.235763 \r\nL 374.45 317.235763 \r\nz\r\n\" style=\"fill:#1f77b4;\"/>\r\n   </g>\r\n   <g id=\"patch_170\">\r\n    <path clip-path=\"url(#pac4fb50a12)\" d=\"M 379.522727 442.08 \r\nL 384.595455 442.08 \r\nL 384.595455 323.518247 \r\nL 379.522727 323.518247 \r\nz\r\n\" style=\"fill:#1f77b4;\"/>\r\n   </g>\r\n   <g id=\"patch_171\">\r\n    <path clip-path=\"url(#pac4fb50a12)\" d=\"M 384.595455 442.08 \r\nL 389.668182 442.08 \r\nL 389.668182 333.720572 \r\nL 384.595455 333.720572 \r\nz\r\n\" style=\"fill:#1f77b4;\"/>\r\n   </g>\r\n   <g id=\"patch_172\">\r\n    <path clip-path=\"url(#pac4fb50a12)\" d=\"M 389.668182 442.08 \r\nL 394.740909 442.08 \r\nL 394.740909 347.19838 \r\nL 389.668182 347.19838 \r\nz\r\n\" style=\"fill:#1f77b4;\"/>\r\n   </g>\r\n   <g id=\"patch_173\">\r\n    <path clip-path=\"url(#pac4fb50a12)\" d=\"M 394.740909 442.08 \r\nL 399.813636 442.08 \r\nL 399.813636 346.446629 \r\nL 394.740909 346.446629 \r\nz\r\n\" style=\"fill:#1f77b4;\"/>\r\n   </g>\r\n   <g id=\"patch_174\">\r\n    <path clip-path=\"url(#pac4fb50a12)\" d=\"M 399.813636 442.08 \r\nL 404.886364 442.08 \r\nL 404.886364 362.931438 \r\nL 399.813636 362.931438 \r\nz\r\n\" style=\"fill:#1f77b4;\"/>\r\n   </g>\r\n   <g id=\"patch_175\">\r\n    <path clip-path=\"url(#pac4fb50a12)\" d=\"M 404.886364 442.08 \r\nL 409.959091 442.08 \r\nL 409.959091 372.650495 \r\nL 404.886364 372.650495 \r\nz\r\n\" style=\"fill:#1f77b4;\"/>\r\n   </g>\r\n   <g id=\"patch_176\">\r\n    <path clip-path=\"url(#pac4fb50a12)\" d=\"M 409.959091 442.08 \r\nL 415.031818 442.08 \r\nL 415.031818 379.738426 \r\nL 409.959091 379.738426 \r\nz\r\n\" style=\"fill:#1f77b4;\"/>\r\n   </g>\r\n   <g id=\"patch_177\">\r\n    <path clip-path=\"url(#pac4fb50a12)\" d=\"M 415.031818 442.08 \r\nL 420.104545 442.08 \r\nL 420.104545 386.557875 \r\nL 415.031818 386.557875 \r\nz\r\n\" style=\"fill:#1f77b4;\"/>\r\n   </g>\r\n   <g id=\"patch_178\">\r\n    <path clip-path=\"url(#pac4fb50a12)\" d=\"M 420.104545 442.08 \r\nL 425.177273 442.08 \r\nL 425.177273 389.35009 \r\nL 420.104545 389.35009 \r\nz\r\n\" style=\"fill:#1f77b4;\"/>\r\n   </g>\r\n   <g id=\"patch_179\">\r\n    <path clip-path=\"url(#pac4fb50a12)\" d=\"M 425.177273 442.08 \r\nL 430.25 442.08 \r\nL 430.25 401.055915 \r\nL 425.177273 401.055915 \r\nz\r\n\" style=\"fill:#1f77b4;\"/>\r\n   </g>\r\n   <g id=\"patch_180\">\r\n    <path clip-path=\"url(#pac4fb50a12)\" d=\"M 430.25 442.08 \r\nL 435.322727 442.08 \r\nL 435.322727 408.627114 \r\nL 430.25 408.627114 \r\nz\r\n\" style=\"fill:#1f77b4;\"/>\r\n   </g>\r\n   <g id=\"patch_181\">\r\n    <path clip-path=\"url(#pac4fb50a12)\" d=\"M 435.322727 442.08 \r\nL 440.395455 442.08 \r\nL 440.395455 410.882365 \r\nL 435.322727 410.882365 \r\nz\r\n\" style=\"fill:#1f77b4;\"/>\r\n   </g>\r\n   <g id=\"patch_182\">\r\n    <path clip-path=\"url(#pac4fb50a12)\" d=\"M 440.395455 442.08 \r\nL 445.468182 442.08 \r\nL 445.468182 419.4201 \r\nL 440.395455 419.4201 \r\nz\r\n\" style=\"fill:#1f77b4;\"/>\r\n   </g>\r\n   <g id=\"patch_183\">\r\n    <path clip-path=\"url(#pac4fb50a12)\" d=\"M 445.468182 442.08 \r\nL 450.540909 442.08 \r\nL 450.540909 419.366403 \r\nL 445.468182 419.366403 \r\nz\r\n\" style=\"fill:#1f77b4;\"/>\r\n   </g>\r\n   <g id=\"patch_184\">\r\n    <path clip-path=\"url(#pac4fb50a12)\" d=\"M 450.540909 442.08 \r\nL 455.613636 442.08 \r\nL 455.613636 425.165619 \r\nL 450.540909 425.165619 \r\nz\r\n\" style=\"fill:#1f77b4;\"/>\r\n   </g>\r\n   <g id=\"patch_185\">\r\n    <path clip-path=\"url(#pac4fb50a12)\" d=\"M 455.613636 442.08 \r\nL 460.686364 442.08 \r\nL 460.686364 428.011531 \r\nL 455.613636 428.011531 \r\nz\r\n\" style=\"fill:#1f77b4;\"/>\r\n   </g>\r\n   <g id=\"patch_186\">\r\n    <path clip-path=\"url(#pac4fb50a12)\" d=\"M 460.686364 442.08 \r\nL 465.759091 442.08 \r\nL 465.759091 430.266782 \r\nL 460.686364 430.266782 \r\nz\r\n\" style=\"fill:#1f77b4;\"/>\r\n   </g>\r\n   <g id=\"patch_187\">\r\n    <path clip-path=\"url(#pac4fb50a12)\" d=\"M 465.759091 442.08 \r\nL 470.831818 442.08 \r\nL 470.831818 430.911139 \r\nL 465.759091 430.911139 \r\nz\r\n\" style=\"fill:#1f77b4;\"/>\r\n   </g>\r\n   <g id=\"patch_188\">\r\n    <path clip-path=\"url(#pac4fb50a12)\" d=\"M 470.831818 442.08 \r\nL 475.904545 442.08 \r\nL 475.904545 435.099462 \r\nL 470.831818 435.099462 \r\nz\r\n\" style=\"fill:#1f77b4;\"/>\r\n   </g>\r\n   <g id=\"patch_189\">\r\n    <path clip-path=\"url(#pac4fb50a12)\" d=\"M 475.904545 442.08 \r\nL 480.977273 442.08 \r\nL 480.977273 435.099462 \r\nL 475.904545 435.099462 \r\nz\r\n\" style=\"fill:#1f77b4;\"/>\r\n   </g>\r\n   <g id=\"patch_190\">\r\n    <path clip-path=\"url(#pac4fb50a12)\" d=\"M 480.977273 442.08 \r\nL 486.05 442.08 \r\nL 486.05 437.193623 \r\nL 480.977273 437.193623 \r\nz\r\n\" style=\"fill:#1f77b4;\"/>\r\n   </g>\r\n   <g id=\"patch_191\">\r\n    <path clip-path=\"url(#pac4fb50a12)\" d=\"M 486.05 442.08 \r\nL 491.122727 442.08 \r\nL 491.122727 437.032534 \r\nL 486.05 437.032534 \r\nz\r\n\" style=\"fill:#1f77b4;\"/>\r\n   </g>\r\n   <g id=\"patch_192\">\r\n    <path clip-path=\"url(#pac4fb50a12)\" d=\"M 491.122727 442.08 \r\nL 496.195455 442.08 \r\nL 496.195455 439.072999 \r\nL 491.122727 439.072999 \r\nz\r\n\" style=\"fill:#1f77b4;\"/>\r\n   </g>\r\n   <g id=\"patch_193\">\r\n    <path clip-path=\"url(#pac4fb50a12)\" d=\"M 496.195455 442.08 \r\nL 501.268182 442.08 \r\nL 501.268182 439.287785 \r\nL 496.195455 439.287785 \r\nz\r\n\" style=\"fill:#1f77b4;\"/>\r\n   </g>\r\n   <g id=\"patch_194\">\r\n    <path clip-path=\"url(#pac4fb50a12)\" d=\"M 501.268182 442.08 \r\nL 506.340909 442.08 \r\nL 506.340909 440.469107 \r\nL 501.268182 440.469107 \r\nz\r\n\" style=\"fill:#1f77b4;\"/>\r\n   </g>\r\n   <g id=\"patch_195\">\r\n    <path clip-path=\"url(#pac4fb50a12)\" d=\"M 506.340909 442.08 \r\nL 511.413636 442.08 \r\nL 511.413636 440.791285 \r\nL 506.340909 440.791285 \r\nz\r\n\" style=\"fill:#1f77b4;\"/>\r\n   </g>\r\n   <g id=\"patch_196\">\r\n    <path clip-path=\"url(#pac4fb50a12)\" d=\"M 511.413636 442.08 \r\nL 516.486364 442.08 \r\nL 516.486364 440.898678 \r\nL 511.413636 440.898678 \r\nz\r\n\" style=\"fill:#1f77b4;\"/>\r\n   </g>\r\n   <g id=\"patch_197\">\r\n    <path clip-path=\"url(#pac4fb50a12)\" d=\"M 516.486364 442.08 \r\nL 521.559091 442.08 \r\nL 521.559091 441.32825 \r\nL 516.486364 441.32825 \r\nz\r\n\" style=\"fill:#1f77b4;\"/>\r\n   </g>\r\n   <g id=\"patch_198\">\r\n    <path clip-path=\"url(#pac4fb50a12)\" d=\"M 521.559091 442.08 \r\nL 526.631818 442.08 \r\nL 526.631818 441.650428 \r\nL 521.559091 441.650428 \r\nz\r\n\" style=\"fill:#1f77b4;\"/>\r\n   </g>\r\n   <g id=\"patch_199\">\r\n    <path clip-path=\"url(#pac4fb50a12)\" d=\"M 526.631818 442.08 \r\nL 531.704545 442.08 \r\nL 531.704545 441.650428 \r\nL 526.631818 441.650428 \r\nz\r\n\" style=\"fill:#1f77b4;\"/>\r\n   </g>\r\n   <g id=\"patch_200\">\r\n    <path clip-path=\"url(#pac4fb50a12)\" d=\"M 531.704545 442.08 \r\nL 536.777273 442.08 \r\nL 536.777273 441.972607 \r\nL 531.704545 441.972607 \r\nz\r\n\" style=\"fill:#1f77b4;\"/>\r\n   </g>\r\n   <g id=\"patch_201\">\r\n    <path clip-path=\"url(#pac4fb50a12)\" d=\"M 536.777273 442.08 \r\nL 541.85 442.08 \r\nL 541.85 441.865214 \r\nL 536.777273 441.865214 \r\nz\r\n\" style=\"fill:#1f77b4;\"/>\r\n   </g>\r\n   <g id=\"patch_202\">\r\n    <path clip-path=\"url(#pac4fb50a12)\" d=\"M 541.85 442.08 \r\nL 546.922727 442.08 \r\nL 546.922727 441.865214 \r\nL 541.85 441.865214 \r\nz\r\n\" style=\"fill:#1f77b4;\"/>\r\n   </g>\r\n   <g id=\"patch_203\">\r\n    <path clip-path=\"url(#pac4fb50a12)\" d=\"M 546.922727 442.08 \r\nL 551.995455 442.08 \r\nL 551.995455 441.918911 \r\nL 546.922727 441.918911 \r\nz\r\n\" style=\"fill:#1f77b4;\"/>\r\n   </g>\r\n   <g id=\"patch_204\">\r\n    <path clip-path=\"url(#pac4fb50a12)\" d=\"M 551.995455 442.08 \r\nL 557.068182 442.08 \r\nL 557.068182 442.026304 \r\nL 551.995455 442.026304 \r\nz\r\n\" style=\"fill:#1f77b4;\"/>\r\n   </g>\r\n   <g id=\"patch_205\">\r\n    <path clip-path=\"url(#pac4fb50a12)\" d=\"M 557.068182 442.08 \r\nL 562.140909 442.08 \r\nL 562.140909 441.972607 \r\nL 557.068182 441.972607 \r\nz\r\n\" style=\"fill:#1f77b4;\"/>\r\n   </g>\r\n   <g id=\"patch_206\">\r\n    <path clip-path=\"url(#pac4fb50a12)\" d=\"M 562.140909 442.08 \r\nL 567.213636 442.08 \r\nL 567.213636 442.026304 \r\nL 562.140909 442.026304 \r\nz\r\n\" style=\"fill:#1f77b4;\"/>\r\n   </g>\r\n   <g id=\"patch_207\">\r\n    <path clip-path=\"url(#pac4fb50a12)\" d=\"M 567.213636 442.08 \r\nL 572.286364 442.08 \r\nL 572.286364 442.026304 \r\nL 567.213636 442.026304 \r\nz\r\n\" style=\"fill:#1f77b4;\"/>\r\n   </g>\r\n   <g id=\"matplotlib.axis_3\">\r\n    <g id=\"xtick_7\">\r\n     <g id=\"line2d_13\">\r\n      <g>\r\n       <use style=\"stroke:#000000;stroke-width:0.8;\" x=\"93.002538\" xlink:href=\"#ma3ad6bce8c\" y=\"442.08\"/>\r\n      </g>\r\n     </g>\r\n     <g id=\"text_13\">\r\n      <!-- −4 -->\r\n      <g transform=\"translate(85.631444 456.678437)scale(0.1 -0.1)\">\r\n       <defs>\r\n        <path d=\"M 10.59375 35.5 \r\nL 73.1875 35.5 \r\nL 73.1875 27.203125 \r\nL 10.59375 27.203125 \r\nz\r\n\" id=\"DejaVuSans-8722\"/>\r\n       </defs>\r\n       <use xlink:href=\"#DejaVuSans-8722\"/>\r\n       <use x=\"83.789062\" xlink:href=\"#DejaVuSans-52\"/>\r\n      </g>\r\n     </g>\r\n    </g>\r\n    <g id=\"xtick_8\">\r\n     <g id=\"line2d_14\">\r\n      <g>\r\n       <use style=\"stroke:#000000;stroke-width:0.8;\" x=\"209.547013\" xlink:href=\"#ma3ad6bce8c\" y=\"442.08\"/>\r\n      </g>\r\n     </g>\r\n     <g id=\"text_14\">\r\n      <!-- −2 -->\r\n      <g transform=\"translate(202.175919 456.678437)scale(0.1 -0.1)\">\r\n       <use xlink:href=\"#DejaVuSans-8722\"/>\r\n       <use x=\"83.789062\" xlink:href=\"#DejaVuSans-50\"/>\r\n      </g>\r\n     </g>\r\n    </g>\r\n    <g id=\"xtick_9\">\r\n     <g id=\"line2d_15\">\r\n      <g>\r\n       <use style=\"stroke:#000000;stroke-width:0.8;\" x=\"326.091488\" xlink:href=\"#ma3ad6bce8c\" y=\"442.08\"/>\r\n      </g>\r\n     </g>\r\n     <g id=\"text_15\">\r\n      <!-- 0 -->\r\n      <g transform=\"translate(322.910238 456.678437)scale(0.1 -0.1)\">\r\n       <use xlink:href=\"#DejaVuSans-48\"/>\r\n      </g>\r\n     </g>\r\n    </g>\r\n    <g id=\"xtick_10\">\r\n     <g id=\"line2d_16\">\r\n      <g>\r\n       <use style=\"stroke:#000000;stroke-width:0.8;\" x=\"442.635963\" xlink:href=\"#ma3ad6bce8c\" y=\"442.08\"/>\r\n      </g>\r\n     </g>\r\n     <g id=\"text_16\">\r\n      <!-- 2 -->\r\n      <g transform=\"translate(439.454713 456.678437)scale(0.1 -0.1)\">\r\n       <use xlink:href=\"#DejaVuSans-50\"/>\r\n      </g>\r\n     </g>\r\n    </g>\r\n    <g id=\"xtick_11\">\r\n     <g id=\"line2d_17\">\r\n      <g>\r\n       <use style=\"stroke:#000000;stroke-width:0.8;\" x=\"559.180439\" xlink:href=\"#ma3ad6bce8c\" y=\"442.08\"/>\r\n      </g>\r\n     </g>\r\n     <g id=\"text_17\">\r\n      <!-- 4 -->\r\n      <g transform=\"translate(555.999189 456.678437)scale(0.1 -0.1)\">\r\n       <use xlink:href=\"#DejaVuSans-52\"/>\r\n      </g>\r\n     </g>\r\n    </g>\r\n   </g>\r\n   <g id=\"matplotlib.axis_4\">\r\n    <g id=\"ytick_7\">\r\n     <g id=\"line2d_18\">\r\n      <g>\r\n       <use style=\"stroke:#000000;stroke-width:0.8;\" x=\"39.65\" xlink:href=\"#m0d68cd7812\" y=\"442.08\"/>\r\n      </g>\r\n     </g>\r\n     <g id=\"text_18\">\r\n      <!-- 0 -->\r\n      <g transform=\"translate(26.2875 445.879219)scale(0.1 -0.1)\">\r\n       <use xlink:href=\"#DejaVuSans-48\"/>\r\n      </g>\r\n     </g>\r\n    </g>\r\n    <g id=\"ytick_8\">\r\n     <g id=\"line2d_19\">\r\n      <g>\r\n       <use style=\"stroke:#000000;stroke-width:0.8;\" x=\"39.65\" xlink:href=\"#m0d68cd7812\" y=\"415.231777\"/>\r\n      </g>\r\n     </g>\r\n     <g id=\"text_19\">\r\n      <!-- 500 -->\r\n      <g transform=\"translate(13.5625 419.030996)scale(0.1 -0.1)\">\r\n       <defs>\r\n        <path d=\"M 10.796875 72.90625 \r\nL 49.515625 72.90625 \r\nL 49.515625 64.59375 \r\nL 19.828125 64.59375 \r\nL 19.828125 46.734375 \r\nQ 21.96875 47.46875 24.109375 47.828125 \r\nQ 26.265625 48.1875 28.421875 48.1875 \r\nQ 40.625 48.1875 47.75 41.5 \r\nQ 54.890625 34.8125 54.890625 23.390625 \r\nQ 54.890625 11.625 47.5625 5.09375 \r\nQ 40.234375 -1.421875 26.90625 -1.421875 \r\nQ 22.3125 -1.421875 17.546875 -0.640625 \r\nQ 12.796875 0.140625 7.71875 1.703125 \r\nL 7.71875 11.625 \r\nQ 12.109375 9.234375 16.796875 8.0625 \r\nQ 21.484375 6.890625 26.703125 6.890625 \r\nQ 35.15625 6.890625 40.078125 11.328125 \r\nQ 45.015625 15.765625 45.015625 23.390625 \r\nQ 45.015625 31 40.078125 35.4375 \r\nQ 35.15625 39.890625 26.703125 39.890625 \r\nQ 22.75 39.890625 18.8125 39.015625 \r\nQ 14.890625 38.140625 10.796875 36.28125 \r\nz\r\n\" id=\"DejaVuSans-53\"/>\r\n       </defs>\r\n       <use xlink:href=\"#DejaVuSans-53\"/>\r\n       <use x=\"63.623047\" xlink:href=\"#DejaVuSans-48\"/>\r\n       <use x=\"127.246094\" xlink:href=\"#DejaVuSans-48\"/>\r\n      </g>\r\n     </g>\r\n    </g>\r\n    <g id=\"ytick_9\">\r\n     <g id=\"line2d_20\">\r\n      <g>\r\n       <use style=\"stroke:#000000;stroke-width:0.8;\" x=\"39.65\" xlink:href=\"#m0d68cd7812\" y=\"388.383554\"/>\r\n      </g>\r\n     </g>\r\n     <g id=\"text_20\">\r\n      <!-- 1000 -->\r\n      <g transform=\"translate(7.2 392.182773)scale(0.1 -0.1)\">\r\n       <use xlink:href=\"#DejaVuSans-49\"/>\r\n       <use x=\"63.623047\" xlink:href=\"#DejaVuSans-48\"/>\r\n       <use x=\"127.246094\" xlink:href=\"#DejaVuSans-48\"/>\r\n       <use x=\"190.869141\" xlink:href=\"#DejaVuSans-48\"/>\r\n      </g>\r\n     </g>\r\n    </g>\r\n    <g id=\"ytick_10\">\r\n     <g id=\"line2d_21\">\r\n      <g>\r\n       <use style=\"stroke:#000000;stroke-width:0.8;\" x=\"39.65\" xlink:href=\"#m0d68cd7812\" y=\"361.535331\"/>\r\n      </g>\r\n     </g>\r\n     <g id=\"text_21\">\r\n      <!-- 1500 -->\r\n      <g transform=\"translate(7.2 365.33455)scale(0.1 -0.1)\">\r\n       <use xlink:href=\"#DejaVuSans-49\"/>\r\n       <use x=\"63.623047\" xlink:href=\"#DejaVuSans-53\"/>\r\n       <use x=\"127.246094\" xlink:href=\"#DejaVuSans-48\"/>\r\n       <use x=\"190.869141\" xlink:href=\"#DejaVuSans-48\"/>\r\n      </g>\r\n     </g>\r\n    </g>\r\n    <g id=\"ytick_11\">\r\n     <g id=\"line2d_22\">\r\n      <g>\r\n       <use style=\"stroke:#000000;stroke-width:0.8;\" x=\"39.65\" xlink:href=\"#m0d68cd7812\" y=\"334.687108\"/>\r\n      </g>\r\n     </g>\r\n     <g id=\"text_22\">\r\n      <!-- 2000 -->\r\n      <g transform=\"translate(7.2 338.486326)scale(0.1 -0.1)\">\r\n       <use xlink:href=\"#DejaVuSans-50\"/>\r\n       <use x=\"63.623047\" xlink:href=\"#DejaVuSans-48\"/>\r\n       <use x=\"127.246094\" xlink:href=\"#DejaVuSans-48\"/>\r\n       <use x=\"190.869141\" xlink:href=\"#DejaVuSans-48\"/>\r\n      </g>\r\n     </g>\r\n    </g>\r\n    <g id=\"ytick_12\">\r\n     <g id=\"line2d_23\">\r\n      <g>\r\n       <use style=\"stroke:#000000;stroke-width:0.8;\" x=\"39.65\" xlink:href=\"#m0d68cd7812\" y=\"307.838885\"/>\r\n      </g>\r\n     </g>\r\n     <g id=\"text_23\">\r\n      <!-- 2500 -->\r\n      <g transform=\"translate(7.2 311.638103)scale(0.1 -0.1)\">\r\n       <use xlink:href=\"#DejaVuSans-50\"/>\r\n       <use x=\"63.623047\" xlink:href=\"#DejaVuSans-53\"/>\r\n       <use x=\"127.246094\" xlink:href=\"#DejaVuSans-48\"/>\r\n       <use x=\"190.869141\" xlink:href=\"#DejaVuSans-48\"/>\r\n      </g>\r\n     </g>\r\n    </g>\r\n    <g id=\"ytick_13\">\r\n     <g id=\"line2d_24\">\r\n      <g>\r\n       <use style=\"stroke:#000000;stroke-width:0.8;\" x=\"39.65\" xlink:href=\"#m0d68cd7812\" y=\"280.990662\"/>\r\n      </g>\r\n     </g>\r\n     <g id=\"text_24\">\r\n      <!-- 3000 -->\r\n      <g transform=\"translate(7.2 284.78988)scale(0.1 -0.1)\">\r\n       <defs>\r\n        <path d=\"M 40.578125 39.3125 \r\nQ 47.65625 37.796875 51.625 33 \r\nQ 55.609375 28.21875 55.609375 21.1875 \r\nQ 55.609375 10.40625 48.1875 4.484375 \r\nQ 40.765625 -1.421875 27.09375 -1.421875 \r\nQ 22.515625 -1.421875 17.65625 -0.515625 \r\nQ 12.796875 0.390625 7.625 2.203125 \r\nL 7.625 11.71875 \r\nQ 11.71875 9.328125 16.59375 8.109375 \r\nQ 21.484375 6.890625 26.8125 6.890625 \r\nQ 36.078125 6.890625 40.9375 10.546875 \r\nQ 45.796875 14.203125 45.796875 21.1875 \r\nQ 45.796875 27.640625 41.28125 31.265625 \r\nQ 36.765625 34.90625 28.71875 34.90625 \r\nL 20.21875 34.90625 \r\nL 20.21875 43.015625 \r\nL 29.109375 43.015625 \r\nQ 36.375 43.015625 40.234375 45.921875 \r\nQ 44.09375 48.828125 44.09375 54.296875 \r\nQ 44.09375 59.90625 40.109375 62.90625 \r\nQ 36.140625 65.921875 28.71875 65.921875 \r\nQ 24.65625 65.921875 20.015625 65.03125 \r\nQ 15.375 64.15625 9.8125 62.3125 \r\nL 9.8125 71.09375 \r\nQ 15.4375 72.65625 20.34375 73.4375 \r\nQ 25.25 74.21875 29.59375 74.21875 \r\nQ 40.828125 74.21875 47.359375 69.109375 \r\nQ 53.90625 64.015625 53.90625 55.328125 \r\nQ 53.90625 49.265625 50.4375 45.09375 \r\nQ 46.96875 40.921875 40.578125 39.3125 \r\nz\r\n\" id=\"DejaVuSans-51\"/>\r\n       </defs>\r\n       <use xlink:href=\"#DejaVuSans-51\"/>\r\n       <use x=\"63.623047\" xlink:href=\"#DejaVuSans-48\"/>\r\n       <use x=\"127.246094\" xlink:href=\"#DejaVuSans-48\"/>\r\n       <use x=\"190.869141\" xlink:href=\"#DejaVuSans-48\"/>\r\n      </g>\r\n     </g>\r\n    </g>\r\n    <g id=\"ytick_14\">\r\n     <g id=\"line2d_25\">\r\n      <g>\r\n       <use style=\"stroke:#000000;stroke-width:0.8;\" x=\"39.65\" xlink:href=\"#m0d68cd7812\" y=\"254.142438\"/>\r\n      </g>\r\n     </g>\r\n     <g id=\"text_25\">\r\n      <!-- 3500 -->\r\n      <g transform=\"translate(7.2 257.941657)scale(0.1 -0.1)\">\r\n       <use xlink:href=\"#DejaVuSans-51\"/>\r\n       <use x=\"63.623047\" xlink:href=\"#DejaVuSans-53\"/>\r\n       <use x=\"127.246094\" xlink:href=\"#DejaVuSans-48\"/>\r\n       <use x=\"190.869141\" xlink:href=\"#DejaVuSans-48\"/>\r\n      </g>\r\n     </g>\r\n    </g>\r\n   </g>\r\n   <g id=\"patch_208\">\r\n    <path d=\"M 39.65 442.08 \r\nL 39.65 244.407273 \r\n\" style=\"fill:none;stroke:#000000;stroke-linecap:square;stroke-linejoin:miter;stroke-width:0.8;\"/>\r\n   </g>\r\n   <g id=\"patch_209\">\r\n    <path d=\"M 597.65 442.08 \r\nL 597.65 244.407273 \r\n\" style=\"fill:none;stroke:#000000;stroke-linecap:square;stroke-linejoin:miter;stroke-width:0.8;\"/>\r\n   </g>\r\n   <g id=\"patch_210\">\r\n    <path d=\"M 39.65 442.08 \r\nL 597.65 442.08 \r\n\" style=\"fill:none;stroke:#000000;stroke-linecap:square;stroke-linejoin:miter;stroke-width:0.8;\"/>\r\n   </g>\r\n   <g id=\"patch_211\">\r\n    <path d=\"M 39.65 244.407273 \r\nL 597.65 244.407273 \r\n\" style=\"fill:none;stroke:#000000;stroke-linecap:square;stroke-linejoin:miter;stroke-width:0.8;\"/>\r\n   </g>\r\n  </g>\r\n </g>\r\n <defs>\r\n  <clipPath id=\"p034ff9fdd5\">\r\n   <rect height=\"197.672727\" width=\"558\" x=\"39.65\" y=\"7.2\"/>\r\n  </clipPath>\r\n  <clipPath id=\"pac4fb50a12\">\r\n   <rect height=\"197.672727\" width=\"558\" x=\"39.65\" y=\"244.407273\"/>\r\n  </clipPath>\r\n </defs>\r\n</svg>\r\n",
      "image/png": "[encoded data removed]"
     },
     "metadata": {
      "needs_background": "light"
     }
    }
   ],
   "source": [
    "import matplotlib.pyplot as plt\n",
    "%matplotlib inline\n",
    "\n",
    "fig = plt.figure(figsize = (10, 8))\n",
    "ax  = fig.add_subplot(2, 1, 1)\n",
    "ax.hist(np.random.rand(100000), bins = 100)\n",
    "ax  = fig.add_subplot(2, 1, 2)\n",
    "ax.hist(np.random.randn(100000), bins = 100)\n",
    "plt.show()"
   ]
  },
  {
   "cell_type": "code",
   "execution_count": 38,
   "metadata": {},
   "outputs": [
    {
     "output_type": "execute_result",
     "data": {
      "text/plain": [
       "array([[3, 2],\n",
       "       [3, 2],\n",
       "       [3, 2]])"
      ]
     },
     "metadata": {},
     "execution_count": 38
    }
   ],
   "source": [
    "np.full((3, 2), [3, 2])"
   ]
  },
  {
   "source": [
    "# すべｔ同じ要素の時にもfullを使う\n",
    "# np.ones(N) * aなどよりも早い\n",
    "np.full((10,), 5)"
   ],
   "cell_type": "code",
   "metadata": {},
   "execution_count": 39,
   "outputs": [
    {
     "output_type": "execute_result",
     "data": {
      "text/plain": [
       "array([5, 5, 5, 5, 5, 5, 5, 5, 5, 5])"
      ]
     },
     "metadata": {},
     "execution_count": 39
    }
   ]
  },
  {
   "source": [
    "# 領域だけ確保の場合にもnp.zero等を使うより関数を使う. \n",
    "np.empty((3, 2))"
   ],
   "cell_type": "code",
   "metadata": {},
   "execution_count": 41,
   "outputs": [
    {
     "output_type": "execute_result",
     "data": {
      "text/plain": [
       "array([[17.2, 17.2],\n",
       "       [17.2, 17.2],\n",
       "       [17.2, 24.2]])"
      ]
     },
     "metadata": {},
     "execution_count": 41
    }
   ]
  },
  {
   "source": [
    "## データ型\n"
   ],
   "cell_type": "markdown",
   "metadata": {}
  },
  {
   "cell_type": "code",
   "execution_count": 57,
   "metadata": {},
   "outputs": [
    {
     "output_type": "stream",
     "name": "stdout",
     "text": [
      "<class 'numpy.uint8'> 1.0\n<class 'numpy.int32'> 4.0\n<class 'numpy.float64'> 8.0\n<class 'object'> 8.0\n>U10 40.0\n<class 'bool'> 1.0\n"
     ]
    }
   ],
   "source": [
    "# データ型ごとのバイト数を確認\n",
    "dtypes = [np.uint8, np.int32, np.float64, np.object, np.dtype(\"U10\"), np.bool]\n",
    "for dt in dtypes:\n",
    "    x = np.ones(3, dtype = dt).tostring()\n",
    "    print(dt, len(x) / 3)"
   ]
  },
  {
   "source": [
    "## ブーリアンマスク\n",
    "\n",
    "NumPyの配列のスライスは，インデックスだけでなく，ブール型でも可能である. \n"
   ],
   "cell_type": "markdown",
   "metadata": {}
  },
  {
   "cell_type": "code",
   "execution_count": 59,
   "metadata": {},
   "outputs": [
    {
     "output_type": "execute_result",
     "data": {
      "text/plain": [
       "array([10,  1, 12,  3, 14])"
      ]
     },
     "metadata": {},
     "execution_count": 59
    }
   ],
   "source": [
    "x = np.arange(5)\n",
    "is_even = x % 2 == 0\n",
    "x[is_even] += 10\n",
    "x"
   ]
  },
  {
   "source": [
    "## キャスト\n",
    "\n",
    "**astype**メソッドを使う. \n"
   ],
   "cell_type": "markdown",
   "metadata": {}
  },
  {
   "cell_type": "code",
   "execution_count": 60,
   "metadata": {},
   "outputs": [
    {
     "output_type": "execute_result",
     "data": {
      "text/plain": [
       "array([0, 1, 2, 3, 4, 5, 6, 7, 8, 9], dtype=uint8)"
      ]
     },
     "metadata": {},
     "execution_count": 60
    }
   ],
   "source": [
    "a = np.arange(10, dtype = np.int32)\n",
    "a.astype(np.uint8)"
   ]
  },
  {
   "cell_type": "code",
   "execution_count": 61,
   "metadata": {},
   "outputs": [
    {
     "output_type": "execute_result",
     "data": {
      "text/plain": [
       "array(['0', '1', '2', '3', '4', '5', '6', '7', '8', '9'], dtype='<U10')"
      ]
     },
     "metadata": {},
     "execution_count": 61
    }
   ],
   "source": [
    "a.astype(np.dtype(\"U10\"))"
   ]
  },
  {
   "cell_type": "code",
   "execution_count": 62,
   "metadata": {},
   "outputs": [
    {
     "output_type": "execute_result",
     "data": {
      "text/plain": [
       "array([10])"
      ]
     },
     "metadata": {},
     "execution_count": 62
    }
   ],
   "source": [
    "np.array([\"10\"]).astype(np.int32)"
   ]
  },
  {
   "source": [
    "## 演習問題\n",
    "\n",
    "### question 01"
   ],
   "cell_type": "markdown",
   "metadata": {}
  },
  {
   "source": [
    "\n",
    "import numpy as np\n",
    "\n",
    "np.ones((3,))"
   ],
   "cell_type": "code",
   "metadata": {},
   "execution_count": 65,
   "outputs": [
    {
     "output_type": "execute_result",
     "data": {
      "text/plain": [
       "array([1., 1., 1.])"
      ]
     },
     "metadata": {},
     "execution_count": 65
    }
   ]
  },
  {
   "cell_type": "code",
   "execution_count": 66,
   "metadata": {},
   "outputs": [
    {
     "output_type": "execute_result",
     "data": {
      "text/plain": [
       "array([0., 0., 0., 0., 0., 0., 0.])"
      ]
     },
     "metadata": {},
     "execution_count": 66
    }
   ],
   "source": [
    "np.zeros((7,))"
   ]
  },
  {
   "source": [
    "### question 02"
   ],
   "cell_type": "markdown",
   "metadata": {}
  },
  {
   "cell_type": "code",
   "execution_count": 70,
   "metadata": {},
   "outputs": [
    {
     "output_type": "stream",
     "name": "stdout",
     "text": [
      "[1 1 1] int32\n"
     ]
    }
   ],
   "source": [
    "a = np.ones((3, ), dtype = np.int32)\n",
    "print(a, a.dtype)"
   ]
  },
  {
   "source": [
    "### question 03\n"
   ],
   "cell_type": "markdown",
   "metadata": {}
  },
  {
   "cell_type": "code",
   "execution_count": 71,
   "metadata": {},
   "outputs": [
    {
     "output_type": "execute_result",
     "data": {
      "text/plain": [
       "array([0, 0, 1, 0, 0])"
      ]
     },
     "metadata": {},
     "execution_count": 71
    }
   ],
   "source": [
    "x = np.zeros(5, dtype = np.int32)\n",
    "x[len(x) // 2] += 1\n",
    "x"
   ]
  },
  {
   "source": [
    "### question 04"
   ],
   "cell_type": "markdown",
   "metadata": {}
  },
  {
   "cell_type": "code",
   "execution_count": 82,
   "metadata": {},
   "outputs": [
    {
     "output_type": "execute_result",
     "data": {
      "text/plain": [
       "array([0, 1, 0, 1, 0, 1, 0, 1, 0, 1])"
      ]
     },
     "metadata": {},
     "execution_count": 82
    }
   ],
   "source": [
    "x = np.empty(10, dtype = np.int32)\n",
    "is_even = np.arange(len(x)) % 2 == 0\n",
    "x[is_even] = 0\n",
    "x[np.logical_not(is_even)] = 1\n",
    "x"
   ]
  },
  {
   "source": [
    "### question 06"
   ],
   "cell_type": "markdown",
   "metadata": {}
  },
  {
   "cell_type": "code",
   "execution_count": 85,
   "metadata": {},
   "outputs": [
    {
     "output_type": "execute_result",
     "data": {
      "text/plain": [
       "array([1, 2, 'fizz', 4, 'buzz', 'fizz', 7, 8, 'fizz', 'buzz', 11, 'fizz',\n",
       "       13, 14, 'fizz_buzz', 16, 17, 'fizz', 19, 'buzz', 'fizz', 22, 23,\n",
       "       'fizz', 'buzz', 26, 'fizz', 28, 29, 'fizz_buzz', 31, 32, 'fizz',\n",
       "       34, 'buzz', 'fizz', 37, 38, 'fizz', 'buzz', 41, 'fizz', 43, 44,\n",
       "       'fizz_buzz', 46, 47, 'fizz', 49, 'buzz', 'fizz', 52, 53, 'fizz',\n",
       "       'buzz', 56, 'fizz', 58, 59, 'fizz_buzz', 61, 62, 'fizz', 64,\n",
       "       'buzz', 'fizz', 67, 68, 'fizz', 'buzz', 71, 'fizz', 73, 74,\n",
       "       'fizz_buzz', 76, 77, 'fizz', 79, 'buzz', 'fizz', 82, 83, 'fizz',\n",
       "       'buzz', 86, 'fizz', 88, 89, 'fizz_buzz', 91, 92, 'fizz', 94,\n",
       "       'buzz', 'fizz', 97, 98, 'fizz', 'buzz'], dtype=object)"
      ]
     },
     "metadata": {},
     "execution_count": 85
    }
   ],
   "source": [
    "N   = 100\n",
    "ret = np.arange(1, N + 1, dtype = np.object)\n",
    "is_fizz = ret % 3 == 0\n",
    "is_buzz = ret % 5 == 0\n",
    "is_fizz_buzz = np.logical_and(is_fizz, is_buzz)\n",
    "for v, l in zip([\"fizz\", \"buzz\", \"fizz_buzz\"], [is_fizz, is_buzz, is_fizz_buzz]):\n",
    "    ret[l] = v\n",
    "ret"
   ]
  },
  {
   "source": [
    "### question 07"
   ],
   "cell_type": "markdown",
   "metadata": {}
  },
  {
   "cell_type": "code",
   "execution_count": 102,
   "metadata": {},
   "outputs": [
    {
     "output_type": "execute_result",
     "data": {
      "text/plain": [
       "array([1, 2, 'fizz', 4, 'buzz', 'fizz', 7, 8, 'fizz', 'buzz', 11, 'fizz',\n",
       "       13, 14, 'fizzbuzz', 16, 17, 'fizz', 19, 'buzz', 'fizz', 22, 23,\n",
       "       'fizz', 'buzz', 26, 'fizz', 28, 29, 'fizzbuzz', 31, 32, 'fizz', 34,\n",
       "       'buzz', 'fizz', 37, 38, 'fizz', 'buzz', 41, 'fizz', 43, 44,\n",
       "       'fizzbuzz', 46, 47, 'fizz', 49, 'buzz', 'fizz', 52, 53, 'fizz',\n",
       "       'buzz', 56, 'fizz', 58, 59, 'fizzbuzz', 61, 62, 'fizz', 64, 'buzz',\n",
       "       'fizz', 67, 68, 'fizz', 'buzz', 71, 'fizz', 73, 74, 'fizzbuzz', 76,\n",
       "       77, 'fizz', 79, 'buzz', 'fizz', 82, 83, 'fizz', 'buzz', 86, 'fizz',\n",
       "       88, 89, 'fizzbuzz', 91, 92, 'fizz', 94, 'buzz', 'fizz', 97, 98,\n",
       "       'fizz', 'buzz', 101], dtype=object)"
      ]
     },
     "metadata": {},
     "execution_count": 102
    }
   ],
   "source": [
    "N  = 100\n",
    "ret = np.full((N + 1), \"\", dtype = np.object)\n",
    "ret[2::3] += \"fizz\"\n",
    "ret[4::5] += \"buzz\"\n",
    "ret[ret == \"\"] = (1 + np.where(ret == \"\")[0]).astype(np.object)\n",
    "ret"
   ]
  },
  {
   "source": [
    "### question 08\n"
   ],
   "cell_type": "markdown",
   "metadata": {}
  },
  {
   "cell_type": "code",
   "execution_count": 148,
   "metadata": {},
   "outputs": [
    {
     "output_type": "execute_result",
     "data": {
      "text/plain": [
       "array([1, 2, 'あほ', 4, 5, 'あほ', 7, 8, 'あほ', 10, 11, 'あほ', 'あほ', 14, 'あほ',\n",
       "       16, 17, 'あほ', 19, 20, 'あほ', 22, 'あほ', 'あほ', 25, 26, 'あほ', 28, 29,\n",
       "       'あほ', 'あほ', 'あほ', 'あほ', 'あほ', 'あほ', 'あほ', 'あほ', 'あほ', 'あほ', 40, 41,\n",
       "       'あほ', 'あほ', 44, 'あほ', 46, 47, 'あほ', 49, 50, 'あほ', 52, 'あほ', 'あほ',\n",
       "       55, 56, 'あほ', 58, 59, 'あほ', 61, 62, 'あほ', 64, 65, 'あほ', 67, 68,\n",
       "       'あほ', 70, 71, 'あほ', 'あほ', 74, 'あほ', 76, 77, 'あほ', 79, 80, 'あほ', 82,\n",
       "       'あほ', 'あほ', 85, 86, 'あほ', 88, 89, 'あほ', 91, 92, 'あほ', 94, 95, 'あほ',\n",
       "       97, 98, 'あほ', 100], dtype=object)"
      ]
     },
     "metadata": {},
     "execution_count": 148
    }
   ],
   "source": [
    "import re\n",
    "reg = re.compile(\"3\")\n",
    "N   = 100\n",
    "ret = np.arange(1, N + 1, dtype = np.object)\n",
    "ret[2::3] = \"あほ\"\n",
    "for i in range(N):\n",
    "    if reg.search(str(ret[i])):\n",
    "        ret[i] = \"あほ\"\n",
    "\n",
    "ret"
   ]
  },
  {
   "cell_type": "code",
   "execution_count": null,
   "metadata": {},
   "outputs": [],
   "source": []
  }
 ]
}